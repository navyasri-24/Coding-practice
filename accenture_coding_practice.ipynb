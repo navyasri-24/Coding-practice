{
  "cells": [
    {
      "cell_type": "code",
      "execution_count": null,
      "metadata": {
        "colab": {
          "base_uri": "https://localhost:8080/"
        },
        "id": "Kmi8iZh7v5YH",
        "outputId": "8f0449bc-ec5c-4b0d-c4d9-d2b921315136"
      },
      "outputs": [
        {
          "name": "stdout",
          "output_type": "stream",
          "text": [
            "76767\n",
            "positive\n"
          ]
        }
      ],
      "source": [
        "#14-07-2024\n",
        "#getting started\n",
        "#positive or negative number\n",
        "a=int(input())\n",
        "if a>=0:\n",
        "  print(\"positive\")\n",
        "else:\n",
        "  print(\"negative\")"
      ]
    },
    {
      "cell_type": "code",
      "execution_count": null,
      "metadata": {
        "id": "2t8MMnfZ6CiJ"
      },
      "outputs": [],
      "source": [
        "num=int(input())\n",
        "m=int(input())\n",
        "if num%m==0:\n",
        "  print(num,m)\n",
        "else:\n",
        "  next=num+(m-num%m)\n",
        "  print(next)"
      ]
    },
    {
      "cell_type": "code",
      "execution_count": null,
      "metadata": {
        "colab": {
          "base_uri": "https://localhost:8080/"
        },
        "id": "h9smsWbZNDJ_",
        "outputId": "1d2faf3e-2ea2-4f02-a28e-f2507ef1765f"
      },
      "outputs": [
        {
          "name": "stdout",
          "output_type": "stream",
          "text": [
            "12378\n"
          ]
        },
        {
          "data": {
            "text/plain": [
              "11"
            ]
          },
          "execution_count": 6,
          "metadata": {},
          "output_type": "execute_result"
        }
      ],
      "source": [
        "#sum of odd digits and sum of even digits\n",
        "def evenodd(n):\n",
        "  d=str(n)\n",
        "  sum_odd=0\n",
        "  sum_even=0\n",
        "  for i in d:\n",
        "    if int(i)%2==0:\n",
        "      sum_even+=int(i)\n",
        "    else:\n",
        "      sum_odd+=int(i)\n",
        "  if sum_even>sum_odd:\n",
        "    return sum_even\n",
        "  else:\n",
        "    return sum_odd\n",
        "n=int(input())\n",
        "evenodd(n)"
      ]
    },
    {
      "cell_type": "code",
      "execution_count": null,
      "metadata": {
        "colab": {
          "base_uri": "https://localhost:8080/"
        },
        "id": "y1WJr6iE9G4x",
        "outputId": "bdf4cc06-11cd-464e-f751-3d0acefeb34b"
      },
      "outputs": [
        {
          "name": "stdout",
          "output_type": "stream",
          "text": [
            "5\n",
            "2\n"
          ]
        },
        {
          "data": {
            "text/plain": [
              "60"
            ]
          },
          "execution_count": 3,
          "metadata": {},
          "output_type": "execute_result"
        }
      ],
      "source": [
        "def factorial(n,m):\n",
        "  fact1=1\n",
        "  fact2=1\n",
        "  if m<=n and n-m<=10:\n",
        "    for i in range(1,n+1):\n",
        "      fact1*=i\n",
        "    for j in range(1,m+1):\n",
        "      fact2*=j\n",
        "  return fact1//fact2\n",
        "n=int(input())\n",
        "m=int(input())\n",
        "factorial(n,m)"
      ]
    },
    {
      "cell_type": "code",
      "execution_count": null,
      "metadata": {
        "colab": {
          "base_uri": "https://localhost:8080/"
        },
        "id": "mCcWWnD09wwN",
        "outputId": "826c7e1a-2a69-4c94-ef68-014ce2ec4779"
      },
      "outputs": [
        {
          "name": "stdout",
          "output_type": "stream",
          "text": [
            "5\n",
            "2\n"
          ]
        },
        {
          "data": {
            "text/plain": [
              "60"
            ]
          },
          "execution_count": 4,
          "metadata": {},
          "output_type": "execute_result"
        }
      ],
      "source": [
        "import math\n",
        "def factorial(n,m):\n",
        "  fact1=1\n",
        "  fact2=1\n",
        "  if m<=n and n-m<=10:\n",
        "    fact1=math.factorial(n)\n",
        "    fact2=math.factorial(m)\n",
        "  return fact1//fact2\n",
        "n=int(input())\n",
        "m=int(input())\n",
        "factorial(n,m)"
      ]
    },
    {
      "cell_type": "code",
      "execution_count": null,
      "metadata": {
        "colab": {
          "base_uri": "https://localhost:8080/"
        },
        "id": "QTD-l8wFwjCn",
        "outputId": "5671d9e6-3944-4ca2-d848-a8249b32bef9"
      },
      "outputs": [
        {
          "name": "stdout",
          "output_type": "stream",
          "text": [
            "8787\n",
            "odd\n"
          ]
        }
      ],
      "source": [
        "#even or odd\n",
        "a=int(input())\n",
        "if a%2==0:\n",
        "  print(\"even\")\n",
        "else:\n",
        "  print(\"odd\")"
      ]
    },
    {
      "cell_type": "code",
      "execution_count": null,
      "metadata": {
        "colab": {
          "base_uri": "https://localhost:8080/"
        },
        "id": "ffPRE2I6w4NC",
        "outputId": "a4ac955b-3714-47c8-fe88-2393c771f0ca"
      },
      "outputs": [
        {
          "name": "stdout",
          "output_type": "stream",
          "text": [
            "enter no of natural numbers:10\n",
            "55\n"
          ]
        }
      ],
      "source": [
        "#sum of first n natural numbers\n",
        "n=int(input(\"enter no of natural numbers:\"))\n",
        "sum=0\n",
        "for i in range(1,n+1):\n",
        "  sum+=i\n",
        "print(sum)"
      ]
    },
    {
      "cell_type": "code",
      "execution_count": null,
      "metadata": {
        "colab": {
          "base_uri": "https://localhost:8080/"
        },
        "id": "ROQm0uJRw4c4",
        "outputId": "485b173a-4717-4313-9bc1-adf53e660c52"
      },
      "outputs": [
        {
          "name": "stdout",
          "output_type": "stream",
          "text": [
            "enter range:9\n",
            "45\n"
          ]
        }
      ],
      "source": [
        "#sum of numbers in given range\n",
        "n=int(input(\"enter range:\"))\n",
        "sum=0\n",
        "for i in range(n+1):\n",
        "  sum+=i\n",
        "print(sum)"
      ]
    },
    {
      "cell_type": "code",
      "execution_count": null,
      "metadata": {
        "colab": {
          "base_uri": "https://localhost:8080/"
        },
        "id": "xdFvH_qbw4iW",
        "outputId": "101d76f0-80a7-4c74-fd3a-7b14d69817fd"
      },
      "outputs": [
        {
          "name": "stdout",
          "output_type": "stream",
          "text": [
            "665\n",
            "8989\n",
            "b is greater\n"
          ]
        }
      ],
      "source": [
        "#greatest of 2 numbers\n",
        "a=int(input())\n",
        "b=int(input())\n",
        "if a>b:\n",
        "  print(\"a is greater\")\n",
        "else:\n",
        "  print(\"b is greater\")"
      ]
    },
    {
      "cell_type": "code",
      "execution_count": null,
      "metadata": {
        "colab": {
          "base_uri": "https://localhost:8080/"
        },
        "id": "1EEUwEAow4lE",
        "outputId": "b716c8a1-5fce-4f14-aa82-2410167187ed"
      },
      "outputs": [
        {
          "name": "stdout",
          "output_type": "stream",
          "text": [
            "4556\n",
            "leap year\n"
          ]
        }
      ],
      "source": [
        "#leap year or not\n",
        "\"\"\" year divisible ny 4 and century years divisible by 100,400\"\"\"\n",
        "year=int(input())\n",
        "if year%4==0:\n",
        "  if year%100==0:\n",
        "    if year%400==0:\n",
        "      print(\"leap year\")\n",
        "    else:\n",
        "      print(\"not leap\")\n",
        "  else:\n",
        "    print(\"leap year\")\n",
        "else:\n",
        "  print(\"not leap\")\n",
        "\n"
      ]
    },
    {
      "cell_type": "code",
      "execution_count": null,
      "metadata": {
        "colab": {
          "base_uri": "https://localhost:8080/"
        },
        "id": "4pqGlMmlw4nW",
        "outputId": "48e0afa3-3883-400c-f974-369fee398999"
      },
      "outputs": [
        {
          "name": "stdout",
          "output_type": "stream",
          "text": [
            "enter a number:29\n",
            "prime\n"
          ]
        }
      ],
      "source": [
        "#15-07-2024\n",
        "#prime number\n",
        "#divisible by 1 and itself\n",
        "num=int(input(\"enter a number:\"))\n",
        "flag=0\n",
        "for i in range(2,num):\n",
        "  if num%i==0:\n",
        "    flag=1\n",
        "    break\n",
        "if flag==1:\n",
        "  print(\"not prime\")\n",
        "else:\n",
        "  print(\"prime\")"
      ]
    },
    {
      "cell_type": "code",
      "execution_count": null,
      "metadata": {
        "colab": {
          "base_uri": "https://localhost:8080/"
        },
        "id": "yPyGH85XSW-S",
        "outputId": "52d88bc5-a2af-40cf-895e-341ff74eee65"
      },
      "outputs": [
        {
          "name": "stdout",
          "output_type": "stream",
          "text": [
            "1 2 3 4 5\n",
            "5\n",
            "oddevenoddevenodd"
          ]
        }
      ],
      "source": [
        "#print even and odd sequence of an array\n",
        "arr=list(map(int,input().split()))\n",
        "n=int(input())\n",
        "if n==len(arr):\n",
        "  for i in arr:\n",
        "    if i%2==0:\n",
        "      print(\"even\",end=\"\")\n",
        "    else:\n",
        "      print(\"odd\",end=\"\")\n"
      ]
    },
    {
      "cell_type": "code",
      "execution_count": null,
      "metadata": {
        "id": "W0wBbhssTyX3"
      },
      "outputs": [],
      "source": [
        "#permutations of a string by fixing vowels and print remaining permutation\n",
        "import math\n",
        "def permutation(s):\n",
        "  d=\"aeiouAEIOU\"\n",
        "  if i not in d:\n",
        "    for i in s:\n",
        "      w=math.factorial(n)//math.factorial(n-r)\n",
        "\n"
      ]
    },
    {
      "cell_type": "code",
      "execution_count": null,
      "metadata": {
        "id": "AVVKOWD5WCvx"
      },
      "outputs": [],
      "source": []
    },
    {
      "cell_type": "code",
      "execution_count": null,
      "metadata": {
        "colab": {
          "base_uri": "https://localhost:8080/"
        },
        "id": "j1f6G6TOw4pr",
        "outputId": "782653b1-354d-4e24-bae8-41752b64dc8d"
      },
      "outputs": [
        {
          "name": "stdout",
          "output_type": "stream",
          "text": [
            "50\n",
            "2 3 5 7 11 13 17 19 23 29 31 37 41 43 47 "
          ]
        }
      ],
      "source": [
        "#prime numbers on given range\n",
        "num=int(input())\n",
        "for i in range(2,num+1):\n",
        "  count=0\n",
        "  for j in range(1,i+1):\n",
        "    if i%j==0:\n",
        "        count=count+1\n",
        "  if count==2:\n",
        "    print(i,end=\" \")\n",
        "\n"
      ]
    },
    {
      "cell_type": "code",
      "execution_count": null,
      "metadata": {
        "colab": {
          "base_uri": "https://localhost:8080/"
        },
        "id": "WRl7TRziw4tN",
        "outputId": "8e6f3f76-284b-4fef-bd9e-d64d044e2fd8"
      },
      "outputs": [
        {
          "name": "stdout",
          "output_type": "stream",
          "text": [
            "123\n",
            "6\n"
          ]
        }
      ],
      "source": [
        "#sum of digits\n",
        "num=int(input())\n",
        "hehe=str(num)\n",
        "sum=0\n",
        "for i in hehe:\n",
        "  sum+=int(i)\n",
        "print(sum)"
      ]
    },
    {
      "cell_type": "code",
      "execution_count": null,
      "metadata": {
        "colab": {
          "base_uri": "https://localhost:8080/"
        },
        "id": "n4QV0_lAF1bz",
        "outputId": "26fd7b40-4b49-4ff0-f4c3-5f739e84a606"
      },
      "outputs": [
        {
          "name": "stdout",
          "output_type": "stream",
          "text": [
            "123\n",
            "321\n"
          ]
        }
      ],
      "source": [
        "#reverse a number\n",
        "num=int(input())\n",
        "temp=num\n",
        "rev=0\n",
        "while num>0:\n",
        "  rem=num%10\n",
        "  rev=(rev*10)+rem\n",
        "  num=num//10\n",
        "print(rev)"
      ]
    },
    {
      "cell_type": "code",
      "execution_count": null,
      "metadata": {
        "colab": {
          "base_uri": "https://localhost:8080/"
        },
        "id": "Dx72ll0GMvD9",
        "outputId": "ec7d28d9-968c-4908-838b-76d3af6d2650"
      },
      "outputs": [
        {
          "name": "stdout",
          "output_type": "stream",
          "text": [
            "1 2 3 4 5 6 7\n",
            "13\n"
          ]
        }
      ],
      "source": [
        "#print sum of prime numbers in a array\n",
        "def prime(n):\n",
        "  if n<=1:\n",
        "    return False\n",
        "  for i in range(2,n):\n",
        "    if n%2==0:\n",
        "      return False\n",
        "  return True\n",
        "arr=list(map(int,input().split()))\n",
        "sum=0\n",
        "for i in range(len(arr)):\n",
        "  if prime(i):\n",
        "    sum+=arr[i]\n",
        "print(sum)\n"
      ]
    },
    {
      "cell_type": "code",
      "execution_count": null,
      "metadata": {
        "colab": {
          "base_uri": "https://localhost:8080/"
        },
        "id": "JCw8IDr_tBMI",
        "outputId": "ed0cc62f-1e35-4d33-bd14-1e9f7f450ffa"
      },
      "outputs": [
        {
          "output_type": "stream",
          "name": "stdout",
          "text": [
            "84\n",
            "8\n",
            "80\n"
          ]
        }
      ],
      "source": [
        "num=int(input())\n",
        "m=int(input())\n",
        "d=num%m\n",
        "if d==0:\n",
        "  print(num)\n",
        "else:\n",
        "  if d>m//2:\n",
        "    m=m-d\n",
        "    num=num+m\n",
        "    print(num)\n",
        "  else:\n",
        "    num=num-d\n",
        "    print(num)\n"
      ]
    },
    {
      "cell_type": "code",
      "execution_count": null,
      "metadata": {
        "colab": {
          "base_uri": "https://localhost:8080/"
        },
        "id": "C6Kx0H_lefvE",
        "outputId": "9d7e0ce7-6ba4-41aa-c344-6aa67e92ed53"
      },
      "outputs": [
        {
          "name": "stdout",
          "output_type": "stream",
          "text": [
            "Output: 3\n"
          ]
        }
      ],
      "source": [
        "# Given array\n",
        "arr = [35, 9, 65]\n",
        "\n",
        "# Initialize the counter\n",
        "count = 0\n",
        "\n",
        "# Loop through all possible pairs (x, y) where x and y are distinct and positive integers\n",
        "for z in arr:\n",
        "    found = False\n",
        "    for x in range(1, int(z**(1/3)) + 2):  # possible values of x up to the cube root of z\n",
        "        for y in range(1, x):  # possible values of y up to x (ensuring y < x)\n",
        "            if x**3 + y**3 == z:\n",
        "                count += 1\n",
        "                found = True\n",
        "                break\n",
        "        if found:\n",
        "            break\n",
        "\n",
        "print(\"Output:\", count)\n"
      ]
    },
    {
      "cell_type": "code",
      "execution_count": null,
      "metadata": {
        "colab": {
          "base_uri": "https://localhost:8080/"
        },
        "id": "4UPWl8-JGSfa",
        "outputId": "e24b5be3-6b43-4da1-aaa9-ea95dac973d8"
      },
      "outputs": [
        {
          "name": "stdout",
          "output_type": "stream",
          "text": [
            "121\n",
            "palindrome\n"
          ]
        }
      ],
      "source": [
        "2#palindrome\n",
        "#rev==num then palindrome\n",
        "num=int(input())\n",
        "temp=num\n",
        "rev=0\n",
        "while num>0:\n",
        "  rem=num%10\n",
        "  rev=(rev*10)+rem\n",
        "  num=num//10\n",
        "if rev==temp:\n",
        "  print(\"palindrome\")\n",
        "else:\n",
        "  print(\"not palindrome\")"
      ]
    },
    {
      "cell_type": "code",
      "execution_count": null,
      "metadata": {
        "colab": {
          "base_uri": "https://localhost:8080/"
        },
        "id": "6ZPEX1w5H2jo",
        "outputId": "e50eb98b-7187-4a76-bf83-5a9f80b2c5fa"
      },
      "outputs": [
        {
          "name": "stdout",
          "output_type": "stream",
          "text": [
            "153\n",
            "armstrong\n"
          ]
        }
      ],
      "source": [
        "#armstrong number\n",
        "#no of digits will be powerded individually and sum\n",
        "#153=1cube +5cube +3cube=153\n",
        "num=int(input())\n",
        "temp=num\n",
        "sum=0\n",
        "length=len(str(num))\n",
        "while num>0:\n",
        "  rem=num%10\n",
        "  sum+=rem**length\n",
        "  num=num//10\n",
        "if sum==temp:\n",
        "  print(\"armstrong\")\n",
        "else:\n",
        "  print(\"not armstrong\")\n"
      ]
    },
    {
      "cell_type": "code",
      "execution_count": null,
      "metadata": {
        "colab": {
          "base_uri": "https://localhost:8080/"
        },
        "id": "q1Pa-NONJe-R",
        "outputId": "5185a6ce-f213-4c42-d5a9-2acbcb9cef31"
      },
      "outputs": [
        {
          "name": "stdout",
          "output_type": "stream",
          "text": [
            "1000\n",
            "153\n",
            "370\n",
            "371\n",
            "407\n"
          ]
        }
      ],
      "source": [
        "#armstrong number in given range\n",
        "num=int(input())\n",
        "for i in range(100,num):\n",
        "  temp=i\n",
        "  order=len(str(i))\n",
        "  sum=0\n",
        "  while temp>0:\n",
        "    rem=temp%10\n",
        "    sum+=rem**order\n",
        "    temp=temp//10\n",
        "  if sum==i:\n",
        "    print(i)"
      ]
    },
    {
      "cell_type": "code",
      "execution_count": null,
      "metadata": {
        "colab": {
          "base_uri": "https://localhost:8080/"
        },
        "id": "D0faAm2gK7cl",
        "outputId": "fa691fbd-b5c4-4c1c-a605-096df3e308d0"
      },
      "outputs": [
        {
          "output_type": "stream",
          "name": "stdout",
          "text": [
            "12\n",
            "479001600\n"
          ]
        }
      ],
      "source": [
        "#factorial\n",
        "def fact(n):\n",
        "  fact=1\n",
        "  for i in range(1,n+1):\n",
        "    fact=fact*i\n",
        "  return fact\n",
        "n=int(input())\n",
        "print(fact(n))"
      ]
    },
    {
      "cell_type": "code",
      "execution_count": null,
      "metadata": {
        "colab": {
          "base_uri": "https://localhost:8080/"
        },
        "id": "H0fqiGBWL6ed",
        "outputId": "f74e0db6-56f9-47c3-a699-f359026b5dfe"
      },
      "outputs": [
        {
          "name": "stdout",
          "output_type": "stream",
          "text": [
            "enter numbers6\n",
            "2\n",
            "3\n",
            "5\n",
            "8\n",
            "13\n",
            "21\n"
          ]
        }
      ],
      "source": [
        "#fibonacci series for given range\n",
        "#swaping of previous two terms\n",
        "n=int(input(\"enter numbers\"))\n",
        "n1=int(input())\n",
        "n2=int(input())\n",
        "count=2\n",
        "if n<0:\n",
        "  print(\"enter +ve values\")\n",
        "if n==1:\n",
        "  print(n1)\n",
        "else:\n",
        "  while count<n:\n",
        "    n3=n1+n2\n",
        "    print(n3)\n",
        "    count+=1\n",
        "    n1=n2\n",
        "    n2=n3"
      ]
    },
    {
      "cell_type": "code",
      "execution_count": null,
      "metadata": {
        "colab": {
          "base_uri": "https://localhost:8080/"
        },
        "id": "pADDt-MDf2M_",
        "outputId": "842f85d1-4564-4d38-d7d9-03418bc21382"
      },
      "outputs": [
        {
          "name": "stdout",
          "output_type": "stream",
          "text": [
            "10\n",
            "34\n"
          ]
        }
      ],
      "source": [
        "#fibonacci series of nth term\n",
        "def fibonacci(n):\n",
        "  if n<=0:\n",
        "    return \"invalid input\"\n",
        "  elif n==1:\n",
        "    return 0\n",
        "  elif n==2:\n",
        "    return 1\n",
        "  else:\n",
        "    return fibonacci(n-1)+fibonacci(n-2)\n",
        "n=int(input())\n",
        "print(fibonacci(n))"
      ]
    },
    {
      "cell_type": "code",
      "execution_count": null,
      "metadata": {
        "colab": {
          "base_uri": "https://localhost:8080/"
        },
        "id": "Q-ejBM6ZSR9b",
        "outputId": "8adbc2fd-3a42-4db5-9b67-a1e70a736f75"
      },
      "outputs": [
        {
          "name": "stdout",
          "output_type": "stream",
          "text": [
            "4\n",
            "3\n",
            "64\n"
          ]
        }
      ],
      "source": [
        "#power number\n",
        "n=int(input())\n",
        "power=int(input())\n",
        "print(n**power)"
      ]
    },
    {
      "cell_type": "code",
      "execution_count": null,
      "metadata": {
        "colab": {
          "base_uri": "https://localhost:8080/"
        },
        "id": "7MlkoUKISac4",
        "outputId": "8637d337-1a31-4bcc-c90f-97bc5828dbd1"
      },
      "outputs": [
        {
          "name": "stdout",
          "output_type": "stream",
          "text": [
            "10\n",
            "1\n",
            "2\n",
            "5\n",
            "10\n"
          ]
        }
      ],
      "source": [
        "#factors of a number\n",
        "num=int(input())\n",
        "for i in range(1,num+1):\n",
        "  if num%i==0:\n",
        "    print(i)"
      ]
    },
    {
      "cell_type": "code",
      "execution_count": null,
      "metadata": {
        "colab": {
          "base_uri": "https://localhost:8080/"
        },
        "id": "qXxEVN8WWCfz",
        "outputId": "63ffdfb0-ca1f-42b3-c1e2-35b8e319672b"
      },
      "outputs": [
        {
          "name": "stdout",
          "output_type": "stream",
          "text": [
            "200\n",
            "not leap\n"
          ]
        }
      ],
      "source": [
        "#leap year\n",
        "year=int(input())\n",
        "if year%4==0 and year%100!=0:\n",
        "  print(\"leap year\")\n",
        "elif year%100==0 and year%400==0:\n",
        "  print(\"leap year\")\n",
        "else:\n",
        "  print(\"not leap\")"
      ]
    },
    {
      "cell_type": "code",
      "execution_count": null,
      "metadata": {
        "colab": {
          "base_uri": "https://localhost:8080/"
        },
        "id": "m5lM1I4NYTQ1",
        "outputId": "1aabe851-9059-4e21-c141-43dabff106e1"
      },
      "outputs": [
        {
          "name": "stdout",
          "output_type": "stream",
          "text": [
            "1\n"
          ]
        }
      ],
      "source": [
        "\"\"\"You are given a function.\n",
        "int CheckPassword(char str[], int n);\n",
        "The function accepts string str of size n as an argument. Implement the function which returns 1 if given string str is valid password else 0.\n",
        "str is a valid password if it satisfies the below conditions.\n",
        "\n",
        "– At least 4 characters\n",
        "– At least one numeric digit\n",
        "– At Least one Capital Letter\n",
        "– Must not have space or slash (/)\n",
        "– Starting character must not be a number\n",
        "Assumption:\n",
        "Input string will not be empty.\n",
        "\n",
        "Example:\n",
        "\n",
        "Input 1:\n",
        "aA1_67\n",
        "Input 2:\n",
        "a987 abC012\n",
        "\n",
        "Output 1:\n",
        "1\n",
        "Output 2:\n",
        "0\"\"\"\n",
        "\n",
        "def password_check(str,n):\n",
        "  if n<4:\n",
        "    return 0\n",
        "  has_digit=False\n",
        "  has_upper=False\n",
        "  has_char_invalid=False\n",
        "\n",
        "  for i in range(n):\n",
        "    if str[i].isdigit():\n",
        "      has_digit=True\n",
        "    if str[i].isupper():\n",
        "      has_upper=True\n",
        "    if str[i]==\" \" and str[i]==\"/\":\n",
        "      has_char_invalid=True\n",
        "  if str[0].isdigit():\n",
        "    return 0\n",
        "  if has_digit and has_upper and not has_char_invalid:\n",
        "    return 1\n",
        "  return 0\n",
        "result=password_check(\"aA1_67\",6)\n",
        "print(result)\n"
      ]
    },
    {
      "cell_type": "code",
      "execution_count": null,
      "metadata": {
        "colab": {
          "base_uri": "https://localhost:8080/"
        },
        "id": "ohU9vR-MjsoG",
        "outputId": "d66b13a3-8d67-41ee-fa69-75538e40d48f"
      },
      "outputs": [
        {
          "name": "stdout",
          "output_type": "stream",
          "text": [
            "1\n",
            "0\n"
          ]
        }
      ],
      "source": [
        "\"\"\"Problem Description :\n",
        "The Binary number system only uses two digits, 0 and 1 and number system can be called binary string. You are required to implement the following function:\n",
        "\n",
        "int OperationsBinaryString(char* str);\n",
        "\n",
        "The function accepts a string str as its argument. The string str consists of binary digits eparated with an alphabet as follows:\n",
        "\n",
        "– A denotes AND operation\n",
        "– B denotes OR operation\n",
        "– C denotes XOR Operation\n",
        "You are required to calculate the result of the string str, scanning the string to right taking one opearation at a time, and return the same.\n",
        "\n",
        "Note:\n",
        "\n",
        "No order of priorities of operations is required\n",
        "Length of str is odd\n",
        "If str is NULL or None (in case of Python), return -1\n",
        "Input:\n",
        "str: 1C0C1C1A0B1\n",
        "\n",
        "Output:\n",
        "1\n",
        "\n",
        "Explanation:\n",
        "The alphabets in str when expanded becomes “1 XOR 0 XOR 1 XOR 1 AND 0 OR 1”, result of the expression becomes 1, hence 1 is returned.\n",
        "\n",
        "Sample Input:\n",
        "0C1A1B1C1C1B0A0\n",
        "\n",
        "Output:\n",
        "0\"\"\"\n",
        "def OperationsBinaryString(str):\n",
        "    if str is None:\n",
        "        return -1\n",
        "\n",
        "    n = len(str)\n",
        "    if n % 2 == 0:\n",
        "        return -1\n",
        "\n",
        "    result = int(str[0])\n",
        "\n",
        "    for i in range(1, n, 2):\n",
        "        operator = str[i]\n",
        "        next_digit = int(str[i + 1])\n",
        "\n",
        "        if operator == 'A':\n",
        "            result = result & next_digit\n",
        "        elif operator == 'B':\n",
        "            result = result | next_digit\n",
        "        elif operator == 'C':\n",
        "            result = result ^ next_digit\n",
        "\n",
        "    return result\n",
        "\n",
        "# Example Usage:\n",
        "print(OperationsBinaryString(\"1C0C1C1A0B1\"))  # Output: 1\n",
        "print(OperationsBinaryString(\"0C1A1B1C1C1B0A0\"))  # Output: 0\n",
        "\n"
      ]
    },
    {
      "cell_type": "code",
      "execution_count": null,
      "metadata": {
        "colab": {
          "base_uri": "https://localhost:8080/"
        },
        "id": "RuPkIBN-m7en",
        "outputId": "1644e8f1-5f79-45fe-fef2-a98aba92e4a3"
      },
      "outputs": [
        {
          "name": "stdout",
          "output_type": "stream",
          "text": [
            "4\n"
          ]
        }
      ],
      "source": [
        "\"\"\"Problem Description :\n",
        "The function accepts two positive integers ‘r’ and ‘unit’ and a positive integer array ‘arr’ of size ‘n’ as its argument ‘r’\n",
        "represents the number of rats present in an area, ‘unit’ is the amount of food each rat consumes and each ith element of array ‘arr’ represents\n",
        "the amount of food present in ‘i+1’ house number, where 0 <= i\n",
        "\n",
        "Note:\n",
        "\n",
        "Return -1 if the array is null\n",
        "Return 0 if the total amount of food from all houses is not sufficient for all the rats.\n",
        "Computed values lie within the integer range.\n",
        "Example:\n",
        "\n",
        "Input:\n",
        "\n",
        "r: 7\n",
        "unit: 2\n",
        "n: 8\n",
        "arr: 2 8 3 5 7 4 1 2\n",
        "Output:\n",
        "\n",
        "4\n",
        "\n",
        "Explanation:\n",
        "Total amount of food required for all rats = r * unit\n",
        "\n",
        "= 7 * 2 = 14.\n",
        "\n",
        "The amount of food in 1st houses = 2+8+3+5 = 18. Since, amount of food in 1st 4 houses is sufficient for all the rats. Thus, output is 4.\"\"\"\n",
        "\n",
        "def minimumHouses(r, unit, n, arr):\n",
        "    if arr is None:\n",
        "        return -1\n",
        "\n",
        "    required_food = r * unit\n",
        "    current_food = 0\n",
        "\n",
        "    for i in range(n):\n",
        "        current_food += arr[i]\n",
        "        if current_food >= required_food:\n",
        "            return i+1\n",
        "\n",
        "    return 0\n",
        "\n",
        "# Example Usage:\n",
        "r = 7\n",
        "unit = 2\n",
        "n = 8\n",
        "arr = [2, 8, 3, 5, 7, 4, 1, 2]\n",
        "print(minimumHouses(r, unit, n, arr))  # Output: 4\n",
        "\n"
      ]
    },
    {
      "cell_type": "code",
      "execution_count": null,
      "metadata": {
        "colab": {
          "base_uri": "https://localhost:8080/"
        },
        "id": "_Ch9I2aVpRDH",
        "outputId": "177c4ec4-7668-4510-877f-9e7e7308e82a"
      },
      "outputs": [
        {
          "name": "stdout",
          "output_type": "stream",
          "text": [
            "Element found at index 3\n"
          ]
        }
      ],
      "source": [
        "#linear search\n",
        "def linear_search(arr, target):\n",
        "    for i in range(len(arr)):\n",
        "        if arr[i] == target:\n",
        "            return i\n",
        "    return -1\n",
        "\n",
        "# Example usage\n",
        "arr = [3, 5, 2, 4, 9, 1]\n",
        "target = 4\n",
        "\n",
        "index = linear_search(arr, target)\n",
        "if index != -1:\n",
        "    print(f\"Element found at index {index}\")\n",
        "else:\n",
        "    print(\"Element not found\")\n"
      ]
    },
    {
      "cell_type": "code",
      "execution_count": null,
      "metadata": {
        "colab": {
          "base_uri": "https://localhost:8080/"
        },
        "id": "4dMDMNc5qd6s",
        "outputId": "0a459f52-461e-40d3-f8c0-9745236740c0"
      },
      "outputs": [
        {
          "name": "stdout",
          "output_type": "stream",
          "text": [
            "* * * * * \n",
            "  * * * * \n",
            "    * * * \n",
            "      * * \n",
            "        * \n"
          ]
        }
      ],
      "source": [
        "def print_pattern(rows):\n",
        "    for i in range(rows, 0, -1):\n",
        "        for j in range(0, rows - i):\n",
        "            print(\" \", end=\" \")\n",
        "\n",
        "        for k in range(0, i):\n",
        "            print(\"*\", end=\" \")\n",
        "\n",
        "        print()\n",
        "\n",
        "rows = 5\n",
        "print_pattern(rows)"
      ]
    },
    {
      "cell_type": "code",
      "execution_count": null,
      "metadata": {
        "colab": {
          "base_uri": "https://localhost:8080/"
        },
        "id": "AwKjtn_pyTnF",
        "outputId": "8db0f014-5baf-42c0-bc96-29d21ea8d12d"
      },
      "outputs": [
        {
          "name": "stdout",
          "output_type": "stream",
          "text": [
            "    *\n",
            "   ***\n",
            "  *****\n",
            " *******\n",
            "*********\n"
          ]
        }
      ],
      "source": [
        "def print_equilateral_triangle(rows):\n",
        "    for i in range(rows):\n",
        "        # Print leading spaces\n",
        "        for j in range(rows - i - 1):\n",
        "            print(\" \", end=\"\")\n",
        "\n",
        "        # Print stars\n",
        "        for k in range(2 * i + 1):\n",
        "            print(\"*\", end=\"\")\n",
        "\n",
        "        # Move to the next line\n",
        "        print()\n",
        "\n",
        "# Example usage\n",
        "rows = 5\n",
        "print_equilateral_triangle(rows)\n"
      ]
    },
    {
      "cell_type": "code",
      "execution_count": null,
      "metadata": {
        "colab": {
          "base_uri": "https://localhost:8080/"
        },
        "id": "FqSfEAKLykvd",
        "outputId": "7bdd8de3-c1fb-482b-ae34-bedb92102809"
      },
      "outputs": [
        {
          "name": "stdout",
          "output_type": "stream",
          "text": [
            "*********\n",
            " *******\n",
            "  *****\n",
            "   ***\n",
            "    *\n"
          ]
        }
      ],
      "source": [
        "def print_reverse_equilateral_triangle(rows):\n",
        "    for i in range(rows, 0, -1):\n",
        "        # Print leading spaces\n",
        "        for j in range(rows - i):\n",
        "            print(\" \", end=\"\")\n",
        "\n",
        "        # Print stars\n",
        "        for k in range(2 * i - 1):\n",
        "            print(\"*\", end=\"\")\n",
        "\n",
        "        # Move to the next line\n",
        "        print()\n",
        "\n",
        "# Example usage\n",
        "rows = 5\n",
        "print_reverse_equilateral_triangle(rows)\n"
      ]
    },
    {
      "cell_type": "code",
      "execution_count": null,
      "metadata": {
        "colab": {
          "base_uri": "https://localhost:8080/"
        },
        "id": "WMNmYd_j33fu",
        "outputId": "2ac96011-06b6-4a99-da84-e750a7dee8be"
      },
      "outputs": [
        {
          "name": "stdout",
          "output_type": "stream",
          "text": [
            "Move-Hyphens-to-Front\n",
            "---MoveHyphenstoFront\n"
          ]
        }
      ],
      "source": [
        "\"\"\"char*MoveHyphen(char str[],int n);\n",
        "\n",
        "The function accepts a string “str” of length ‘n’, that contains alphabets and hyphens (-).\n",
        "Implement the function to move all hyphens(-) in the string to the front of the given string.\n",
        "\n",
        "NOTE:- Return null if str is null.\n",
        "\n",
        "Example :-\n",
        "\n",
        "Input:\n",
        "str.Move-Hyphens-to-Front\n",
        "Output:\n",
        "—MoveHyphenstoFront\n",
        "Explanation:-\n",
        "\n",
        "The string “Move-Hyphens -to-front” has 3 hyphens (-), which are moved to the front of the string, this output is “— MoveHyphen”\n",
        "\n",
        "Sample Input\n",
        "\n",
        "Str: String-Compare\n",
        "Sample Output-\n",
        "\n",
        "-StringCompare\"\"\"\n",
        "\n",
        "string=input()\n",
        "hypen=[]\n",
        "normal=[]\n",
        "for char in string:\n",
        "  if char=='-':\n",
        "    hypen.append(char)\n",
        "  else:\n",
        "    normal.append(char)\n",
        "result=''.join(hypen+normal)\n",
        "print(result)\n",
        "\n"
      ]
    },
    {
      "cell_type": "code",
      "execution_count": null,
      "metadata": {
        "colab": {
          "base_uri": "https://localhost:8080/",
          "height": 70
        },
        "id": "ligLrawAC6H_",
        "outputId": "e8a96496-3f38-4087-fe27-b3df0fc54cae"
      },
      "outputs": [
        {
          "name": "stdout",
          "output_type": "stream",
          "text": [
            "12 \n",
            "718\n"
          ]
        },
        {
          "output_type": "execute_result",
          "data": {
            "text/plain": [
              "'4BA'"
            ],
            "application/vnd.google.colaboratory.intrinsic+json": {
              "type": "string"
            }
          },
          "metadata": {},
          "execution_count": 10
        }
      ],
      "source": [
        "\"\"\"N-base notation is a system for writing numbers that uses only n different symbols, This symbols are the first n symbols from the given notation list(Including the symbol for o) Decimal to n base notation are (0:0, 1:1, 2:2, 3:3, 4:4, 5:5, 6:6, 7:7, 8:8, 9:9, 10:A,11:B and so on upto 35:Z)\n",
        "\n",
        "Implement the following function\n",
        "\n",
        "Char* DectoNBase(int n, int num):\n",
        "\n",
        "The function accept positive integer n and num Implement the function to calculate the n-base equivalent of num and return the same as a string\n",
        "\n",
        "Steps:\n",
        "\n",
        "Divide the decimal number by n,Treat the division as the integer division\n",
        "Write the the remainder (in  n-base notation)\n",
        "Divide the quotient again by n, Treat the division as integer division\n",
        "Repeat step 2 and 3 until the quotient is 0\n",
        "The n-base value is the sequence of the remainders from last to first\n",
        "Assumption:\n",
        "1 < n < = 36\n",
        "\n",
        "Example\n",
        "\n",
        "Input\n",
        "n: 12\n",
        "num: 718\n",
        "\n",
        "Output\n",
        "4BA\n",
        "\n",
        "Explanation\n",
        "num       Divisor       quotient       remainder\n",
        "718           12               59                 10(A)\n",
        "59             12                4                   11(B)\n",
        "4               12                0                   4(4)\n",
        "\n",
        "Sample Input\n",
        "n: 21\n",
        "num: 5678\n",
        "\n",
        "Sample Output\n",
        "CI8\"\"\"\n",
        "def decode(n,num):\n",
        "\n",
        "  result=[]\n",
        "  alpha=\"0123456789ABCDEFGHIJKLMNOPQRSTUVWXYZ\"\n",
        "  if 1<n<=36:\n",
        "    while num>0:\n",
        "      rem=num%n\n",
        "      result.append(alpha[rem])\n",
        "      num=num//n\n",
        "    return ''.join(result[::-1])\n",
        "  else:\n",
        "    return \"\"\n",
        "n=int(input())\n",
        "num=int(input())\n",
        "decode(n,num)\n",
        "\n",
        "\n"
      ]
    },
    {
      "cell_type": "code",
      "execution_count": null,
      "metadata": {
        "colab": {
          "base_uri": "https://localhost:8080/"
        },
        "id": "VXPWI98jFCp2",
        "outputId": "7c24e10e-df3f-4d19-e6d0-d365d9be4c89"
      },
      "outputs": [
        {
          "name": "stdout",
          "output_type": "stream",
          "text": [
            "56\n",
            "[2, 2, 2, 7]\n"
          ]
        }
      ],
      "source": [
        "#prime factors of a number\n",
        "n=int(input())\n",
        "divisor=2\n",
        "factor=[]\n",
        "while n>1:\n",
        "  while n%divisor==0:\n",
        "    factor.append(divisor)\n",
        "    n=n//divisor\n",
        "  divisor+=1\n",
        "print(factor)\n"
      ]
    },
    {
      "cell_type": "code",
      "execution_count": null,
      "metadata": {
        "colab": {
          "base_uri": "https://localhost:8080/"
        },
        "id": "yr2lyWqgoxBK",
        "outputId": "73ed226d-8e53-4137-ffd9-53655bfac55d"
      },
      "outputs": [
        {
          "name": "stdout",
          "output_type": "stream",
          "text": [
            "145\n",
            "strong number\n"
          ]
        }
      ],
      "source": [
        "#strong number\n",
        "#145=1!+4!+5!\n",
        "import math\n",
        "n=int(input())\n",
        "d=str(n)\n",
        "sum=0\n",
        "\n",
        "for i in d:\n",
        "  sum+=math.factorial(int(i))\n",
        "if sum==n:\n",
        "  print(\"strong number\")\n",
        "else:\n",
        "  print(\"not strong number\")\n"
      ]
    },
    {
      "cell_type": "code",
      "execution_count": null,
      "metadata": {
        "colab": {
          "base_uri": "https://localhost:8080/"
        },
        "id": "PS_nMQw2p8nT",
        "outputId": "d800c96e-2ea5-475d-bc16-4ef246874c6d"
      },
      "outputs": [
        {
          "name": "stdout",
          "output_type": "stream",
          "text": [
            "6\n",
            "perfect number\n"
          ]
        }
      ],
      "source": [
        "#perfect number\n",
        "#factors of that numbers sum is equal to that number\n",
        "#6=1+2+3\n",
        "num=int(input())\n",
        "sum=0\n",
        "for i in range(1,num):\n",
        "  if num%i==0:\n",
        "    sum+=i\n",
        "if sum==num:\n",
        "  print(\"perfect number\")\n",
        "else:\n",
        "  print(\"not perfect number\")\n"
      ]
    },
    {
      "cell_type": "code",
      "execution_count": null,
      "metadata": {
        "colab": {
          "base_uri": "https://localhost:8080/"
        },
        "id": "lCUbaBhhrgXe",
        "outputId": "1e9f3ae7-3483-4167-c109-d0a5de15571a"
      },
      "outputs": [
        {
          "name": "stdout",
          "output_type": "stream",
          "text": [
            "76\n",
            "automorphic number\n"
          ]
        }
      ],
      "source": [
        "#automorphic number\n",
        "#power of that numbers last digit is equal to that number\n",
        "#5**2=25 and end with 5\n",
        "n=int(input())\n",
        "d=n**2\n",
        "s=str(d)\n",
        "t=str(n)\n",
        "if s.endswith(t):\n",
        "  print(\"automorphic number\")\n",
        "else:\n",
        "  print(\"not automorphic number\")"
      ]
    },
    {
      "cell_type": "code",
      "execution_count": null,
      "metadata": {
        "colab": {
          "base_uri": "https://localhost:8080/"
        },
        "id": "-lkBh1kNsSYe",
        "outputId": "c9ac3b7f-b6ad-4b5c-a66b-d1636ed3aa20"
      },
      "outputs": [
        {
          "name": "stdout",
          "output_type": "stream",
          "text": [
            "18\n",
            "harshad number\n"
          ]
        }
      ],
      "source": [
        "#harshad number\n",
        "#sum of that number is divisible by that number\n",
        "#18=1+8=9 which is divisible by 18\n",
        "n=int(input())\n",
        "s=str(n)\n",
        "sum=0\n",
        "for i in s:\n",
        "  sum+=int(i)\n",
        "if n%sum==0:\n",
        "  print(\"harshad number\")\n",
        "else:\n",
        "  print(\"not harshad number\")\n"
      ]
    },
    {
      "cell_type": "code",
      "execution_count": null,
      "metadata": {
        "colab": {
          "base_uri": "https://localhost:8080/"
        },
        "id": "KkJW0dIwtrs2",
        "outputId": "ddf9d8f8-255f-40bd-a785-99f4b3e22e4f"
      },
      "outputs": [
        {
          "name": "stdout",
          "output_type": "stream",
          "text": [
            "12\n",
            "Abundant number\n"
          ]
        }
      ],
      "source": [
        "#Abundant number\n",
        "#sum of the factors of that number is greater than to that number\n",
        "#12=1+2+3+4+6>12\n",
        "n=int(input())\n",
        "sum=0\n",
        "for i in range(1,n):\n",
        "  if n%i:\n",
        "    sum+=i\n",
        "if sum>n:\n",
        "  print(\"Abundant number\")\n",
        "else:\n",
        "  print(\"Not Abundant number\")"
      ]
    },
    {
      "cell_type": "code",
      "execution_count": null,
      "metadata": {
        "colab": {
          "base_uri": "https://localhost:8080/"
        },
        "id": "JuLKYvqYuZCG",
        "outputId": "7ea2b043-653d-4b2c-c09e-75ae50969b30"
      },
      "outputs": [
        {
          "name": "stdout",
          "output_type": "stream",
          "text": [
            "220\n",
            "284\n",
            "friendly pair\n"
          ]
        }
      ],
      "source": [
        "#friendly pairs\n",
        "#sum of factors of 1st number is equal to 2nd number and vice versa\n",
        "a=int(input())\n",
        "b=int(input())\n",
        "sum1=0\n",
        "sum2=0\n",
        "for i in range(1,a):\n",
        "  if a%i==0:\n",
        "    sum1+=i\n",
        "for j in range(1,b):\n",
        "  if b%j==0:\n",
        "    sum2+=j\n",
        "if sum1==b and sum2==a and a!=b:\n",
        "  print(\"friendly pair\")\n",
        "else:\n",
        "  print(\"not friendly pair\")"
      ]
    },
    {
      "cell_type": "markdown",
      "metadata": {
        "id": "TFEumgaz0oiN"
      },
      "source": [
        "**working with numbers**"
      ]
    },
    {
      "cell_type": "code",
      "execution_count": null,
      "metadata": {
        "colab": {
          "base_uri": "https://localhost:8080/"
        },
        "id": "XMdmMj3nvXjo",
        "outputId": "d9d9c5ac-ebe3-4c60-b752-bc16bfb114db"
      },
      "outputs": [
        {
          "name": "stdout",
          "output_type": "stream",
          "text": [
            "12\n",
            "16\n",
            "4\n"
          ]
        }
      ],
      "source": [
        "#hcf\n",
        "import math\n",
        "n=int(input())\n",
        "b=int(input())\n",
        "print(math.gcd(n,b))"
      ]
    },
    {
      "cell_type": "code",
      "execution_count": null,
      "metadata": {
        "colab": {
          "base_uri": "https://localhost:8080/"
        },
        "id": "plvjh7s36nX5",
        "outputId": "a54c0d8c-d6c2-44ab-8513-c25773b6bd14"
      },
      "outputs": [
        {
          "name": "stdout",
          "output_type": "stream",
          "text": [
            "12\n",
            "16\n",
            "4\n"
          ]
        }
      ],
      "source": [
        "#gcd\n",
        "a=int(input())\n",
        "b=int(input())\n",
        "while b:\n",
        "  a,b=b,a%b\n",
        "print(a)\n"
      ]
    },
    {
      "cell_type": "code",
      "execution_count": null,
      "metadata": {
        "colab": {
          "base_uri": "https://localhost:8080/"
        },
        "id": "S-gK1ZqX3PvY",
        "outputId": "cb0ccb71-b491-4c4c-be59-634d7f780ba9"
      },
      "outputs": [
        {
          "name": "stdout",
          "output_type": "stream",
          "text": [
            "12\n",
            "16\n",
            "LCM is  48\n"
          ]
        }
      ],
      "source": [
        "#lcm\n",
        "import math\n",
        "a=int(input())\n",
        "b=int(input())\n",
        "c=math.gcd(a,b)\n",
        "print(\"LCM is \",(a*b)//c)"
      ]
    },
    {
      "cell_type": "code",
      "execution_count": null,
      "metadata": {
        "id": "t-3K_Djy6mQ3"
      },
      "outputs": [],
      "source": []
    },
    {
      "cell_type": "code",
      "execution_count": null,
      "metadata": {
        "colab": {
          "base_uri": "https://localhost:8080/"
        },
        "id": "_Xg7ULwr4RG6",
        "outputId": "7c4ee595-b0dc-4cb7-f962-d4d3df3ddcfc"
      },
      "outputs": [
        {
          "name": "stdout",
          "output_type": "stream",
          "text": [
            "1010\n",
            "10\n"
          ]
        }
      ],
      "source": [
        "#convert binary to decimal\n",
        "import math\n",
        "\n",
        "s=input()\n",
        "list1=list(s)\n",
        "list1.reverse()\n",
        "sum=0\n",
        "for i in range(len(list1)):\n",
        "  sum=sum+int(list1[i])*2**i\n",
        "print(sum)\n",
        "\n"
      ]
    },
    {
      "cell_type": "code",
      "execution_count": null,
      "metadata": {
        "colab": {
          "base_uri": "https://localhost:8080/"
        },
        "id": "AnsF829N5tYl",
        "outputId": "058ff515-94ec-41d7-ffb8-3744ed88ce4e"
      },
      "outputs": [
        {
          "name": "stdout",
          "output_type": "stream",
          "text": [
            "12\n",
            "3\n",
            "4\n",
            "(-18+81.1664955508121j) (-18-81.1664955508121j)\n"
          ]
        }
      ],
      "source": [
        "#roots of quadratic equation\n",
        "import cmath\n",
        "a=float(input())\n",
        "b=float(input())\n",
        "c=float(input())\n",
        "det=(b**2)-(4*a*c)\n",
        "root1=(-b+cmath.sqrt(det))/2*a\n",
        "root2=(-b-cmath.sqrt(det))/2*a\n",
        "print(root1,root2)"
      ]
    },
    {
      "cell_type": "code",
      "execution_count": null,
      "metadata": {
        "colab": {
          "base_uri": "https://localhost:8080/"
        },
        "id": "uFEJbMGd7NxS",
        "outputId": "378d886e-682e-466a-c84f-d6aa11383b80"
      },
      "outputs": [
        {
          "name": "stdout",
          "output_type": "stream",
          "text": [
            "Enter year: 2024\n",
            "Enter month (1-12): 2\n",
            "The number of days in February 2024 is 29.\n"
          ]
        }
      ],
      "source": [
        "import calendar\n",
        "\n",
        "def days_in_month(year, month):\n",
        "    \"\"\"Returns the number of days in a given month of a given year.\"\"\"\n",
        "    return calendar.monthrange(year, month)[1]\n",
        "\n",
        "# Input from the user\n",
        "year = int(input(\"Enter year: \"))\n",
        "month = int(input(\"Enter month (1-12): \"))\n",
        "\n",
        "# Get the number of days in the given month and year\n",
        "number_of_days = days_in_month(year, month)\n",
        "\n",
        "print(f\"The number of days in {calendar.month_name[month]} {year} is {number_of_days}.\")\n"
      ]
    },
    {
      "cell_type": "code",
      "execution_count": null,
      "metadata": {
        "colab": {
          "base_uri": "https://localhost:8080/"
        },
        "id": "JRfV47sa9bU2",
        "outputId": "e80e67ef-bc6b-4791-cc08-c76c4796d728"
      },
      "outputs": [
        {
          "name": "stdout",
          "output_type": "stream",
          "text": [
            "1011110001\n",
            "1111111111\n"
          ]
        }
      ],
      "source": [
        "#replace all o's with 1's\n",
        "n=int(input())\n",
        "n_str=str(n)\n",
        "d=n_str.replace('0','1')\n",
        "print(int(d))"
      ]
    },
    {
      "cell_type": "code",
      "execution_count": null,
      "metadata": {
        "colab": {
          "base_uri": "https://localhost:8080/"
        },
        "id": "_L8n6azMzryX",
        "outputId": "ea6c992e-a435-4be0-e44b-adb3f743051a"
      },
      "outputs": [
        {
          "name": "stdout",
          "output_type": "stream",
          "text": [
            "4\n",
            "-8\n",
            "fourth coordinate\n"
          ]
        }
      ],
      "source": [
        "#Quadrants in which a given coordinate lies\n",
        "x=int(input())\n",
        "y=int(input())\n",
        "if x>0 and y>0:\n",
        "  print(\"first coordinate\")\n",
        "elif x<0 and y>0:\n",
        "  print(\"second coordinate\")\n",
        "elif x<0 and y<0:\n",
        "  print(\"third coordinate\")\n",
        "elif x>0 and y<0:\n",
        "  print(\"fourth coordinate\")\n",
        "elif x==0 and y!=0:\n",
        "  print(\"x lies on y axis\")\n",
        "elif y==0 and x!=0:\n",
        "  print(\"y lies on x axis\")\n",
        "else:\n",
        "  print(\"origin\")"
      ]
    },
    {
      "cell_type": "code",
      "execution_count": null,
      "metadata": {
        "colab": {
          "base_uri": "https://localhost:8080/"
        },
        "id": "V4rD12MB1RsE",
        "outputId": "d8184e16-88dd-4b4e-88dd-98bc8b62413a"
      },
      "outputs": [
        {
          "name": "stdout",
          "output_type": "stream",
          "text": [
            "The sum of the fractions is 11/15\n"
          ]
        }
      ],
      "source": [
        "from math import gcd\n",
        "\n",
        "def add_fractions(n1, d1, n2, d2):\n",
        "    # Find the common denominator\n",
        "    common_denominator = d1 * d2\n",
        "\n",
        "    # Convert each fraction to an equivalent fraction with the common denominator\n",
        "    numerator1 = n1 * d2\n",
        "    numerator2 = n2 * d1\n",
        "\n",
        "    # Add the numerators\n",
        "    new_numerator = numerator1 + numerator2\n",
        "\n",
        "    # Simplify the fraction\n",
        "    common_divisor = gcd(new_numerator, common_denominator)\n",
        "    simplified_numerator = new_numerator // common_divisor\n",
        "    simplified_denominator = common_denominator // common_divisor\n",
        "\n",
        "    return simplified_numerator, simplified_denominator\n",
        "\n",
        "# Example usage\n",
        "numerator1, denominator1 = 1, 3\n",
        "numerator2, denominator2 = 2, 5\n",
        "result = add_fractions(numerator1, denominator1, numerator2, denominator2)\n",
        "print(f\"The sum of the fractions is {result[0]}/{result[1]}\")  # Output: The sum of the fractions is 11/15\n"
      ]
    },
    {
      "cell_type": "code",
      "execution_count": null,
      "metadata": {
        "colab": {
          "base_uri": "https://localhost:8080/"
        },
        "id": "2G1424Pp18Xm",
        "outputId": "1eba78fb-8ba8-48fd-f233-ce55cf2b0b87"
      },
      "outputs": [
        {
          "name": "stdout",
          "output_type": "stream",
          "text": [
            "5\n",
            "3\n",
            "60\n"
          ]
        }
      ],
      "source": [
        "#Permutations in which n people can occupy r seats in a classroom\n",
        "\n",
        "import math\n",
        "def permutation(n,r):\n",
        "  return math.factorial(n)//math.factorial(n-r)\n",
        "n=int(input())\n",
        "r=int(input())\n",
        "print(permutation(n,r))"
      ]
    },
    {
      "cell_type": "code",
      "execution_count": null,
      "metadata": {
        "colab": {
          "base_uri": "https://localhost:8080/"
        },
        "id": "X3XT541ZO3Tb",
        "outputId": "37e9caaf-333a-4276-f090-553f333d7618"
      },
      "outputs": [
        {
          "name": "stdout",
          "output_type": "stream",
          "text": [
            "5\n",
            "10\n"
          ]
        }
      ],
      "source": [
        "#Maximum number of handshakes\n",
        "def handshake(n):\n",
        "  return n*(n-1)//2\n",
        "n=int(input())\n",
        "print(handshake(n))"
      ]
    },
    {
      "cell_type": "code",
      "execution_count": null,
      "metadata": {
        "colab": {
          "base_uri": "https://localhost:8080/"
        },
        "id": "uCujlL2pPk9E",
        "outputId": "7f60280f-697c-4419-cb5a-ec8a21eab8d9"
      },
      "outputs": [
        {
          "name": "stdout",
          "output_type": "stream",
          "text": [
            "5\n",
            "78.5\n"
          ]
        }
      ],
      "source": [
        "#area of circle\n",
        "r=int(input())\n",
        "pi=3.14\n",
        "area=pi*r**2\n",
        "print(area)"
      ]
    },
    {
      "cell_type": "code",
      "execution_count": null,
      "metadata": {
        "colab": {
          "base_uri": "https://localhost:8080/"
        },
        "id": "53qVmSI_Qppm",
        "outputId": "a19f2bd1-6960-452b-8018-638a89311043"
      },
      "outputs": [
        {
          "name": "stdout",
          "output_type": "stream",
          "text": [
            "50\n",
            "2 3 5 7 11 13 17 19 23 29 31 37 41 43 47 "
          ]
        }
      ],
      "source": [
        "#prime numbers on given range\n",
        "num=int(input())\n",
        "for i in range(2,num+1):\n",
        "  count=0\n",
        "  for j in range(1,i+1):\n",
        "    if i%j==0:\n",
        "        count=count+1\n",
        "  if count==2:\n",
        "    print(i,end=\" \")\n",
        "\n"
      ]
    },
    {
      "cell_type": "code",
      "execution_count": null,
      "metadata": {
        "colab": {
          "base_uri": "https://localhost:8080/"
        },
        "id": "px0nd6IERT1q",
        "outputId": "8b328f8d-bb76-4356-c53a-096c66db4fd5"
      },
      "outputs": [
        {
          "name": "stdout",
          "output_type": "stream",
          "text": [
            "555656\n",
            "6\n"
          ]
        }
      ],
      "source": [
        "#Calculate the number of digits in an integer\n",
        "import math\n",
        "n=int(input())\n",
        "d = int(math.log10(abs(n))) + 1\n",
        "print(d)"
      ]
    },
    {
      "cell_type": "code",
      "execution_count": null,
      "metadata": {
        "colab": {
          "base_uri": "https://localhost:8080/"
        },
        "id": "Vi0mGRwlSTrq",
        "outputId": "aec171ab-771c-4352-ebef-6d10ba840509"
      },
      "outputs": [
        {
          "name": "stdout",
          "output_type": "stream",
          "text": [
            "676776\n",
            "6\n"
          ]
        }
      ],
      "source": [
        "n=int(input())\n",
        "s=str(n)\n",
        "d=len(s)\n",
        "print(int(d))"
      ]
    },
    {
      "cell_type": "code",
      "execution_count": null,
      "metadata": {
        "colab": {
          "base_uri": "https://localhost:8080/"
        },
        "id": "aIJqnRnAS2Ug",
        "outputId": "81a69848-5895-4c2a-d190-8f84dc96e9f0"
      },
      "outputs": [
        {
          "name": "stdout",
          "output_type": "stream",
          "text": [
            "345\n",
            "229\n"
          ]
        }
      ],
      "source": [
        "octal=input()\n",
        "decimal=int(octal,8)\n",
        "print(decimal)"
      ]
    },
    {
      "cell_type": "code",
      "execution_count": null,
      "metadata": {
        "colab": {
          "base_uri": "https://localhost:8080/"
        },
        "id": "r50uPHR86IzO",
        "outputId": "1a9998d0-4407-4aff-d5a7-d342dff9ec52"
      },
      "outputs": [
        {
          "name": "stdout",
          "output_type": "stream",
          "text": [
            "1F4A5\n",
            "128165\n"
          ]
        }
      ],
      "source": [
        "#hexadecimal to decimal\n",
        "octal=input()\n",
        "decimal= int(octal,16)\n",
        "print(decimal)\n"
      ]
    },
    {
      "cell_type": "code",
      "execution_count": null,
      "metadata": {
        "colab": {
          "base_uri": "https://localhost:8080/"
        },
        "id": "tmTJlWdq6XWT",
        "outputId": "409128c1-06ba-4c41-ee53-e7b73382d06d"
      },
      "outputs": [
        {
          "name": "stdout",
          "output_type": "stream",
          "text": [
            "34\n",
            "100010\n"
          ]
        }
      ],
      "source": [
        "#decimal to binary\n",
        "decimal_number =int(input())\n",
        "binary_number = bin(decimal_number)[2:]\n",
        "print(binary_number)\n"
      ]
    },
    {
      "cell_type": "code",
      "execution_count": null,
      "metadata": {
        "colab": {
          "base_uri": "https://localhost:8080/"
        },
        "id": "1flrjeAs7eCR",
        "outputId": "c01d6c92-17d7-4c8e-cbbb-c5b3f16183a2"
      },
      "outputs": [
        {
          "name": "stdout",
          "output_type": "stream",
          "text": [
            "The octal equivalent of decimal 345 is 531.\n"
          ]
        }
      ],
      "source": [
        "#decimal to octal\n",
        "\n",
        "# Define the decimal number\n",
        "decimal_number = 345\n",
        "\n",
        "# Convert the decimal number to an octal number using oct() and remove the '0o' prefix\n",
        "octal_number = oct(decimal_number)[2:]\n",
        "\n",
        "# Print the result\n",
        "print(f\"The octal equivalent of decimal {decimal_number} is {octal_number}.\")\n"
      ]
    },
    {
      "cell_type": "code",
      "execution_count": null,
      "metadata": {
        "colab": {
          "base_uri": "https://localhost:8080/"
        },
        "id": "yU-bgprU7jKD",
        "outputId": "a7cd2a7e-201f-41e4-ad2a-2eccbaa5c6e3"
      },
      "outputs": [
        {
          "name": "stdout",
          "output_type": "stream",
          "text": [
            "The hexadecimal equivalent of decimal 345 is 159.\n"
          ]
        }
      ],
      "source": [
        "#decimal to hexadecimal\n",
        "# Define the decimal number\n",
        "decimal_number = 345\n",
        "\n",
        "# Convert the decimal number to a hexadecimal number using hex() and remove the '0x' prefix\n",
        "hexadecimal_number = hex(decimal_number)[2:].upper()\n",
        "\n",
        "# Print the result\n",
        "print(f\"The hexadecimal equivalent of decimal {decimal_number} is {hexadecimal_number}.\")\n"
      ]
    },
    {
      "cell_type": "code",
      "execution_count": null,
      "metadata": {
        "colab": {
          "base_uri": "https://localhost:8080/"
        },
        "id": "KqM5kJt37p0B",
        "outputId": "4e24f3ea-0f7b-4789-8e3e-16550b48c6d6"
      },
      "outputs": [
        {
          "name": "stdout",
          "output_type": "stream",
          "text": [
            "The octal equivalent of binary 1101101 is 155.\n"
          ]
        }
      ],
      "source": [
        "#binary to octal\n",
        "\n",
        "# Define the binary number as a string\n",
        "binary_number = \"1101101\"\n",
        "\n",
        "# Convert the binary number to a decimal number using int() with base 2\n",
        "decimal_number = int(binary_number, 2)\n",
        "\n",
        "# Convert the decimal number to an octal number using oct() and remove the '0o' prefix\n",
        "octal_number = oct(decimal_number)[2:]\n",
        "\n",
        "# Print the result\n",
        "print(f\"The octal equivalent of binary {binary_number} is {octal_number}.\")\n"
      ]
    },
    {
      "cell_type": "code",
      "execution_count": null,
      "metadata": {
        "colab": {
          "base_uri": "https://localhost:8080/"
        },
        "id": "yzNWMKr68DHn",
        "outputId": "f1405789-befc-4cde-8f64-69f2865ee1c3"
      },
      "outputs": [
        {
          "name": "stdout",
          "output_type": "stream",
          "text": [
            "The binary equivalent of octal 345 is 11100101.\n"
          ]
        }
      ],
      "source": [
        "#Octal to Binary conversion\n",
        "\n",
        "# Define the octal number as a string\n",
        "octal_number = \"345\"\n",
        "\n",
        "# Convert the octal number to a decimal number using int() with base 8\n",
        "decimal_number = int(octal_number, 8)\n",
        "\n",
        "# Convert the decimal number to a binary number using bin() and remove the '0b' prefix\n",
        "binary_number = bin(decimal_number)[2:]\n",
        "\n",
        "# Print the result\n",
        "print(f\"The binary equivalent of octal {octal_number} is {binary_number}.\")\n"
      ]
    },
    {
      "cell_type": "code",
      "execution_count": null,
      "metadata": {
        "colab": {
          "base_uri": "https://localhost:8080/"
        },
        "id": "xDz4nVtj8M8o",
        "outputId": "d08594ff-a9cb-4209-8f5d-ec304f6a86ed"
      },
      "outputs": [
        {
          "name": "stdout",
          "output_type": "stream",
          "text": [
            "12\n",
            "50\n",
            "90\n"
          ]
        }
      ],
      "source": [
        "\"\"\"Problem Statement\n",
        "\n",
        "You are required to implement the following function:\n",
        "\n",
        "Int Calculate(int m, int n);\n",
        "\n",
        "The function accepts 2 positive integer ‘m’ and ‘n’ as its arguments.\n",
        "You are required to calculate the sum of numbers divisible both by 3 and 5, between ‘m’ and ‘n’ both inclusive and return the same.\n",
        "Note\n",
        "0 < m <= n\n",
        "\n",
        "Example\n",
        "\n",
        "Input:\n",
        "\n",
        "m : 12\n",
        "\n",
        "n : 50\n",
        "\n",
        "Output\n",
        "\n",
        "90\n",
        "\n",
        "Explanation:\n",
        "The numbers divisible by both 3 and 5, between 12 and 50 both inclusive are {15, 30, 45} and their sum is 90.\n",
        "Sample Input\n",
        "m : 100\n",
        "n : 160\n",
        "Sample Output\n",
        "510\"\"\"\n",
        "\n",
        "m=int(input())\n",
        "n=int(input())\n",
        "sum=0\n",
        "for i in range(m,n+1):\n",
        "  if i%3==0 and i%5==0:\n",
        "    sum+=i\n",
        "print(sum)\n",
        "\n",
        "\n",
        "\n"
      ]
    },
    {
      "cell_type": "code",
      "execution_count": null,
      "metadata": {
        "id": "YB_vSx29Y2nH"
      },
      "outputs": [],
      "source": [
        "\"\"\"You are given a function,\n",
        "\n",
        "Int MaxExponents (int a , int b);\n",
        "\n",
        "You have to find and return the number between ‘a’ and ‘b’ ( range inclusive on both ends) which has the maximum exponent of 2.\n",
        "\n",
        "The algorithm to find the number with maximum exponent of 2 between the given range is\n",
        "\n",
        "Loop between ‘a’ and ‘b’. Let the looping variable be ‘i’.\n",
        "Find the exponent (power) of 2 for each ‘i’ and store the number with maximum exponent of 2 so faqrd in a variable ,\n",
        " let say ‘max’. Set ‘max’ to ‘i’ only if ‘i’ has more exponent of 2 than ‘max’.\n",
        "Return ‘max’.\n",
        "Assumption: a <b\n",
        "\n",
        "Note: If two or more numbers in the range have the same exponents of  2 , return the small number.\n",
        "\n",
        "Example\n",
        "\n",
        "Input:\n",
        "7\n",
        "12\n",
        "Output:\n",
        "8\n",
        "Explanation:\n",
        "\n",
        "Exponents of 2 in:\n",
        "\n",
        "7-0\n",
        "\n",
        "8-3\n",
        "\n",
        "9-0\n",
        "\n",
        "10-1\n",
        "\n",
        "11-0\n",
        "\n",
        "12-2\n",
        "\n",
        "Hence maximum exponent if two is of 8.\"\"\""
      ]
    },
    {
      "cell_type": "code",
      "execution_count": null,
      "metadata": {
        "colab": {
          "base_uri": "https://localhost:8080/"
        },
        "id": "qdMg7VosZEYQ",
        "outputId": "f601fbee-68b6-4473-bc1c-0ce965b7de10"
      },
      "outputs": [
        {
          "name": "stdout",
          "output_type": "stream",
          "text": [
            "12\n",
            "660\n"
          ]
        }
      ],
      "source": [
        "\"\"\"Instructions: You are required to write the code. You can click on compile and run anytime to check compilation/execution status. The code should be logically/syntactically correct.\n",
        "\n",
        "Problem: Write a program in C to display the table of a number and print the sum of all the multiples in it.\n",
        "\n",
        "Test Cases:\n",
        "\n",
        "Test Case 1:\n",
        "Input:\n",
        "5\n",
        "Expected Result Value:\n",
        "5, 10, 15, 20, 25, 30, 35, 40, 45, 50\n",
        "275\n",
        "\n",
        "Test Case 2:\n",
        "Input:\n",
        "12\n",
        "Expected Result Value:\n",
        "12, 24, 36, 48, 60, 72, 84, 96, 108, 120\n",
        "660\"\"\"\n",
        "\n",
        "n=int(input())\n",
        "sum=0\n",
        "for i in range(1,11):\n",
        "  sum+=n*i\n",
        "print(sum)"
      ]
    },
    {
      "cell_type": "code",
      "execution_count": null,
      "metadata": {
        "colab": {
          "base_uri": "https://localhost:8080/"
        },
        "id": "-unsJDhEZGKA",
        "outputId": "771dc2b2-9002-4324-e5d4-038465c58125"
      },
      "outputs": [
        {
          "name": "stdout",
          "output_type": "stream",
          "text": [
            "67757 7687 9898 43 675\n",
            "67757\n"
          ]
        }
      ],
      "source": [
        "#Write a program to find the largest number in a list.\n",
        "list1=list(map(int,input().split()))\n",
        "list1.sort()\n",
        "print(list1[-1])"
      ]
    },
    {
      "cell_type": "code",
      "execution_count": null,
      "metadata": {
        "colab": {
          "base_uri": "https://localhost:8080/"
        },
        "id": "1xqk-ZjJZOTK",
        "outputId": "9b48e132-6403-4852-9d94-499fda43bbdb"
      },
      "outputs": [
        {
          "name": "stdout",
          "output_type": "stream",
          "text": [
            "2 4 6\n",
            "3 6 9\n",
            "6\n"
          ]
        }
      ],
      "source": [
        "#Meadian of two sorted array\n",
        "def merged(num1,num2):\n",
        "  merge=[]\n",
        "  i=j=0\n",
        "  while i<len(num1) and j<len(num2):\n",
        "    if num1[i]<num2[j]:\n",
        "      merge.append(num1[i])\n",
        "      i+=1\n",
        "    else:\n",
        "      merge.append(num2[j])\n",
        "      j+=1\n",
        "  while i<len(num1):\n",
        "    merge.append(num1[i])\n",
        "    i+=1\n",
        "  while j<len(num2):\n",
        "    merge.append(num2[j])\n",
        "    j+=1\n",
        "  n=len(merge)\n",
        "  if n%2==0:\n",
        "    return merge[n//2]\n",
        "  else:\n",
        "    return (merge[(n // 2) - 1] + merge[n // 2]) / 2\n",
        "\n",
        "num1=list(map(int,input().split()))\n",
        "num2=list(map(int,input().split()))\n",
        "print(merged(num1,num2))"
      ]
    },
    {
      "cell_type": "code",
      "execution_count": null,
      "metadata": {
        "id": "7jSbi_imZWTb"
      },
      "outputs": [],
      "source": [
        " \"\"\"1. Two Sum\n",
        "Solved\n",
        "Easy\n",
        "Topics\n",
        "Companies\n",
        "Hint\n",
        "Given an array of integers nums and an integer target, return indices of the two numbers such that they add up to target.\n",
        "\n",
        "You may assume that each input would have exactly one solution, and you may not use the same element twice.\n",
        "\n",
        "You can return the answer in any order.\n",
        "\n",
        "\n",
        "\n",
        "Example 1:\n",
        "\n",
        "Input: nums = [2,7,11,15], target = 9\n",
        "Output: [0,1]\n",
        "Explanation: Because nums[0] + nums[1] == 9, we return [0, 1].\n",
        "Example 2:\n",
        "\n",
        "Input: nums = [3,2,4], target = 6\n",
        "Output: [1,2]\n",
        "Example 3:\n",
        "\n",
        "Input: nums = [3,3], target = 6\n",
        "Output: [0,1]\"\"\""
      ]
    },
    {
      "cell_type": "code",
      "execution_count": null,
      "metadata": {
        "colab": {
          "base_uri": "https://localhost:8080/"
        },
        "id": "J8Eh7K_PjLFT",
        "outputId": "68092155-5b2b-46e8-c4dc-2713521e8af1"
      },
      "outputs": [
        {
          "name": "stdout",
          "output_type": "stream",
          "text": [
            "15\n",
            "50\n",
            "90\n"
          ]
        }
      ],
      "source": [
        "m=int(input())\n",
        "n=int(input())\n",
        "sum=0\n",
        "for i in range(m,n+1):\n",
        "  if i%3==0 and i%5==0:\n",
        "    sum+=i\n",
        "print(sum)"
      ]
    },
    {
      "cell_type": "code",
      "execution_count": null,
      "metadata": {
        "colab": {
          "base_uri": "https://localhost:8080/"
        },
        "id": "BarKeWhtjcqM",
        "outputId": "10ee52b5-bf89-41cb-bef5-e733a5fdc00a"
      },
      "outputs": [
        {
          "name": "stdout",
          "output_type": "stream",
          "text": [
            "5\n",
            "275\n"
          ]
        }
      ],
      "source": [
        "n=int(input())\n",
        "sum=0\n",
        "for i in range(1,11):\n",
        "  sum+=n*i\n",
        "print(sum)"
      ]
    },
    {
      "cell_type": "code",
      "execution_count": null,
      "metadata": {
        "colab": {
          "base_uri": "https://localhost:8080/"
        },
        "id": "7CfAtb9rj5us",
        "outputId": "5411b212-2b24-4e2f-9389-282e26d16f76"
      },
      "outputs": [
        {
          "name": "stdout",
          "output_type": "stream",
          "text": [
            "9 8 7 6 5 4 35 76\n",
            "76\n"
          ]
        }
      ],
      "source": [
        "list1=list(map(int,input().split()))\n",
        "list1.sort()\n",
        "print(list1[-1])"
      ]
    },
    {
      "cell_type": "code",
      "execution_count": null,
      "metadata": {
        "colab": {
          "base_uri": "https://localhost:8080/"
        },
        "id": "525NSuXPkQzt",
        "outputId": "b47cfee6-a83b-4e02-a7d2-44ebb2981b84"
      },
      "outputs": [
        {
          "name": "stdout",
          "output_type": "stream",
          "text": [
            "1011011\n",
            "91\n"
          ]
        }
      ],
      "source": [
        "d=input()\n",
        "df=int(d,2)\n",
        "print(df)"
      ]
    },
    {
      "cell_type": "code",
      "execution_count": null,
      "metadata": {
        "colab": {
          "base_uri": "https://localhost:8080/"
        },
        "id": "kgdwqqe_vdzk",
        "outputId": "974b81ff-fda6-4ba8-9099-c01dde551874"
      },
      "outputs": [
        {
          "name": "stdout",
          "output_type": "stream",
          "text": [
            "36\n",
            "5   31\n",
            "7   29\n",
            "13   23\n",
            "17   19\n"
          ]
        }
      ],
      "source": [
        "#Can a number be expressed as a sum of two prime numbers\n",
        "def prime(n):\n",
        "  count=0\n",
        "  for i in range(1,n+1):\n",
        "    if n%i==0:\n",
        "      count+=1\n",
        "  if count==2:\n",
        "    return True\n",
        "  else:\n",
        "    return False\n",
        "n=int(input())\n",
        "a=[]\n",
        "for j in range(2,n):\n",
        "  if prime(j):\n",
        "    a.append(j)\n",
        "for k in range(len(a)):\n",
        "  for r in range(k+1,len(a)):\n",
        "    if a[k]+a[r]==n:\n",
        "      print(a[k],\" \",a[r])\n",
        "\n",
        "\n"
      ]
    },
    {
      "cell_type": "code",
      "execution_count": null,
      "metadata": {
        "colab": {
          "base_uri": "https://localhost:8080/"
        },
        "id": "5DDC--bIyI5S",
        "outputId": "7ff99f85-eaf3-4212-b529-dc98820f15e3"
      },
      "outputs": [
        {
          "name": "stdout",
          "output_type": "stream",
          "text": [
            "1\n",
            "2\n",
            "1\n",
            "2\n",
            "1\n"
          ]
        }
      ],
      "source": [
        "#adding of 2 numbers\n",
        "a=int(input())\n",
        "b=int(input())\n",
        "c=int(input())\n",
        "d=int(input())\n",
        "n=(a*d+b*c)\n",
        "d=b*d\n",
        "print(n//d)"
      ]
    },
    {
      "cell_type": "code",
      "execution_count": null,
      "metadata": {
        "colab": {
          "base_uri": "https://localhost:8080/"
        },
        "id": "PAKpBd8Szofz",
        "outputId": "5b3124d6-985d-4334-8ac7-a401b93d54bc"
      },
      "outputs": [
        {
          "name": "stdout",
          "output_type": "stream",
          "text": [
            "Enter the digit sequence: 123\n",
            "Number of possible decodings: 3\n"
          ]
        }
      ],
      "source": [
        "def count_decodings(digits):\n",
        "    n = len(digits)\n",
        "    if n == 0:\n",
        "        return 0\n",
        "    # A table to store results of subproblems\n",
        "    count = [0] * (n+1)\n",
        "\n",
        "    # Base cases\n",
        "    count[0] = 1  # An empty string has one way to be decoded\n",
        "    count[1] = 1  # A single character string can only be decoded one way (if it's not '0')\n",
        "\n",
        "    for i in range(2, n+1):\n",
        "        count[i] = 0\n",
        "\n",
        "        # If the last digit is not 0, it can be decoded\n",
        "        if digits[i-1] > '0':\n",
        "            count[i] = count[i-1]\n",
        "\n",
        "        # If the last two digits form a number between 10 and 26, they can be decoded together\n",
        "        if (digits[i-2] == '1') or (digits[i-2] == '2' and digits[i-1] < '7'):\n",
        "            count[i] += count[i-2]\n",
        "\n",
        "    return count[n]\n",
        "\n",
        "# Test the function\n",
        "digits = input(\"Enter the digit sequence: \")\n",
        "print(f\"Number of possible decodings: {count_decodings(digits)}\")\n"
      ]
    },
    {
      "cell_type": "code",
      "execution_count": null,
      "metadata": {
        "colab": {
          "base_uri": "https://localhost:8080/"
        },
        "id": "1PiZwweZ1WGg",
        "outputId": "329043a1-dc35-4c03-a82d-3dd6ac72ab1e"
      },
      "outputs": [
        {
          "output_type": "stream",
          "name": "stdout",
          "text": [
            "Enter an integer: 1213232\n",
            "1213232 in words is: one million two hundred thirteen thousand two hundred thirty two\n"
          ]
        }
      ],
      "source": [
        "def number_to_words(n):\n",
        "    if n == 0:\n",
        "        return \"zero\"\n",
        "\n",
        "    def one_to_nineteen(num):\n",
        "        words = [\"one\", \"two\", \"three\", \"four\", \"five\", \"six\", \"seven\", \"eight\", \"nine\", \"ten\",\n",
        "                 \"eleven\", \"twelve\", \"thirteen\", \"fourteen\", \"fifteen\", \"sixteen\", \"seventeen\", \"eighteen\", \"nineteen\"]\n",
        "        return words[num - 1:num]\n",
        "\n",
        "    def tens(num):\n",
        "        words = [\"twenty\", \"thirty\", \"forty\", \"fifty\", \"sixty\", \"seventy\", \"eighty\", \"ninety\"]\n",
        "        return words[num - 2:num - 1]\n",
        "\n",
        "    def two_digits(num):\n",
        "        if num < 20:\n",
        "            return one_to_nineteen(num)\n",
        "        else:\n",
        "            return tens(num // 10) + one_to_nineteen(num % 10)\n",
        "\n",
        "    def three_digits(num):\n",
        "        if num < 100:\n",
        "            return two_digits(num)\n",
        "        else:\n",
        "            return one_to_nineteen(num // 100) + [\"hundred\"] + two_digits(num % 100)\n",
        "\n",
        "    parts = []\n",
        "    if n >= 1_000_000:\n",
        "        parts += three_digits(n // 1_000_000) + [\"million\"]\n",
        "        n %= 1_000_000\n",
        "    if n >= 1_000:\n",
        "        parts += three_digits(n // 1_000) + [\"thousand\"]\n",
        "        n %= 1_000\n",
        "    if n > 0:\n",
        "        parts += three_digits(n)\n",
        "\n",
        "    return \" \".join(filter(None, parts))\n",
        "\n",
        "# Test the function\n",
        "number = int(input(\"Enter an integer: \"))\n",
        "print(f\"{number} in words is: {number_to_words(number)}\")\n"
      ]
    },
    {
      "cell_type": "code",
      "execution_count": null,
      "metadata": {
        "id": "6v2YXbnlqxpS"
      },
      "outputs": [],
      "source": [
        "\"\"\"The function accepts a character array ‘arr’ of size ‘n’ as its argument.\n",
        "Each element of ‘arr’ represents the status of a parking slot, where ‘S’ represents an empty slot and ‘X’ represents an occupied slot.\n",
        "The function needs to return the maximum number of cars that can be parked in the parking lot.\n",
        " It is assumed that two cars cannot occupy the same slot and cars can only park in consecutive empty slots.\n",
        "Input:\n",
        "\n",
        "\n",
        "n: 16\n",
        "\n",
        "arr: XXXSXXSXXSSXXSXX\n",
        "Output:\n",
        "7\"\"\"\n",
        "n=int(input())\n",
        "arr=list(map(str,input().split()))\n",
        "count('S' ,arr)\n",
        "print(arr)\n",
        "\n"
      ]
    },
    {
      "cell_type": "code",
      "execution_count": null,
      "metadata": {
        "id": "NAlHlJ7brZrW"
      },
      "outputs": [],
      "source": [
        "\"\"\"The function accepts a character array ‘arr’ of size ‘n’ as its argument.\n",
        "Each element of ‘arr’ represents the status of a parking slot, where ‘S’ represents an empty slot and ‘X’ represents an occupied slot.\n",
        "The function needs to return the maximum number of cars that can be parked in the parking lot.\n",
        " It is assumed that two cars cannot occupy the same slot and cars can only park in consecutive empty slots.\n",
        "Input:\n",
        "\n",
        "\n",
        "n: 16\n",
        "\n",
        "arr: XXXSXXSXXSSXXSXX\n",
        "Output:\n",
        "7\"\"\"\n",
        "n=int(input())\n",
        "arr=list(map(str,input().split()))\n",
        "count('S' ,arr)\n",
        "print(arr)\n",
        "\n"
      ]
    },
    {
      "cell_type": "code",
      "execution_count": null,
      "metadata": {
        "id": "61YMmFuUreQQ"
      },
      "outputs": [],
      "source": [
        "\"\"\"The function accepts a character array ‘arr’ of size ‘n’ as its argument.\n",
        "Each element of ‘arr’ represents the status of a parking slot, where ‘S’ represents an empty slot and ‘X’ represents an occupied slot.\n",
        "The function needs to return the maximum number of cars that can be parked in the parking lot.\n",
        " It is assumed that two cars cannot occupy the same slot and cars can only park in consecutive empty slots.\n",
        "Input:\n",
        "\n",
        "\n",
        "n: 16\n",
        "\n",
        "arr: XXXSXXSXXSSXXSXX\n",
        "Output:\n",
        "7\"\"\"\n",
        "n=int(input())\n",
        "arr=list(map(str,input().split()))\n",
        "count('S' ,arr)\n",
        "print(arr)\n",
        "\n",
        "\n"
      ]
    },
    {
      "cell_type": "code",
      "execution_count": null,
      "metadata": {
        "colab": {
          "base_uri": "https://localhost:8080/"
        },
        "id": "ECTniL4GrjVM",
        "outputId": "0fe9f01a-d200-41df-d4ff-dc35d589fc2c"
      },
      "outputs": [
        {
          "name": "stdout",
          "output_type": "stream",
          "text": [
            "14\n",
            "she will get a job\n"
          ]
        }
      ],
      "source": [
        "\"\"\"Rani is preparing for a job exam and needs your help to determine if she will get the job.\n",
        " Write a code  that takes her written test score and her coding round results as inputs and returns whether she will get the job or not.\n",
        "\n",
        "Conditions to qualify each round in  the exam\n",
        "* Marks above 13 in written test\n",
        "* One complete and partial submission of codes\n",
        "        If output matches\"\"\"\n",
        "\n",
        "def result(marks,coding):\n",
        "  cs=coding.count(\"complete\")\n",
        "  ps=coding.count(\"partial\")\n",
        "  if marks>=13:\n",
        "    if cs>=1 and ps>=1:\n",
        "      return \"she will get a job\"\n",
        "    else:\n",
        "      return \"she will not get a job\"\n",
        "  else:\n",
        "    return \"disqualified\"\n",
        "marks=int(input())\n",
        "coding=[\"complete\",\"partial\",\"npt answered\",\"complete\"]\n",
        "print(result(marks,coding))"
      ]
    },
    {
      "cell_type": "code",
      "execution_count": null,
      "metadata": {
        "colab": {
          "base_uri": "https://localhost:8080/"
        },
        "id": "xs9ziJazBmWO",
        "outputId": "2e900027-74c8-48ad-d37c-0a71095a1309"
      },
      "outputs": [
        {
          "name": "stdout",
          "output_type": "stream",
          "text": [
            "(3, 7)\n"
          ]
        }
      ],
      "source": [
        "# Count vowels and consonants in a string\n",
        "def alpha(str):\n",
        "  v=set(\"aeiouAEIOU\")\n",
        "  v_count=0\n",
        "  c_count=0\n",
        "  for s in str:\n",
        "    if s in v:\n",
        "      v_count+=1\n",
        "    elif s.isalpha()==True and s not in v:\n",
        "      c_count+=1\n",
        "  return v_count,c_count\n",
        "str=\"hello world\"\n",
        "print(alpha(str))"
      ]
    },
    {
      "cell_type": "code",
      "execution_count": null,
      "metadata": {
        "colab": {
          "base_uri": "https://localhost:8080/"
        },
        "id": "9N8M7k6jEGq1",
        "outputId": "bcc934a6-bdcc-47da-bffe-42fb77bc1f12"
      },
      "outputs": [
        {
          "name": "stdout",
          "output_type": "stream",
          "text": [
            "(150.0, 9000.0)\n"
          ]
        }
      ],
      "source": [
        "#convert hours into minutes and minutes into seconds\n",
        "def hour(h):\n",
        "  min=h*60\n",
        "  sec=h*3600\n",
        "  return min,sec\n",
        "h=2.5\n",
        "print(hour(h))"
      ]
    },
    {
      "cell_type": "code",
      "execution_count": null,
      "metadata": {
        "colab": {
          "base_uri": "https://localhost:8080/"
        },
        "id": "4VooiKx7FD3Q",
        "outputId": "9f696b09-2fd2-415e-e9da-9f7d40080599"
      },
      "outputs": [
        {
          "name": "stdout",
          "output_type": "stream",
          "text": [
            "19\n",
            "happy number\n"
          ]
        }
      ],
      "source": [
        "#happy number\n",
        "n=int(input())\n",
        "x=n\n",
        "while x>=10:\n",
        "  sum=0\n",
        "  while x>0:\n",
        "    rem=x%10\n",
        "    sum=sum+(rem**2)\n",
        "    x=x//10\n",
        "  x=sum\n",
        "if x==1:\n",
        "  print(\"happy number\")\n",
        "else:\n",
        "  print(\"not happy number\")"
      ]
    },
    {
      "cell_type": "code",
      "execution_count": null,
      "metadata": {
        "colab": {
          "base_uri": "https://localhost:8080/"
        },
        "id": "fa98vZCkHnTw",
        "outputId": "b36a1d04-bf25-4b2e-e903-44b2b917814f"
      },
      "outputs": [
        {
          "name": "stdout",
          "output_type": "stream",
          "text": [
            "% % % % \n",
            "% % % % \n",
            "% % % % \n",
            "% % % % \n"
          ]
        }
      ],
      "source": [
        "#square star program\n",
        "for i in range(4):\n",
        "  for j in range(4):\n",
        "    print(\"%\",end=\" \")\n",
        "  print()"
      ]
    },
    {
      "cell_type": "code",
      "execution_count": null,
      "metadata": {
        "colab": {
          "base_uri": "https://localhost:8080/"
        },
        "id": "bRehXVpXqFEc",
        "outputId": "feae3cef-0ebc-4f60-a0de-8cdb173803c3"
      },
      "outputs": [
        {
          "name": "stdout",
          "output_type": "stream",
          "text": [
            "* * * * \n",
            "*     * \n",
            "*     * \n",
            "* * * * \n"
          ]
        }
      ],
      "source": [
        "#hallow square star program\n",
        "for i in range(4):\n",
        "  for j in range(4):\n",
        "    if i==0 or i==4-1 or j==0 or j==4-1:\n",
        "      print(\"*\",end=\" \")\n",
        "    else:\n",
        "      print(\" \",end=\" \")\n",
        "  print()\n"
      ]
    },
    {
      "cell_type": "markdown",
      "metadata": {
        "id": "D32jAXhIkr0C"
      },
      "source": [
        "**codes for recrusion**"
      ]
    },
    {
      "cell_type": "code",
      "execution_count": null,
      "metadata": {
        "colab": {
          "base_uri": "https://localhost:8080/"
        },
        "id": "Oh6mmy4jrfyh",
        "outputId": "8683b57f-968e-4b9e-b1e6-b6cb95b8f94f"
      },
      "outputs": [
        {
          "name": "stdout",
          "output_type": "stream",
          "text": [
            "2\n",
            "3\n",
            "8\n"
          ]
        }
      ],
      "source": [
        "#power of a number\n",
        "def power(a,b):\n",
        "  if b!=0:\n",
        "    return a*power(a,b-1)\n",
        "  else:\n",
        "    return 1\n",
        "a=int(input())\n",
        "b=int(input())\n",
        "print(power(a,b))"
      ]
    },
    {
      "cell_type": "code",
      "execution_count": null,
      "metadata": {
        "colab": {
          "base_uri": "https://localhost:8080/"
        },
        "id": "sc-HQv3PlR8m",
        "outputId": "96102d4e-5991-4c4f-bb7e-62cf6ea81782"
      },
      "outputs": [
        {
          "name": "stdout",
          "output_type": "stream",
          "text": [
            "234\n",
            "not prime number\n"
          ]
        }
      ],
      "source": [
        "#prime number\n",
        "def prime(n,i=2):\n",
        "  if n==i:\n",
        "    return True\n",
        "  elif n%i==0:\n",
        "    return False\n",
        "  else:\n",
        "    return prime(n,i+1)\n",
        "n=int(input())\n",
        "if prime(n):\n",
        "  print(\"prime number\")\n",
        "else:\n",
        "  print(\"not prime number\")"
      ]
    },
    {
      "cell_type": "code",
      "execution_count": null,
      "metadata": {
        "colab": {
          "base_uri": "https://localhost:8080/"
        },
        "id": "NWq4WYrVux5I",
        "outputId": "43698bf2-0521-4b40-f026-6747819febcb"
      },
      "outputs": [
        {
          "name": "stdout",
          "output_type": "stream",
          "text": [
            "1 2 3 4 5 6 78 54 4334\n",
            "4334\n"
          ]
        }
      ],
      "source": [
        "#max element in array\n",
        "def array(a,n):\n",
        "  if 1==n:\n",
        "    return a[0]\n",
        "  return max(a[n-1],array(a,n-1))\n",
        "if __name__==\"__main__\":\n",
        "  a=list(map(int,input().split()))\n",
        "  n=len(a)\n",
        "  print(array(a,n))\n",
        "\n"
      ]
    },
    {
      "cell_type": "code",
      "execution_count": null,
      "metadata": {
        "colab": {
          "base_uri": "https://localhost:8080/"
        },
        "id": "Rhaza7famgwH",
        "outputId": "f42e13d3-ae30-4282-f6cc-f6bcd2278e5c"
      },
      "outputs": [
        {
          "name": "stdout",
          "output_type": "stream",
          "text": [
            "1 2 3 4 5 6 7877 -32 43 54\n",
            "-32\n"
          ]
        }
      ],
      "source": [
        "def array(a,n):\n",
        "  if n==1:\n",
        "    return a[0]\n",
        "  return min(a[n-1],array(a,n-1))\n",
        "if __name__==\"__main__\":\n",
        "  a=list(map(int,input().split()))\n",
        "  n=len(a)\n",
        "  print(array(a,n))\n"
      ]
    },
    {
      "cell_type": "code",
      "execution_count": null,
      "metadata": {
        "colab": {
          "base_uri": "https://localhost:8080/"
        },
        "id": "e2qzMQ1WxrkL",
        "outputId": "3bf6d2ff-3cfa-419c-f13a-47064a7621c4"
      },
      "outputs": [
        {
          "name": "stdout",
          "output_type": "stream",
          "text": [
            "3 2\n"
          ]
        }
      ],
      "source": [
        "#swap of number\n",
        "a=2\n",
        "b=3\n",
        "a,b=b,a\n",
        "print(a,b)"
      ]
    },
    {
      "cell_type": "code",
      "execution_count": null,
      "metadata": {
        "colab": {
          "base_uri": "https://localhost:8080/"
        },
        "id": "dnFZRua52aUn",
        "outputId": "73d6894e-c975-4993-f677-9c44bf993f6b"
      },
      "outputs": [
        {
          "name": "stdout",
          "output_type": "stream",
          "text": [
            "11\n",
            "odd\n"
          ]
        }
      ],
      "source": [
        "#even or odd without using condition\n",
        "def even_odd(n):\n",
        "  r=[\"even\",\"odd\"][n&1]\n",
        "  return r\n",
        "n=int(input())\n",
        "print(even_odd(n))"
      ]
    },
    {
      "cell_type": "code",
      "execution_count": null,
      "metadata": {
        "colab": {
          "base_uri": "https://localhost:8080/"
        },
        "id": "Bc50t0823Uhg",
        "outputId": "074ef507-2572-4eb7-e416-7f12783d9ac7"
      },
      "outputs": [
        {
          "name": "stdout",
          "output_type": "stream",
          "text": [
            "range(1, 101) "
          ]
        }
      ],
      "source": [
        "a=range(1,101)\n",
        "print(a,end=\" \")"
      ]
    },
    {
      "cell_type": "code",
      "execution_count": null,
      "metadata": {
        "colab": {
          "base_uri": "https://localhost:8080/"
        },
        "id": "UDRXhAa_3jQQ",
        "outputId": "947d5036-bac0-4c6b-95f5-9d059de7a388"
      },
      "outputs": [
        {
          "name": "stdout",
          "output_type": "stream",
          "text": [
            "50\n"
          ]
        },
        {
          "data": {
            "text/plain": [
              "50"
            ]
          },
          "execution_count": 25,
          "metadata": {},
          "output_type": "execute_result"
        }
      ],
      "source": [
        "#print all numbers between 1 and 100 without using any loop\n",
        "def printing(n):\n",
        "  if n<100:\n",
        "    return n\n",
        "    print(n)\n",
        "    printing(n+1)\n",
        "n=int(input())\n",
        "printing(n)\n"
      ]
    },
    {
      "cell_type": "code",
      "execution_count": null,
      "metadata": {
        "colab": {
          "base_uri": "https://localhost:8080/"
        },
        "id": "1Vuyqsrm4JRB",
        "outputId": "dc20bfa6-3667-4398-d855-4ad47937c5e5"
      },
      "outputs": [
        {
          "name": "stdout",
          "output_type": "stream",
          "text": [
            "DFGHJfg\n",
            "DFGHJFG\n"
          ]
        }
      ],
      "source": [
        "#string has to convert full upper or lower which has highest count\n",
        "s=input()\n",
        "count_u=0\n",
        "count_l=0\n",
        "for char in s:\n",
        "  if char.isupper():\n",
        "    count_u+=1\n",
        "  elif char.lower():\n",
        "    count_l+=1\n",
        "if count_u>count_l:\n",
        "  print(s.upper())\n",
        "else:\n",
        "  print(s.lower())"
      ]
    },
    {
      "cell_type": "code",
      "execution_count": null,
      "metadata": {
        "colab": {
          "base_uri": "https://localhost:8080/"
        },
        "id": "QjVL4W4LzAMY",
        "outputId": "bbe9973f-746c-4bed-e4e4-d56f2dbe2893"
      },
      "outputs": [
        {
          "name": "stdout",
          "output_type": "stream",
          "text": [
            "rock\n",
            "paper\n"
          ]
        }
      ],
      "source": [
        "#rock paper scissor\n",
        "#rocks beats scissor\n",
        "#scissor beats paper\n",
        "#paper beats rock\n",
        "#input=rock o/p=paper\n",
        "n = input().lower()\n",
        "d = {\"paper\": \"scissors\", \"scissors\": \"rock\", \"rock\": \"paper\"}\n",
        "\n",
        "if n in d:\n",
        "    print(d[n])\n",
        "else:\n",
        "    print(\"Invalid input\")\n"
      ]
    },
    {
      "cell_type": "code",
      "execution_count": null,
      "metadata": {
        "colab": {
          "base_uri": "https://localhost:8080/"
        },
        "id": "d9EA3lqx9OME",
        "outputId": "ada8c361-b5c4-45f3-c551-471886790cc0"
      },
      "outputs": [
        {
          "name": "stdout",
          "output_type": "stream",
          "text": [
            "11 2\n",
            "6\n"
          ]
        }
      ],
      "source": [
        "\"\"\"climbing strairs\n",
        "alice climdsb a strairs and takes N steps to reach the top.in each turn a;ice can slide can climb 1 or M starirs .\n",
        "find the minimum no of climbs to reach the destination.\n",
        "constarints\n",
        "1<=N<=10^9\n",
        "1<=M<=10^9\n",
        "input=5 1\n",
        "o/p=5\"\"\"\n",
        "n,m=map(int,input().split())\n",
        "m_step=n//m\n",
        "rem=n%m\n",
        "print(m_step+rem)\n"
      ]
    },
    {
      "cell_type": "code",
      "execution_count": null,
      "metadata": {
        "colab": {
          "base_uri": "https://localhost:8080/"
        },
        "id": "HAMD3o6G_YEW",
        "outputId": "02fa214e-22dc-4fea-f0b5-ce902149af32"
      },
      "outputs": [
        {
          "name": "stdout",
          "output_type": "stream",
          "text": [
            "sdfcgvbhn\n",
            "9\n"
          ]
        }
      ],
      "source": [
        "#Program to calculate length of the string using recursion\n",
        "s=input()\n",
        "print(len(s))"
      ]
    },
    {
      "cell_type": "code",
      "execution_count": null,
      "metadata": {
        "colab": {
          "base_uri": "https://localhost:8080/"
        },
        "id": "SeRL3IDeDBQB",
        "outputId": "40dedb4f-2c1d-4184-f603-5269478bf800"
      },
      "outputs": [
        {
          "name": "stdout",
          "output_type": "stream",
          "text": [
            "dcfgvbh\n",
            "7\n"
          ]
        }
      ],
      "source": [
        "#Program to calculate length of the string using recursion\n",
        "def length(s):\n",
        "  if s==\"\":\n",
        "    return 0\n",
        "  else:\n",
        "    return 1+length(s[1:])\n",
        "s=input()\n",
        "print(length(s))"
      ]
    },
    {
      "cell_type": "code",
      "execution_count": null,
      "metadata": {
        "colab": {
          "base_uri": "https://localhost:8080/"
        },
        "id": "oWrTlPd0DXlw",
        "outputId": "7fa4e395-70b6-42b2-f686-67cb348c11da"
      },
      "outputs": [
        {
          "name": "stdout",
          "output_type": "stream",
          "text": [
            "4\n",
            "3\n"
          ]
        }
      ],
      "source": [
        "#Given an integer N the task is to print the F(N)th term\n",
        "def fib(n):\n",
        "  if n==0:\n",
        "    return 0\n",
        "  if n==1:\n",
        "    return 1\n",
        "  else:\n",
        "    return fib(n-1)+fib(n-2)\n",
        "n=int(input())\n",
        "print(fib(n))"
      ]
    },
    {
      "cell_type": "code",
      "execution_count": null,
      "metadata": {
        "colab": {
          "base_uri": "https://localhost:8080/"
        },
        "id": "h_hhd_8CEiwv",
        "outputId": "0ff2a3c2-1e07-4374-a92a-1874d8e8bef4"
      },
      "outputs": [
        {
          "name": "stdout",
          "output_type": "stream",
          "text": [
            "6\n",
            "720\n"
          ]
        }
      ],
      "source": [
        "#Find the Factorial of a number using recursion\n",
        "def fact(n):\n",
        "  if n==0:\n",
        "    return 0\n",
        "  if n==1:\n",
        "    return 1\n",
        "  else:\n",
        "    return n*fact(n-1)\n",
        "n=int(input())\n",
        "print(fact(n))"
      ]
    },
    {
      "cell_type": "code",
      "execution_count": null,
      "metadata": {
        "id": "jyQW5_sRFe2H"
      },
      "outputs": [],
      "source": [
        "#Given a string s, remove all its adjacent duplicate characters recursively\n"
      ]
    },
    {
      "cell_type": "markdown",
      "metadata": {
        "id": "4ga8RNmz4Rrk"
      },
      "source": [
        "**Important Codes related to Arrays**"
      ]
    },
    {
      "cell_type": "code",
      "execution_count": null,
      "metadata": {
        "colab": {
          "base_uri": "https://localhost:8080/"
        },
        "id": "iE9-vgQy4T00",
        "outputId": "447cba44-d5fd-4bb1-a72f-813a4e8b4670"
      },
      "outputs": [
        {
          "name": "stdout",
          "output_type": "stream",
          "text": [
            "223 34 656 32\n",
            "656\n"
          ]
        }
      ],
      "source": [
        "#largest element in a array\n",
        "a=list(map(int,input().split()))\n",
        "a.sort()\n",
        "print(a[-1])"
      ]
    },
    {
      "cell_type": "code",
      "execution_count": null,
      "metadata": {
        "colab": {
          "base_uri": "https://localhost:8080/"
        },
        "id": "3YKLfLJE4gJO",
        "outputId": "ce736a83-f455-4011-f298-8ca3a705ccb5"
      },
      "outputs": [
        {
          "name": "stdout",
          "output_type": "stream",
          "text": [
            "4 34 56 34 2\n",
            "2\n"
          ]
        }
      ],
      "source": [
        "#smallest number in a array\n",
        "a=list(map(int,input().split()))\n",
        "a.sort()\n",
        "print(a[0])"
      ]
    },
    {
      "cell_type": "code",
      "execution_count": null,
      "metadata": {
        "colab": {
          "base_uri": "https://localhost:8080/"
        },
        "id": "2w9SyiN74wP1",
        "outputId": "bebb7d58-3c4d-4bb9-97b2-297086d23387"
      },
      "outputs": [
        {
          "name": "stdout",
          "output_type": "stream",
          "text": [
            "45 454 632 6566 2\n",
            "2 6566\n"
          ]
        }
      ],
      "source": [
        "#largest and smallest number in a array\n",
        "a=list(map(int,input().split()))\n",
        "a.sort()\n",
        "print(a[0],a[-1])"
      ]
    },
    {
      "cell_type": "code",
      "execution_count": null,
      "metadata": {
        "colab": {
          "base_uri": "https://localhost:8080/"
        },
        "id": "gT6XJioE49LE",
        "outputId": "5f9a9fa7-4274-4fc5-fbd0-666ce88224da"
      },
      "outputs": [
        {
          "name": "stdout",
          "output_type": "stream",
          "text": [
            "23 345 767 564 323\n",
            "564\n"
          ]
        }
      ],
      "source": [
        "#find second largest number in a array\n",
        "a=list(map(int,input().split()))\n",
        "a.sort()\n",
        "print(a[-2])"
      ]
    },
    {
      "cell_type": "code",
      "execution_count": null,
      "metadata": {
        "colab": {
          "base_uri": "https://localhost:8080/"
        },
        "id": "iaxaODhG5M5u",
        "outputId": "667250d8-a3c3-4ee3-8a9d-b26d44e17497"
      },
      "outputs": [
        {
          "name": "stdout",
          "output_type": "stream",
          "text": [
            "54 232 6576 23\n",
            "6885\n"
          ]
        }
      ],
      "source": [
        "#calculate the sum of the digits in a array\n",
        "a=list(map(int,input().split()))\n",
        "sum=0\n",
        "for i in a:\n",
        "  sum+=i\n",
        "print(sum)"
      ]
    },
    {
      "cell_type": "code",
      "execution_count": null,
      "metadata": {
        "colab": {
          "base_uri": "https://localhost:8080/"
        },
        "id": "4DWuQASW5czt",
        "outputId": "16a62d86-48a0-4f11-e1af-c00c5e662709"
      },
      "outputs": [
        {
          "name": "stdout",
          "output_type": "stream",
          "text": [
            "435 6767 878\n",
            "[878, 6767, 435]\n"
          ]
        }
      ],
      "source": [
        "#reverse an array\n",
        "a=list(map(int,input().split()))\n",
        "a=a[::-1]\n",
        "print(a)"
      ]
    },
    {
      "cell_type": "code",
      "execution_count": null,
      "metadata": {
        "colab": {
          "base_uri": "https://localhost:8080/"
        },
        "id": "H7QHihrv5rw1",
        "outputId": "56c5d4d6-35e9-476b-ec56-072cd7deb72f"
      },
      "outputs": [
        {
          "name": "stdout",
          "output_type": "stream",
          "text": [
            "1 2 3 4 5 6 7 8 9\n",
            "[1, 2, 3, 4, 9, 8, 7, 6, 5]\n"
          ]
        }
      ],
      "source": [
        "#Sort first half in ascending order and second half in descending\n",
        "a=list(map(int,input().split()))\n",
        "mid=len(a)//2\n",
        "first_ascend=sorted(a[:mid])\n",
        "second_descent=sorted(a[mid:],reverse=True)\n",
        "print(first_ascend+second_descent)"
      ]
    },
    {
      "cell_type": "code",
      "execution_count": null,
      "metadata": {
        "colab": {
          "base_uri": "https://localhost:8080/"
        },
        "id": "_e9d8Ofj-blM",
        "outputId": "e8d78a63-e60e-47e4-f02a-66f6d933836f"
      },
      "outputs": [
        {
          "name": "stdout",
          "output_type": "stream",
          "text": [
            "323 56 67 35 67676\n",
            "[35, 56, 67, 323, 67676]\n"
          ]
        }
      ],
      "source": [
        "#sort the elemnts in a array\n",
        "a=list(map(int,input().split()))\n",
        "a.sort()\n",
        "print(a)"
      ]
    },
    {
      "cell_type": "code",
      "execution_count": null,
      "metadata": {
        "colab": {
          "base_uri": "https://localhost:8080/"
        },
        "id": "iBujhAzv-3KW",
        "outputId": "2f994fa0-7bf2-491a-888e-786adcffb775"
      },
      "outputs": [
        {
          "name": "stdout",
          "output_type": "stream",
          "text": [
            "12 344 45 34 12 223 344\n",
            "{12: 2, 344: 2, 45: 1, 34: 1, 223: 1}\n"
          ]
        }
      ],
      "source": [
        "#Finding the frequency of elements in an array\n",
        "a=list(map(int,input().split()))\n",
        "freq={}\n",
        "for i in a:\n",
        "  if i in freq:\n",
        "    freq[i]+=1\n",
        "  else:\n",
        "    freq[i]=1\n",
        "print(freq)"
      ]
    },
    {
      "cell_type": "code",
      "execution_count": null,
      "metadata": {
        "colab": {
          "base_uri": "https://localhost:8080/",
          "height": 193
        },
        "id": "YSB8y6DY_iQJ",
        "outputId": "3675ba7f-0d99-4905-8032-8fd99b51b79f"
      },
      "outputs": [
        {
          "name": "stdout",
          "output_type": "stream",
          "text": [
            "12 344 45 34 12 223 344\n"
          ]
        },
        {
          "ename": "AttributeError",
          "evalue": "'dict' object has no attribute 'sort'",
          "output_type": "error",
          "traceback": [
            "\u001b[0;31m---------------------------------------------------------------------------\u001b[0m",
            "\u001b[0;31mAttributeError\u001b[0m                            Traceback (most recent call last)",
            "\u001b[0;32m<ipython-input-13-b63ccd9e30e5>\u001b[0m in \u001b[0;36m<cell line: 8>\u001b[0;34m()\u001b[0m\n\u001b[1;32m      6\u001b[0m   \u001b[0;32melse\u001b[0m\u001b[0;34m:\u001b[0m\u001b[0;34m\u001b[0m\u001b[0;34m\u001b[0m\u001b[0m\n\u001b[1;32m      7\u001b[0m     \u001b[0mfreq\u001b[0m\u001b[0;34m[\u001b[0m\u001b[0mi\u001b[0m\u001b[0;34m]\u001b[0m\u001b[0;34m=\u001b[0m\u001b[0;36m1\u001b[0m\u001b[0;34m\u001b[0m\u001b[0;34m\u001b[0m\u001b[0m\n\u001b[0;32m----> 8\u001b[0;31m \u001b[0mprint\u001b[0m\u001b[0;34m(\u001b[0m\u001b[0mfreq\u001b[0m\u001b[0;34m.\u001b[0m\u001b[0msort\u001b[0m\u001b[0;34m(\u001b[0m\u001b[0;34m)\u001b[0m\u001b[0;34m)\u001b[0m\u001b[0;34m\u001b[0m\u001b[0;34m\u001b[0m\u001b[0m\n\u001b[0m",
            "\u001b[0;31mAttributeError\u001b[0m: 'dict' object has no attribute 'sort'"
          ]
        }
      ],
      "source": [
        "a=list(map(int,input().split()))\n",
        "freq={}\n",
        "for i in a:\n",
        "  if i in freq:\n",
        "    freq[i]+=1\n",
        "  else:\n",
        "    freq[i]=1\n",
        "print(freq.sort())"
      ]
    },
    {
      "cell_type": "code",
      "execution_count": null,
      "metadata": {
        "colab": {
          "base_uri": "https://localhost:8080/"
        },
        "id": "RLOSzaU-_t6s",
        "outputId": "eaf7e035-6908-46e4-a960-7390e0e9ba6c"
      },
      "outputs": [
        {
          "name": "stdout",
          "output_type": "stream",
          "text": [
            "madam racecar civic apple banana\n",
            "racecar\n"
          ]
        }
      ],
      "source": [
        "#longest palindrome in an array\n",
        "def is_palindrome(s):\n",
        "  return s==s[::-1]\n",
        "def longest_palindrome(arr):\n",
        "  longest=\"\"\n",
        "  for i in arr:\n",
        "    if is_palindrome(i) and len(i)>len(longest):\n",
        "      longest=i\n",
        "  return longest\n",
        "arr=input().split()\n",
        "print(longest_palindrome(arr))"
      ]
    },
    {
      "cell_type": "code",
      "execution_count": null,
      "metadata": {
        "colab": {
          "base_uri": "https://localhost:8080/"
        },
        "id": "ymYskMJ6hoes",
        "outputId": "1e1e2068-2ca0-4bb9-94e5-36aa98c0e5e0"
      },
      "outputs": [
        {
          "name": "stdout",
          "output_type": "stream",
          "text": [
            "1 2 3 4 5 6 2 3 434 532 45 23\n",
            "10\n"
          ]
        }
      ],
      "source": [
        "#Counting Distinct Elements in an Array\n",
        "def distinct(arr):\n",
        "  distinct=set(arr)\n",
        "  return len(distinct)\n",
        "arr=list(map(int,input().split()))\n",
        "print(distinct(arr))\n",
        "\n",
        "\n"
      ]
    },
    {
      "cell_type": "code",
      "execution_count": null,
      "metadata": {
        "colab": {
          "base_uri": "https://localhost:8080/"
        },
        "id": "JVuKFZj_nXY6",
        "outputId": "97d470c6-c854-4abf-c28f-f86d4873c170"
      },
      "outputs": [
        {
          "name": "stdout",
          "output_type": "stream",
          "text": [
            "23 45 565 786 4343\n",
            "4343 4\n"
          ]
        }
      ],
      "source": [
        "#finding maximum element and its index\n",
        "arr=list(map(int,input().split()))\n",
        "max_element=max(arr)\n",
        "\n",
        "print(max_element,arr.index(max_element))\n"
      ]
    },
    {
      "cell_type": "code",
      "execution_count": null,
      "metadata": {
        "colab": {
          "base_uri": "https://localhost:8080/"
        },
        "id": "xYb4JSQ71xYU",
        "outputId": "acc44ff4-3414-41fc-8638-6debd9282a30"
      },
      "outputs": [
        {
          "name": "stdout",
          "output_type": "stream",
          "text": [
            "6\n",
            "64 16 32 50 81 12\n",
            "3\n"
          ]
        }
      ],
      "source": [
        "#take an array and i/p is number of plots and array and o/p is print which has a square shaped plot\n",
        "import math\n",
        "n=int(input())\n",
        "arr=list(map(int,input().split()))\n",
        "count=0\n",
        "for i in arr:\n",
        "  if i==(math.sqrt(i))**2:\n",
        "    count+=1\n",
        "print(count)\n"
      ]
    },
    {
      "cell_type": "code",
      "execution_count": null,
      "metadata": {
        "colab": {
          "base_uri": "https://localhost:8080/"
        },
        "id": "EbrPtdCu2Q8i",
        "outputId": "03ca8ec9-6b20-4c1f-aebc-690d1e79bdb2"
      },
      "outputs": [
        {
          "name": "stdout",
          "output_type": "stream",
          "text": [
            "1 2 3 5 6\n",
            "4\n"
          ]
        }
      ],
      "source": [
        "#find the missing number among the consective number\n",
        "a=list(map(int,input().split()))\n",
        "n=len(a)+1\n",
        "expected_sum=n*(n+1)//2\n",
        "actual_sum=sum(a)\n",
        "miss=expected_sum-actual_sum\n",
        "print(miss)"
      ]
    },
    {
      "cell_type": "code",
      "execution_count": null,
      "metadata": {
        "colab": {
          "base_uri": "https://localhost:8080/"
        },
        "id": "XzaBEQFE3ABV",
        "outputId": "02e76b38-7d4f-410f-9146-aba45912ded4"
      },
      "outputs": [
        {
          "name": "stdout",
          "output_type": "stream",
          "text": [
            "56\n",
            "3   53\n",
            "13   43\n",
            "19   37\n"
          ]
        }
      ],
      "source": [
        "#Can a number be expressed as a sum of two prime numbers\n",
        "def prime(n):\n",
        "  count=0\n",
        "  for i in range(1,n+1):\n",
        "    if n%i==0:\n",
        "      count+=1\n",
        "  if count==2:\n",
        "    return True\n",
        "  else:\n",
        "    return False\n",
        "n=int(input())\n",
        "a=[]\n",
        "for j in range(2,n):\n",
        "  if prime(j):\n",
        "    a.append(j)\n",
        "for k in range(len(a)):\n",
        "  for r in range(k+1,len(a)):\n",
        "    if a[k]+a[r]==n:\n",
        "      print(a[k],\" \",a[r])"
      ]
    },
    {
      "cell_type": "code",
      "execution_count": null,
      "metadata": {
        "id": "C4CA_jp25tfE"
      },
      "outputs": [],
      "source": [
        "\"\"\"For example, consider the sequence 123.\n",
        "\n",
        "Single digit decoding:\n",
        "\n",
        "1 → A\n",
        "2 → B\n",
        "3 → C\n",
        "This sequence could be decoded as \"ABC\".\n",
        "\n",
        "Two-digit decoding:\n",
        "\n",
        "12 → L\n",
        "3 → C\n",
        "This sequence could be decoded as \"LC\".\n",
        "\n",
        "Another Two-digit decoding:\n",
        "\n",
        "1 → A\n",
        "23 → W\n",
        "This sequence could also be decoded as \"AW\".\n",
        "\n",
        "Thus, there are three possible ways to decode the sequence 123:\n",
        "\n",
        "\"ABC\"\n",
        "\"LC\"\n",
        "\"AW\"\"\"\"\n",
        "#Count possible decoding of a given digit sequence"
      ]
    },
    {
      "cell_type": "code",
      "execution_count": null,
      "metadata": {
        "colab": {
          "base_uri": "https://localhost:8080/"
        },
        "id": "gHMQZkZHax8M",
        "outputId": "2f6b1d77-b928-4be6-ebc2-8248de31834b"
      },
      "outputs": [
        {
          "name": "stdout",
          "output_type": "stream",
          "text": [
            "35546576564\n",
            "5\n",
            "no of times  4\n"
          ]
        }
      ],
      "source": [
        "#Finding Number of times x digit occurs in a given input\n",
        "def string(input_str,x):\n",
        "  x_str=str(x)\n",
        "  count=0\n",
        "  for char in input_str:\n",
        "    if char==x_str:\n",
        "      count+=1\n",
        "  return count\n",
        "s=input()\n",
        "x=int(input())\n",
        "print(\"no of times \",string(s,x))"
      ]
    },
    {
      "cell_type": "code",
      "execution_count": null,
      "metadata": {
        "id": "s7B3rowlbLUw"
      },
      "outputs": [],
      "source": [
        "#Finding number of integers which has exactly x divisors\n",
        "n=int(input())\n"
      ]
    },
    {
      "cell_type": "code",
      "execution_count": null,
      "metadata": {
        "colab": {
          "base_uri": "https://localhost:8080/"
        },
        "id": "N49spJsVbwFz",
        "outputId": "9776c7e4-7c86-4a84-c629-01eb422e9c80"
      },
      "outputs": [
        {
          "name": "stdout",
          "output_type": "stream",
          "text": [
            "Number of integers between 1 and 100 with exactly 4 divisors: 32\n"
          ]
        }
      ],
      "source": [
        "import math\n",
        "\n",
        "def count_divisors(n):\n",
        "    count = 0\n",
        "    for i in range(1, int(math.sqrt(n)) + 1):\n",
        "        if n % i == 0:\n",
        "            count += 1\n",
        "            if i != n // i:\n",
        "                count += 1\n",
        "    return count\n",
        "\n",
        "def count_numbers_with_exactly_x_divisors(limit, x):\n",
        "    count = 0\n",
        "    for num in range(1, limit + 1):\n",
        "        if count_divisors(num) == x:\n",
        "            count += 1\n",
        "    return count\n",
        "\n",
        "# Example usage\n",
        "limit = 100  # range from 1 to 100\n",
        "x = 4        # looking for numbers with exactly 4 divisors\n",
        "result = count_numbers_with_exactly_x_divisors(limit, x)\n",
        "print(f\"Number of integers between 1 and {limit} with exactly {x} divisors: {result}\")\n"
      ]
    },
    {
      "cell_type": "markdown",
      "metadata": {
        "id": "9spIbWeDhWR8"
      },
      "source": [
        "**codes on matrix**"
      ]
    },
    {
      "cell_type": "code",
      "execution_count": null,
      "metadata": {
        "id": "J-214GB7bwnk"
      },
      "outputs": [],
      "source": []
    },
    {
      "cell_type": "markdown",
      "metadata": {
        "id": "jYsMm42Fk0d0"
      },
      "source": [
        "**strings**"
      ]
    },
    {
      "cell_type": "code",
      "execution_count": null,
      "metadata": {
        "colab": {
          "base_uri": "https://localhost:8080/"
        },
        "id": "bZSbOeYbk3hR",
        "outputId": "1bfb6683-d353-4cf8-af46-dd49dd8eb186"
      },
      "outputs": [
        {
          "name": "stdout",
          "output_type": "stream",
          "text": [
            "e\n",
            "vowel\n"
          ]
        }
      ],
      "source": [
        "#Check whether a character is a vowel or consonant\n",
        "a=input()\n",
        "d=\"aeiouAEIOU\"\n",
        "if a in d:\n",
        "  print(\"vowel\")\n",
        "else:\n",
        "  print(\"consonant\")"
      ]
    },
    {
      "cell_type": "code",
      "execution_count": null,
      "metadata": {
        "colab": {
          "base_uri": "https://localhost:8080/"
        },
        "id": "zulOTNU5lEUX",
        "outputId": "04e589dc-2940-4f60-e370-d0e7011d9bbf"
      },
      "outputs": [
        {
          "name": "stdout",
          "output_type": "stream",
          "text": [
            "hdde\n",
            "alphabet\n"
          ]
        }
      ],
      "source": [
        "#Check whether a character is a alphabet or not\n",
        "a=input()\n",
        "x=a.isalpha()\n",
        "if x is True:\n",
        "  print(\"alphabet\")\n",
        "else:\n",
        "  print(\"not alphabet\")"
      ]
    },
    {
      "cell_type": "code",
      "execution_count": null,
      "metadata": {
        "colab": {
          "base_uri": "https://localhost:8080/"
        },
        "id": "RWMqaGzMlkoG",
        "outputId": "11145f84-443a-4132-a7ea-4280636e93d8"
      },
      "outputs": [
        {
          "name": "stdout",
          "output_type": "stream",
          "text": [
            "A\n",
            "65\n"
          ]
        }
      ],
      "source": [
        "#Find the ASCII value of a character\n",
        "a=input()\n",
        "print(ord(a))"
      ]
    },
    {
      "cell_type": "code",
      "execution_count": null,
      "metadata": {
        "colab": {
          "base_uri": "https://localhost:8080/"
        },
        "id": "yxgUUEeHmRRv",
        "outputId": "50e7e4fb-4749-48f4-cb7a-3808e48c44ad"
      },
      "outputs": [
        {
          "name": "stdout",
          "output_type": "stream",
          "text": [
            "asdfghjkl\n",
            "9\n"
          ]
        }
      ],
      "source": [
        "#Length of the string without using strlen() function\n",
        "a=input()\n",
        "count=0\n",
        "for i in a:\n",
        "  count+=1\n",
        "print(count)"
      ]
    },
    {
      "cell_type": "code",
      "execution_count": null,
      "metadata": {
        "colab": {
          "base_uri": "https://localhost:8080/"
        },
        "id": "Az5I5i8QmfhJ",
        "outputId": "56c669cc-4b9f-4ba0-a595-fcd8b8d173ee"
      },
      "outputs": [
        {
          "name": "stdout",
          "output_type": "stream",
          "text": [
            "swdDRFGrdrdFffFcfCF\n",
            " SWDdrfgRDRDfFFfCFcf\n"
          ]
        }
      ],
      "source": [
        "#Toggle each character in a string\n",
        "a=input()\n",
        "toggle=\" \"\n",
        "for char in a:\n",
        "  if char.isupper():\n",
        "    toggle+=char.lower()\n",
        "  elif char.islower():\n",
        "    toggle+=char.upper()\n",
        "  else:\n",
        "    toggle+=char\n",
        "print(toggle)"
      ]
    },
    {
      "cell_type": "code",
      "execution_count": null,
      "metadata": {
        "colab": {
          "base_uri": "https://localhost:8080/"
        },
        "id": "gT8gbbQxnYmG",
        "outputId": "fc5158b2-55b9-472b-a909-9cfcefaa020e"
      },
      "outputs": [
        {
          "name": "stdout",
          "output_type": "stream",
          "text": [
            "aerstyuioknjbhvgfcd\n",
            "5\n"
          ]
        }
      ],
      "source": [
        "#Count the number of vowels\n",
        "a=input()\n",
        "d=\"aeiouAEIOU\"\n",
        "count=0\n",
        "for i in a:\n",
        "  if i in d:\n",
        "    count+=1\n",
        "print(count)\n"
      ]
    },
    {
      "cell_type": "code",
      "execution_count": null,
      "metadata": {
        "colab": {
          "base_uri": "https://localhost:8080/"
        },
        "id": "xsYbYd9Gn0lD",
        "outputId": "b2c44a6b-c7cb-4781-8a6e-f8c57824b2fa"
      },
      "outputs": [
        {
          "name": "stdout",
          "output_type": "stream",
          "text": [
            "asertyuiolkj\n",
            "srtylkj\n"
          ]
        }
      ],
      "source": [
        "#Remove the vowels from a String\n",
        "a=input()\n",
        "d=\"AEIOUaeiou\"\n",
        "result=\"\"\n",
        "for i in a:\n",
        "  if i not in d:\n",
        "    result+=i\n",
        "print(result)"
      ]
    },
    {
      "cell_type": "code",
      "execution_count": null,
      "metadata": {
        "colab": {
          "base_uri": "https://localhost:8080/"
        },
        "id": "p_Ch3XJwoROS",
        "outputId": "e8ba3b97-fd27-4ad3-a561-904c554230a3"
      },
      "outputs": [
        {
          "name": "stdout",
          "output_type": "stream",
          "text": [
            "madam\n",
            "palindrome\n"
          ]
        }
      ],
      "source": [
        "#Check if the given string is Palindrome or not\n",
        "a=input()\n",
        "if a[::-1]==a:\n",
        "  print(\"palindrome\")\n",
        "else:\n",
        "  print(\"not  a palindrome\")"
      ]
    },
    {
      "cell_type": "code",
      "execution_count": null,
      "metadata": {
        "colab": {
          "base_uri": "https://localhost:8080/"
        },
        "id": "gpYLZEJTo6qn",
        "outputId": "ca5c281b-d6af-40d4-960c-d4e6ab0433cf"
      },
      "outputs": [
        {
          "name": "stdout",
          "output_type": "stream",
          "text": [
            "hgfds\n",
            "sdfgh\n"
          ]
        }
      ],
      "source": [
        "#Print the given string in reverse order\n",
        "a=input()\n",
        "print(a[::-1])"
      ]
    },
    {
      "cell_type": "code",
      "execution_count": null,
      "metadata": {
        "colab": {
          "base_uri": "https://localhost:8080/"
        },
        "id": "0ebSYd2kpDkV",
        "outputId": "ffeeea09-6519-4488-ea2f-64ec9448f753"
      },
      "outputs": [
        {
          "name": "stdout",
          "output_type": "stream",
          "text": [
            "SDXFRTG34567dfgh\n",
            "SDXFRTGdfgh"
          ]
        }
      ],
      "source": [
        "#Remove all characters from string except alphabets\n",
        "a=input()\n",
        "for i in a:\n",
        "  if i.isalpha():\n",
        "    print(i,end=\"\")"
      ]
    },
    {
      "cell_type": "code",
      "execution_count": null,
      "metadata": {
        "colab": {
          "base_uri": "https://localhost:8080/"
        },
        "id": "d53KPELXpTQK",
        "outputId": "f9276250-e506-4d97-8392-ff790dda46f9"
      },
      "outputs": [
        {
          "name": "stdout",
          "output_type": "stream",
          "text": [
            "zzsd rdfg   fdtgyh\n",
            "zzsdrdfgfdtgyh\n"
          ]
        }
      ],
      "source": [
        "#Remove spaces from a string\n",
        "a=input()\n",
        "r=\"\"\n",
        "for i in a:\n",
        "  if \" \" not in i:\n",
        "    r+=i\n",
        "print(r)"
      ]
    },
    {
      "cell_type": "code",
      "execution_count": null,
      "metadata": {
        "colab": {
          "base_uri": "https://localhost:8080/"
        },
        "id": "17PNCKL2pmUV",
        "outputId": "45b5667a-3392-4c98-c6eb-267c715f3491"
      },
      "outputs": [
        {
          "name": "stdout",
          "output_type": "stream",
          "text": [
            "ade(dv)fef(\n",
            "adedvfef\n"
          ]
        }
      ],
      "source": [
        "#Remove brackets from an algebraic expression\n",
        "a=input()\n",
        "r=\"\"\n",
        "for i in a:\n",
        "  if i!=\"(\" and i!=\")\":\n",
        "    r+=i\n",
        "print(r)"
      ]
    },
    {
      "cell_type": "code",
      "execution_count": null,
      "metadata": {
        "colab": {
          "base_uri": "https://localhost:8080/"
        },
        "id": "F_9hoLLdp7ju",
        "outputId": "96ab9639-e7b7-4096-91be-c2c382af14b4"
      },
      "outputs": [
        {
          "name": "stdout",
          "output_type": "stream",
          "text": [
            "dgfhd567323e\n",
            "6\n"
          ]
        }
      ],
      "source": [
        "#Count the sum of numbers in a string\n",
        "a=input()\n",
        "count=0\n",
        "for i in a:\n",
        "  if i.isdigit():\n",
        "    count+=1\n",
        "print(count)"
      ]
    },
    {
      "cell_type": "code",
      "execution_count": null,
      "metadata": {
        "colab": {
          "base_uri": "https://localhost:8080/"
        },
        "id": "dHSHLCD8qjl_",
        "outputId": "c7037591-f82c-4129-d4fa-a7e49a5b4202"
      },
      "outputs": [
        {
          "name": "stdout",
          "output_type": "stream",
          "text": [
            "hello i am navya\n",
            "HellO II AM NavyA\n"
          ]
        }
      ],
      "source": [
        "#Capitalize the first and last character of each word of a string\n",
        "a=input().split()\n",
        "r=[]\n",
        "for i in a:\n",
        "  if len(a)>1:\n",
        "    new_word=i[0].upper() + i[1:-1] + i[-1].upper()\n",
        "  else:\n",
        "    new_word=i.upper()\n",
        "  r.append(new_word)\n",
        "final=\" \".join(r)\n",
        "print(final)\n",
        "\n"
      ]
    },
    {
      "cell_type": "code",
      "execution_count": null,
      "metadata": {
        "colab": {
          "base_uri": "https://localhost:8080/"
        },
        "id": "ofpUfrwUrub_",
        "outputId": "afa1f677-30db-4d54-c47d-5f46cb94a971"
      },
      "outputs": [
        {
          "name": "stdout",
          "output_type": "stream",
          "text": [
            "madam\n",
            "{'m': 2, 'a': 2, 'd': 1}\n"
          ]
        }
      ],
      "source": [
        "#Calculate frequency of characters in a string\n",
        "a=input()\n",
        "dict={}\n",
        "\n",
        "for i in a:\n",
        "  if i in dict:\n",
        "    dict[i]+=1\n",
        "  else:\n",
        "    dict[i]=1\n",
        "print(dict)"
      ]
    },
    {
      "cell_type": "code",
      "execution_count": null,
      "metadata": {
        "colab": {
          "base_uri": "https://localhost:8080/"
        },
        "id": "TMrL_9V4srY8",
        "outputId": "37afa19b-754d-42ac-cee9-d841fc8cbc18"
      },
      "outputs": [
        {
          "name": "stdout",
          "output_type": "stream",
          "text": [
            "hshwswysgwhsgwhwj\n",
            "['y', 'j']\n"
          ]
        }
      ],
      "source": [
        "#Find non-repeating characters in a string\n",
        "a=input()\n",
        "dict={}\n",
        "for i in a:\n",
        "  if i in dict:\n",
        "    dict[i]+=1\n",
        "  else:\n",
        "    dict[i]=1\n",
        "non_repeat=[]\n",
        "for i,count in dict.items():\n",
        "  if count==1:\n",
        "    non_repeat.append(i)\n",
        "print(non_repeat)\n"
      ]
    },
    {
      "cell_type": "code",
      "execution_count": null,
      "metadata": {
        "id": "ffkLSO_yuOLI"
      },
      "outputs": [],
      "source": []
    },
    {
      "cell_type": "code",
      "execution_count": null,
      "metadata": {
        "colab": {
          "base_uri": "https://localhost:8080/"
        },
        "id": "tGEia3SDtOQz",
        "outputId": "76347ed6-0c48-4d40-aa2c-8ac4a7e2416a"
      },
      "outputs": [
        {
          "name": "stdout",
          "output_type": "stream",
          "text": [
            "dam\n",
            "MAD\n",
            "anagram\n"
          ]
        }
      ],
      "source": [
        "#Check if two strings are Anagram or not\n",
        "str1=input().lower()\n",
        "str2=input().lower()\n",
        "if len(str1)==len(str2):\n",
        "  if sorted(str1)==sorted(str2):\n",
        "    print(\"anagram\")\n",
        "  else:\n",
        "    print(\"not anagrams\")\n",
        "else:\n",
        "  print(\"Not anagram\")"
      ]
    },
    {
      "cell_type": "code",
      "execution_count": null,
      "metadata": {
        "colab": {
          "base_uri": "https://localhost:8080/"
        },
        "id": "cwYTfUfkuNVR",
        "outputId": "8fc59b43-c367-4f7c-f95b-931201415f4e"
      },
      "outputs": [
        {
          "name": "stdout",
          "output_type": "stream",
          "text": [
            "hello navya\n",
            "navya\n",
            "kanna\n",
            "hello kanna\n"
          ]
        }
      ],
      "source": [
        "#Replace a sub-string in a string\n",
        "a=input()\n",
        "replaced_str=input()\n",
        "updated_str=input()\n",
        "b=a.replace(replaced_str,updated_str)\n",
        "print(b)"
      ]
    },
    {
      "cell_type": "code",
      "execution_count": null,
      "metadata": {
        "colab": {
          "base_uri": "https://localhost:8080/"
        },
        "id": "Mub7eLWjuvv-",
        "outputId": "19e6e49f-4b38-43c7-d1bd-6371e00dcf92"
      },
      "outputs": [
        {
          "name": "stdout",
          "output_type": "stream",
          "text": [
            "hi hello how are you\n",
            "hello\n",
            "idiot\n",
            "hi idiot how are you\n"
          ]
        }
      ],
      "source": [
        "#Replacing a particular word with another word in a string\n",
        "#Replace a sub-string in a string\n",
        "a=input()\n",
        "replaced_str=input()\n",
        "updated_str=input()\n",
        "b=a.replace(replaced_str,updated_str)\n",
        "print(b)"
      ]
    },
    {
      "cell_type": "code",
      "execution_count": null,
      "metadata": {
        "id": "NCLJWvV3vFYz"
      },
      "outputs": [],
      "source": [
        "#Count common sub-sequence in two strings\n"
      ]
    },
    {
      "cell_type": "code",
      "execution_count": null,
      "metadata": {
        "id": "G5JH3V4fvp4T"
      },
      "outputs": [],
      "source": [
        "#Check if two strings match where one string contains wildcard characters"
      ]
    },
    {
      "cell_type": "code",
      "execution_count": null,
      "metadata": {
        "id": "zQM4yj0Lv0aK"
      },
      "outputs": [],
      "source": [
        "#Print all permutations of a given string in lexicographically sorted order"
      ]
    },
    {
      "cell_type": "code",
      "execution_count": null,
      "metadata": {
        "colab": {
          "base_uri": "https://localhost:8080/"
        },
        "id": "Fj0tKUzYbexX",
        "outputId": "9377a87a-cd41-44d5-f8f0-96f3cc1c0a62"
      },
      "outputs": [
        {
          "name": "stdout",
          "output_type": "stream",
          "text": [
            "Abcaca\n",
            "a\n",
            "2\n"
          ]
        }
      ],
      "source": [
        "\"\"\"alice has collection of songs represented as string s where each char represents a song .\n",
        "a playlist is a substring of given string with exactly k numbre of songs .\n",
        "she wants to create a playlistbthat contain maximum number of gher fav songs which is \"a\"byou task is\n",
        " find and return an integer value representing maximum no of fav songs that she can get in a singld playlist...\n",
        " i/p=Abcaca\n",
        " 3\n",
        " o/p=2\"\"\"\n",
        "def max_fav_songs(s: str, k: int) -> int:\n",
        "    max_count = 0\n",
        "    current_count = 0\n",
        "\n",
        "    # Initialize the count for the first window\n",
        "    for i in range(k):\n",
        "        if s[i] == 'a':\n",
        "            current_count += 1\n",
        "\n",
        "    max_count = current_count\n",
        "\n",
        "    # Slide the window over the string\n",
        "    for i in range(k, len(s)):\n",
        "        # Slide the window by removing the leftmost element and adding the rightmost element\n",
        "        if s[i - k] == 'a':\n",
        "            current_count -= 1\n",
        "        if s[i] == 'a':\n",
        "            current_count += 1\n",
        "\n",
        "        # Update the maximum count\n",
        "        max_count = max(max_count, current_count)\n",
        "\n",
        "    return max_count\n",
        "\n",
        "# Example usage:\n",
        "s = \"Abcaca\"\n",
        "k = 3\n",
        "print(max_fav_songs(s, k))  # Output: 2\n"
      ]
    },
    {
      "cell_type": "code",
      "execution_count": null,
      "metadata": {
        "colab": {
          "base_uri": "https://localhost:8080/"
        },
        "id": "78XYs26Oc7qx",
        "outputId": "4344122b-11ae-4255-8ff0-01545ef9fdc0"
      },
      "outputs": [
        {
          "name": "stdout",
          "output_type": "stream",
          "text": [
            "7\n",
            "-7 1 5 2 -4 3 0\n",
            "3\n"
          ]
        }
      ],
      "source": [
        "\"\"\"the function accepts an int array arr of size n as its arguments .\n",
        "the function needs to return the index of an equilibrium point in array where sum of elements on the left of the index is equal to sum of the\n",
        "elements on right side index.if no equilibrium point exist return -1\n",
        "i/p=7\n",
        "-7 1 5 2 -4 3 0\n",
        "o/p=3\"\"\"\n",
        "def find_equilibrium_point(arr):\n",
        "    total_sum = sum(arr)\n",
        "    left_sum = 0\n",
        "\n",
        "    for i in range(len(arr)):\n",
        "        right_sum = total_sum - left_sum - arr[i]\n",
        "\n",
        "        if left_sum == right_sum:\n",
        "            return i\n",
        "        left_sum += arr[i]\n",
        "\n",
        "    return -1\n",
        "\n",
        "n = int(input())\n",
        "arr = list(map(int, input().split()))\n",
        "\n",
        "result = find_equilibrium_point(arr)\n",
        "print(result)\n",
        "\n"
      ]
    },
    {
      "cell_type": "code",
      "execution_count": null,
      "metadata": {
        "colab": {
          "base_uri": "https://localhost:8080/"
        },
        "id": "QdIrZ38nfOGw",
        "outputId": "61517de5-6323-46bf-b12a-a0a200e84f80"
      },
      "outputs": [
        {
          "name": "stdout",
          "output_type": "stream",
          "text": [
            "7\n",
            "3 4 5 6 2 3 9\n",
            "1\n"
          ]
        }
      ],
      "source": [
        "\"\"\"you are working for financial analysing tools which represents daily stock prices of a company over time.\n",
        "each elements in an integer array A of sixe n represents the closing price of stock for that particular day.\n",
        "your task is to find and return an integer value rperesenting the total no of days where stock market price decreased indicate negative growth.\n",
        "i/p=7\n",
        "5 6 4 5 2 3 4\n",
        "o/p=2\n",
        "\"\"\"\n",
        "n=int(input())\n",
        "arr=list(map(int,input().split()))\n",
        "count=0\n",
        "for i in range(1,n):\n",
        "  if arr[i-1]>arr[i]:\n",
        "    count+=1\n",
        "print(count)"
      ]
    },
    {
      "cell_type": "code",
      "execution_count": null,
      "metadata": {
        "colab": {
          "base_uri": "https://localhost:8080/"
        },
        "id": "-zAkMJn3icAU",
        "outputId": "3c3c8444-8b37-4526-e58d-4a95da287971"
      },
      "outputs": [
        {
          "name": "stdout",
          "output_type": "stream",
          "text": [
            "5\n",
            "33 234 56 78 333\n",
            "4\n"
          ]
        }
      ],
      "source": [
        "\"\"\"alice has a pair of magical shoes that allows her to climb 3 strirs at once .\n",
        "in the city there are N houses whose roof alice wants to reach .the number of roofs of each house is given in a array\n",
        "alice can reach the rpof only houses where the no of multiple of 3.your task is to find and return int value representing count of the number of houses whose roof alice can climb.\n",
        "i/p=4\n",
        "12 21 3 4\n",
        "o/p=3\n",
        "\"\"\"\n",
        "n=int(input())\n",
        "arr=list(map(int,input().split()))\n",
        "count=0\n",
        "for i in arr:\n",
        "  if i%3==0:\n",
        "    count+=1\n",
        "print(count)\n"
      ]
    },
    {
      "cell_type": "code",
      "execution_count": null,
      "metadata": {
        "colab": {
          "base_uri": "https://localhost:8080/"
        },
        "id": "qlgBLuYHkgsz",
        "outputId": "40a4bdec-38a9-4548-a37a-5408ff4770e2"
      },
      "outputs": [
        {
          "output_type": "stream",
          "name": "stdout",
          "text": [
            "5\n",
            "2\n"
          ]
        }
      ],
      "source": [
        "\"\"\"you are given a program to find the count of magical number from 1 to N .\n",
        "a magical number is defined by the following criteria.\n",
        "*convert each no in the range of 1 to N to its binary representation\n",
        "*replace 0 with 1 and 1 with 2 in binary string.\n",
        "*calculate the sum of all digits in the modification string.if resultant num is odd then consider its magical string.\n",
        "i/p=4\n",
        "o/p=1\n",
        "explantion\n",
        "1 ->1 ->2 even\n",
        "2 ->10 ->1+2=3 odd\n",
        "3 ->11 ->2+2=4 even\n",
        "4->100 ->2+1+1=even..\n",
        "\"\"\"\n",
        "def count_magical_numbers(N):\n",
        "    magical_count = 0\n",
        "\n",
        "    for number in range(1, N + 1):\n",
        "        # Convert the number to binary\n",
        "        binary_representation = bin(number)[2:]  # bin() returns a string like '0b10', so we slice off '0b'\n",
        "\n",
        "        # Replace 0 with 1 and 1 with 2 in the binary string\n",
        "        modified_string = ''\n",
        "        for char in binary_representation:\n",
        "            if char == '0':\n",
        "                modified_string += '1'\n",
        "            elif char == '1':\n",
        "                modified_string += '2'\n",
        "\n",
        "        # Calculate the sum of the digits in the modified string\n",
        "        sum_of_digits = sum(int(char) for char in modified_string)\n",
        "\n",
        "        # Check if the sum is odd\n",
        "        if sum_of_digits % 2 == 1:\n",
        "            magical_count += 1\n",
        "\n",
        "    return magical_count\n",
        "\n",
        "# Test case\n",
        "N = int(input())\n",
        "print(count_magical_numbers(N))  # Output: 1\n",
        "\n",
        "\n"
      ]
    },
    {
      "cell_type": "code",
      "execution_count": null,
      "metadata": {
        "colab": {
          "base_uri": "https://localhost:8080/"
        },
        "id": "TRafN3dwnDtt",
        "outputId": "bbad2e3f-9e17-4a6a-95d7-3e7126f0e13a"
      },
      "outputs": [
        {
          "name": "stdout",
          "output_type": "stream",
          "text": [
            "20\n",
            "77\n"
          ]
        }
      ],
      "source": [
        "#find the sum of all prime numbers till the given number n\n",
        "#i/p=10\n",
        "#o/p=17\n",
        "def prime(n):\n",
        "  if n<=1:\n",
        "    return False\n",
        "  for i in range(2,n):\n",
        "    if n%i==0:\n",
        "      return False\n",
        "  return True\n",
        "n=int(input())\n",
        "sum=0\n",
        "for i in range(2,n+1):\n",
        "  if prime(i):\n",
        "    sum+=i\n",
        "print(sum)\n",
        "\n"
      ]
    },
    {
      "cell_type": "code",
      "execution_count": null,
      "metadata": {
        "colab": {
          "base_uri": "https://localhost:8080/"
        },
        "id": "v7E1tKZ5ovTB",
        "outputId": "102da742-692f-4755-cdde-270c94ac35a8"
      },
      "outputs": [
        {
          "name": "stdout",
          "output_type": "stream",
          "text": [
            "aabbcc\n"
          ]
        },
        {
          "data": {
            "text/plain": [
              "24"
            ]
          },
          "execution_count": 6,
          "metadata": {},
          "output_type": "execute_result"
        }
      ],
      "source": [
        "\"\"\"you were given a string s and your task is to\n",
        "find and return the count of permutation formed by fixing positions of the vowels present in the string..\n",
        "i/p=abc\n",
        "o/p=2\"\"\"\n",
        "import math\n",
        "def permutaion(s):\n",
        "  vowel=\"aeiouAEIOU\"\n",
        "  conso=[i for i in s if i not in vowel]\n",
        "  per_count=math.factorial(len(conso))\n",
        "  return per_count\n",
        "s=input()\n",
        "permutaion(s)"
      ]
    },
    {
      "cell_type": "code",
      "execution_count": null,
      "metadata": {
        "colab": {
          "base_uri": "https://localhost:8080/"
        },
        "id": "jFirSPQr0ghL",
        "outputId": "eb72dd5a-d102-401f-a221-46e79ca475a7"
      },
      "outputs": [
        {
          "name": "stdout",
          "output_type": "stream",
          "text": [
            "5\n",
            "10 20 51 49 54\n",
            "50\n"
          ]
        },
        {
          "data": {
            "text/plain": [
              "51"
            ]
          },
          "execution_count": 14,
          "metadata": {},
          "output_type": "execute_result"
        }
      ],
      "source": [
        "\"\"\"least absolute difference between array elements take function and array,length,n as arguments\n",
        "size=5\n",
        "arr=10 20 51 49 54\n",
        "n=50\n",
        "o/p=51\"\"\"\n",
        "def absolute(arr,size,n):\n",
        "  min_diff=float(\"inf\")\n",
        "  closest=None\n",
        "  for i in range(size):\n",
        "    diff=abs(arr[i]-n)\n",
        "    if diff<min_diff:\n",
        "      min_diff=diff\n",
        "      closest=arr[i]\n",
        "  return closest\n",
        "\n",
        "\n",
        "size=int(input())\n",
        "arr=list(map(int,input().split()))\n",
        "n=int(input())\n",
        "absolute(arr,size,n)"
      ]
    },
    {
      "cell_type": "code",
      "execution_count": null,
      "metadata": {
        "id": "T1O60wOR4YWz"
      },
      "outputs": [],
      "source": [
        "#round off the number if unit digit is <=4 then smallest and nearest multiple of 10 and\n",
        "#if unit digit is >=5 the largest and nearest multiple of 10\n",
        "def RoundOff(n):\n",
        "  rem=n%10\n",
        "  if rem<=4:\n",
        "    return n-rem\n",
        "  else:\n",
        "    return n+(10-rem)\n",
        "n=int(input())\n",
        "\n",
        "RoundOff(n)"
      ]
    },
    {
      "cell_type": "code",
      "execution_count": null,
      "metadata": {
        "colab": {
          "base_uri": "https://localhost:8080/"
        },
        "id": "TQD-6X4q9kZj",
        "outputId": "12a43f95-721b-4727-8825-ccafa527cda7"
      },
      "outputs": [
        {
          "name": "stdout",
          "output_type": "stream",
          "text": [
            "10 20 30 40 50\n",
            "1 12 32 34 4\n",
            "12\n"
          ]
        },
        {
          "data": {
            "text/plain": [
              "4"
            ]
          },
          "execution_count": 1,
          "metadata": {},
          "output_type": "execute_result"
        }
      ],
      "source": [
        "# take 2 array with len 1 and len 2 and take one k value\n",
        "#arr 1 is gretaer than k then x increments and arr2 is lesser than k then y increments..\n",
        "#print max(x,y)\n",
        "def minmax_in_two_values(arr1,arr2,k):\n",
        "  x=0\n",
        "  y=0\n",
        "  for i in arr1:\n",
        "    if i>k:\n",
        "      x+=1\n",
        "  for j in arr2:\n",
        "    if j<k:\n",
        "      y+=1\n",
        "  return max(x,y)\n",
        "arr1=list(map(int,input().split()))\n",
        "arr2=list(map(int,input().split()))\n",
        "k=int(input())\n",
        "minmax_in_two_values(arr1,arr2,k)\n"
      ]
    },
    {
      "cell_type": "code",
      "execution_count": null,
      "metadata": {
        "colab": {
          "base_uri": "https://localhost:8080/"
        },
        "id": "GTYKQRBMJi9b",
        "outputId": "df0bd791-ef36-486b-e243-54c33f2c1380"
      },
      "outputs": [
        {
          "name": "stdout",
          "output_type": "stream",
          "text": [
            "2 5 6 8\n"
          ]
        },
        {
          "data": {
            "text/plain": [
              "40"
            ]
          },
          "execution_count": 27,
          "metadata": {},
          "output_type": "execute_result"
        }
      ],
      "source": [
        "def maximum_product(l1,r1,l2,r2):\n",
        "  a=[]\n",
        "  b=[]\n",
        "  if l1<r1 and l2<r2:\n",
        "    for i in range(l1,r1+1):\n",
        "        a.append(i)\n",
        "    for j in range(l2,r2+1):\n",
        "        b.append(j)\n",
        "  return max(a)*max(b)\n",
        "\n",
        "\n",
        "\n",
        "l1,r1,l2,r2=map(int,input().split())\n",
        "maximum_product(l1,r1,l2,r2)"
      ]
    },
    {
      "cell_type": "code",
      "execution_count": null,
      "metadata": {
        "colab": {
          "base_uri": "https://localhost:8080/"
        },
        "id": "vrS92MsKSsoI",
        "outputId": "91adb0bb-2b29-404e-d885-27246a5e4f2b"
      },
      "outputs": [
        {
          "name": "stdout",
          "output_type": "stream",
          "text": [
            "2\n"
          ]
        },
        {
          "data": {
            "text/plain": [
              "7"
            ]
          },
          "execution_count": 16,
          "metadata": {},
          "output_type": "execute_result"
        }
      ],
      "source": [
        "#n*(3*(n+1))//2\n",
        "#pyramid cards levels\n",
        "def cards(n):\n",
        "  if n>0:\n",
        "    return n*(3*n+1)//2\n",
        "n=int(input())\n",
        "cards(n)"
      ]
    },
    {
      "cell_type": "code",
      "execution_count": null,
      "metadata": {
        "colab": {
          "base_uri": "https://localhost:8080/"
        },
        "id": "TOKwlbPS7ddl",
        "outputId": "fb4cb9bd-d537-41f9-e18a-0e38e79e5eca"
      },
      "outputs": [
        {
          "name": "stdout",
          "output_type": "stream",
          "text": [
            "1000\n"
          ]
        },
        {
          "data": {
            "text/plain": [
              "909"
            ]
          },
          "execution_count": 26,
          "metadata": {},
          "output_type": "execute_result"
        }
      ],
      "source": [
        "#digicount\n",
        "def digicount(n):\n",
        "  count=0\n",
        "  for i in range(1,n+1):\n",
        "    d=str(i)\n",
        "    h=len(d)\n",
        "    if h%2!=0:\n",
        "      count+=1\n",
        "  return count\n",
        "n=int(input())\n",
        "digicount(n)\n",
        "\n"
      ]
    },
    {
      "cell_type": "code",
      "execution_count": null,
      "metadata": {
        "colab": {
          "base_uri": "https://localhost:8080/"
        },
        "id": "M8qDS9pC9zC5",
        "outputId": "8f4098f5-27d0-40e5-f571-a7d974f40846"
      },
      "outputs": [
        {
          "name": "stdout",
          "output_type": "stream",
          "text": [
            "Jcchchchv\n"
          ]
        },
        {
          "data": {
            "text/plain": [
              "4"
            ]
          },
          "execution_count": 31,
          "metadata": {},
          "output_type": "execute_result"
        }
      ],
      "source": [
        "def string(s):\n",
        "   a=[]\n",
        "   count=0\n",
        "   for i in s:\n",
        "       if i not in a:\n",
        "           a.append(i)\n",
        "           count+=1\n",
        "   return count\n",
        "s=input()\n",
        "string(s)"
      ]
    },
    {
      "cell_type": "code",
      "execution_count": null,
      "metadata": {
        "colab": {
          "base_uri": "https://localhost:8080/"
        },
        "id": "Mc_WExI9oBsg",
        "outputId": "1ef5480d-bb82-4da8-eae5-b9de9f239894"
      },
      "outputs": [
        {
          "name": "stdout",
          "output_type": "stream",
          "text": [
            "1210\n"
          ]
        },
        {
          "data": {
            "text/plain": [
              "4"
            ]
          },
          "execution_count": 2,
          "metadata": {},
          "output_type": "execute_result"
        }
      ],
      "source": [
        "#autobiagraphical number\n",
        "def auto(n):\n",
        "  d=str(n)\n",
        "  sum=0\n",
        "  for i in d:\n",
        "    sum+=int(i)\n",
        "  if sum==len(d):\n",
        "    return sum\n",
        "n=int(input())\n",
        "auto(n)\n"
      ]
    },
    {
      "cell_type": "code",
      "execution_count": null,
      "metadata": {
        "colab": {
          "base_uri": "https://localhost:8080/"
        },
        "id": "4zY9lbxBoa2L",
        "outputId": "9a060ea3-8a6a-4a80-927c-dc0bc7922666"
      },
      "outputs": [
        {
          "name": "stdout",
          "output_type": "stream",
          "text": [
            "abcd\n"
          ]
        },
        {
          "data": {
            "text/plain": [
              "24"
            ]
          },
          "execution_count": 5,
          "metadata": {},
          "output_type": "execute_result"
        }
      ],
      "source": [
        "\"\"\"write a program to input string and display count of all permutation of string without using any builtin function\n",
        "i/p=ABC\n",
        "O/P=6\"\"\"\n",
        "def fact(n):\n",
        "  if n==0 or n==1:\n",
        "    return 1\n",
        "  result=1\n",
        "  for i in range(2,n+1):\n",
        "    result*=i\n",
        "  return result\n",
        "\n",
        "def permutation(s):\n",
        "  n=len(s)\n",
        "  return fact(n)\n",
        "s=input()\n",
        "permutation(s)"
      ]
    },
    {
      "cell_type": "code",
      "execution_count": null,
      "metadata": {
        "id": "Wvb0KdYUqLxI"
      },
      "outputs": [],
      "source": [
        "\"\"\"the function acccepts an integer n implement the function to find the minimum prime factors of n and return difference with its\n",
        "minimum prime factor\n",
        "assumption n>1\n",
        "i/p=350\n",
        "output=348\n",
        "explanation=350=2*5*5*7\n",
        "minimum prime factor is 2 therefore return 350-2=348\"\"\"\n",
        "def\n",
        "\n"
      ]
    },
    {
      "cell_type": "code",
      "execution_count": null,
      "metadata": {
        "colab": {
          "base_uri": "https://localhost:8080/"
        },
        "id": "d8YTGcMQs1Y2",
        "outputId": "e1de75d2-c750-4e03-e175-b13ca4dc3a80"
      },
      "outputs": [
        {
          "name": "stdout",
          "output_type": "stream",
          "text": [
            "3\n"
          ]
        },
        {
          "data": {
            "text/plain": [
              "0"
            ]
          },
          "execution_count": 17,
          "metadata": {},
          "output_type": "execute_result"
        }
      ],
      "source": [
        "def miniprime(n):\n",
        "  if n%2==0:\n",
        "    return 2\n",
        "  for i in range(3,n,2):\n",
        "    if n%i==0:\n",
        "      return i\n",
        "  return n\n",
        "def diff(n):\n",
        "  min_prime=miniprime(n)\n",
        "  return n-min_prime\n",
        "n=int(input())\n",
        "diff(n)"
      ]
    },
    {
      "cell_type": "code",
      "execution_count": null,
      "metadata": {
        "colab": {
          "base_uri": "https://localhost:8080/"
        },
        "id": "Fzj70UNNs2DF",
        "outputId": "a22711d5-6f28-4be1-d6b9-d57e37f561f9"
      },
      "outputs": [
        {
          "name": "stdout",
          "output_type": "stream",
          "text": [
            "3\n"
          ]
        },
        {
          "data": {
            "text/plain": [
              "14"
            ]
          },
          "execution_count": 19,
          "metadata": {},
          "output_type": "execute_result"
        }
      ],
      "source": [
        "\"\"\"adam decides to be geneorus and do some charity .starting today from day 1 until day n,\n",
        "he gives i^2 coins to charity on day i\n",
        "i/p=2\n",
        "o/p=5\n",
        "explanation\n",
        "1st day 1^2=1\n",
        "2nd day 2^2=4\n",
        "total 5 coins\"\"\"\n",
        "def charity(n):\n",
        "  sum=0\n",
        "  for i in range(1,n+1):\n",
        "    sum+=i**2\n",
        "  return sum\n",
        "n=int(input())\n",
        "charity(n)"
      ]
    },
    {
      "cell_type": "code",
      "execution_count": null,
      "metadata": {
        "colab": {
          "base_uri": "https://localhost:8080/"
        },
        "id": "mXalsAOHvY30",
        "outputId": "53cbf00a-e8ac-42a7-8bc8-b53854148083"
      },
      "outputs": [
        {
          "name": "stdout",
          "output_type": "stream",
          "text": [
            "1 2 3 4 5 6\n"
          ]
        },
        {
          "data": {
            "text/plain": [
              "7"
            ]
          },
          "execution_count": 20,
          "metadata": {},
          "output_type": "execute_result"
        }
      ],
      "source": [
        "#find the sum of smallest and largest element in an array\n",
        "def small_large(arr):\n",
        "  return max(arr)+min(arr)\n",
        "arr=list(map(int,input().split()))\n",
        "small_large(arr)"
      ]
    },
    {
      "cell_type": "code",
      "execution_count": null,
      "metadata": {
        "colab": {
          "base_uri": "https://localhost:8080/"
        },
        "id": "83R2sLhGwCkV",
        "outputId": "89cd5315-1352-4873-91d5-5c53387821ae"
      },
      "outputs": [
        {
          "name": "stdout",
          "output_type": "stream",
          "text": [
            "1 2 3 4 5\n",
            "p n n p p\n",
            "5\n"
          ]
        },
        {
          "data": {
            "text/plain": [
              "500"
            ]
          },
          "execution_count": 34,
          "metadata": {},
          "output_type": "execute_result"
        }
      ],
      "source": [
        "\"\"\"doug is fond of charge,every now and then he tries to do new things.\n",
        "this time he caught up with a rod comprising of negative (N) and positive (P) charge.\n",
        "he is asked to calculate the maximum net electrostatic field possible in region due to the rod.\n",
        "i/p1=[4,3,5]\n",
        "i/p2=[p,n,p]\n",
        "i/p3=3\n",
        "output=600\n",
        "explanation=(4-3+5)*100=600\"\"\"\n",
        "def charge(n1,n2,n3):\n",
        "    net_charge=0\n",
        "    for i in range(len(n1)):\n",
        "      if n2[i]=='p':\n",
        "        net_charge+=n1[i]\n",
        "      elif n2[i]=='n':\n",
        "        net_charge-=n1[i]\n",
        "    return net_charge*100\n",
        "n1=list(map(int,input().split()))\n",
        "n2=input().split()\n",
        "n3=int(input())\n",
        "charge(n1,n2,n3)"
      ]
    },
    {
      "cell_type": "code",
      "execution_count": null,
      "metadata": {
        "colab": {
          "base_uri": "https://localhost:8080/"
        },
        "id": "l0K5dEihxtW0",
        "outputId": "a63e5701-412f-48d5-9692-e8a22406eeb1"
      },
      "outputs": [
        {
          "name": "stdout",
          "output_type": "stream",
          "text": [
            "not equal\n"
          ]
        }
      ],
      "source": [
        "a=1.1\n",
        "b=2.2\n",
        "c=3.3\n",
        "Result=a+b\n",
        "if Result==c:\n",
        "    print(\"equal\")\n",
        "else:\n",
        "    print(\"not equal\")"
      ]
    },
    {
      "cell_type": "code",
      "execution_count": null,
      "metadata": {
        "colab": {
          "base_uri": "https://localhost:8080/"
        },
        "id": "OSZcZu9oxuXQ",
        "outputId": "5ab10d23-0544-49f6-a7a2-d91a3abbe2a0"
      },
      "outputs": [
        {
          "name": "stdout",
          "output_type": "stream",
          "text": [
            "24082004\n"
          ]
        },
        {
          "data": {
            "text/plain": [
              "2"
            ]
          },
          "execution_count": 5,
          "metadata": {},
          "output_type": "execute_result"
        }
      ],
      "source": [
        "\"\"\"numerological reduction 439=4+3+9=16=1+6=7\"\"\"\n",
        "def recursion(n):\n",
        "  sum=0\n",
        "  while n>0:\n",
        "    rem=n%10\n",
        "    sum+=rem\n",
        "    n=n//10\n",
        "  return sum\n",
        "def numerical_reduction(n):\n",
        "  while n>=10:\n",
        "    n=recursion(n)\n",
        "  return n\n",
        "n=int(input())\n",
        "numerical_reduction(n)\n",
        "\n",
        "\n"
      ]
    },
    {
      "cell_type": "code",
      "execution_count": null,
      "metadata": {
        "colab": {
          "background_save": true
        },
        "id": "-K7W0WaIJVip",
        "outputId": "f39f481c-52b3-4266-ab89-dd8a56b10c70"
      },
      "outputs": [
        {
          "name": "stdout",
          "output_type": "stream",
          "text": [
            "2 565 3 23 4 5 "
          ]
        }
      ],
      "source": [
        "def rearrange(arr,n):\n",
        "  arr.sort()\n",
        "  j=n-1\n",
        "  for i in range(n//2):\n",
        "    print(arr[i],arr[j],end=\" \")\n",
        "    j-=1\n",
        "  if m%2==1:\n",
        "    print(arr[j])\n",
        "m=int(input())\n",
        "arr=list(map(int,input()))"
      ]
    },
    {
      "cell_type": "code",
      "source": [
        "#spy number\n",
        "\"\"\"sum=product of a number\"\"\"\n",
        "def spy(n):\n",
        "    sum=0\n",
        "    prod=1\n",
        "    while n>0:\n",
        "        rem=n%10\n",
        "        sum+=rem\n",
        "        prod*=rem\n",
        "        n=n//10\n",
        "    if sum==prod:\n",
        "        return \"spy number\"\n",
        "    else:\n",
        "        return \"not spy number\"\n",
        "n=int(input())\n",
        "spy(n)"
      ],
      "metadata": {
        "colab": {
          "base_uri": "https://localhost:8080/",
          "height": 52
        },
        "id": "R87iHPB2WFTX",
        "outputId": "743bf8dd-4448-4123-dcd5-d794c74b1416"
      },
      "execution_count": null,
      "outputs": [
        {
          "name": "stdout",
          "output_type": "stream",
          "text": [
            "1124\n"
          ]
        },
        {
          "output_type": "execute_result",
          "data": {
            "text/plain": [
              "'spy number'"
            ],
            "application/vnd.google.colaboratory.intrinsic+json": {
              "type": "string"
            }
          },
          "metadata": {},
          "execution_count": 1
        }
      ]
    },
    {
      "cell_type": "code",
      "source": [
        "#neon number\n",
        "\"\"\"9**2=81 and 8+1=9 so 9 is a neon number\"\"\"\n",
        "def neon(n):\n",
        "    sum=0\n",
        "    square=n**2\n",
        "    while square>0:\n",
        "        rem=square%10\n",
        "        sum+=rem\n",
        "        square=square//10\n",
        "    if sum==n:\n",
        "        return \"neon number\"\n",
        "    else:\n",
        "        return \"not neon number\"\n",
        "n=int(input())\n",
        "neon(n)"
      ],
      "metadata": {
        "colab": {
          "base_uri": "https://localhost:8080/",
          "height": 52
        },
        "id": "AE-sRuKSWH7h",
        "outputId": "f72eeebc-1169-446c-fb22-ef21eed75ac5"
      },
      "execution_count": null,
      "outputs": [
        {
          "name": "stdout",
          "output_type": "stream",
          "text": [
            "9\n"
          ]
        },
        {
          "output_type": "execute_result",
          "data": {
            "text/plain": [
              "'neon number'"
            ],
            "application/vnd.google.colaboratory.intrinsic+json": {
              "type": "string"
            }
          },
          "metadata": {},
          "execution_count": 2
        }
      ]
    },
    {
      "cell_type": "code",
      "source": [
        "#pronic number\n",
        "\"\"\"product of 2 consective numbers is equal to that number\n",
        "12=3*4\n",
        "6=2*3\n",
        "\"\"\"\n",
        "def pronic(n):\n",
        "    flag=0\n",
        "    for i in range(1,n+1):\n",
        "        if (i*(i+1)==n):\n",
        "            flag=1\n",
        "            break\n",
        "    if flag==1:\n",
        "        print(\"pronic number\")\n",
        "    else:\n",
        "        print(\"not pronic number\")\n",
        "n=int(input())\n",
        "pronic(n)\n"
      ],
      "metadata": {
        "colab": {
          "base_uri": "https://localhost:8080/"
        },
        "id": "YCF9-G8EWQPc",
        "outputId": "072ad4cb-1a40-43ba-b535-a200e9956d94"
      },
      "execution_count": null,
      "outputs": [
        {
          "output_type": "stream",
          "name": "stdout",
          "text": [
            "12\n",
            "pronic number\n"
          ]
        }
      ]
    },
    {
      "cell_type": "code",
      "source": [
        "#isogram\n",
        "# string having no duplicates\n",
        "def isogram(s):\n",
        "    d=set(s)\n",
        "    if len(s)==len(set(s)):\n",
        "        return \"isogram\"\n",
        "    else:\n",
        "        return \"not isogram\"\n",
        "s=input()\n",
        "isogram(s)"
      ],
      "metadata": {
        "colab": {
          "base_uri": "https://localhost:8080/",
          "height": 52
        },
        "id": "lddTiLB3WTYg",
        "outputId": "a38d4ac3-b809-43e1-cdab-44b45bcc1bb2"
      },
      "execution_count": null,
      "outputs": [
        {
          "name": "stdout",
          "output_type": "stream",
          "text": [
            "python\n"
          ]
        },
        {
          "output_type": "execute_result",
          "data": {
            "text/plain": [
              "'isogram'"
            ],
            "application/vnd.google.colaboratory.intrinsic+json": {
              "type": "string"
            }
          },
          "metadata": {},
          "execution_count": 4
        }
      ]
    },
    {
      "cell_type": "code",
      "source": [
        "#super digit\n",
        "\"\"\"12345=1+2+3+4+5=15=1+5=6 so 6 is super digit\"\"\"\n",
        "def super_digit(n):\n",
        "    while n>=10:\n",
        "        x=n\n",
        "        sum=0\n",
        "        while x>0:\n",
        "            rem=x%10\n",
        "            sum+=rem\n",
        "            x=x//10\n",
        "        n=sum\n",
        "    return sum\n",
        "n=int(input())\n",
        "super_digit(n)\n"
      ],
      "metadata": {
        "colab": {
          "base_uri": "https://localhost:8080/"
        },
        "id": "nRsFQIDDWYSu",
        "outputId": "07da444f-c6b0-4132-d15b-b4a0317fa3ac"
      },
      "execution_count": null,
      "outputs": [
        {
          "name": "stdout",
          "output_type": "stream",
          "text": [
            "1234556\n"
          ]
        },
        {
          "output_type": "execute_result",
          "data": {
            "text/plain": [
              "8"
            ]
          },
          "metadata": {},
          "execution_count": 5
        }
      ]
    },
    {
      "cell_type": "code",
      "source": [
        "#magic number\n",
        "#if super digit is equal to 1 then magic number\n",
        "def magic_number(n):\n",
        "    while n>=10:\n",
        "        x=n\n",
        "        sum=0\n",
        "        while x>0:\n",
        "            rem=x%10\n",
        "            sum+=rem\n",
        "            x=x//10\n",
        "        n=sum\n",
        "    if sum==1:\n",
        "        return \"magic number\"\n",
        "    else:\n",
        "        return \"not magic number\"\n",
        "n=int(input())\n",
        "magic_number(n)"
      ],
      "metadata": {
        "colab": {
          "base_uri": "https://localhost:8080/",
          "height": 52
        },
        "id": "aqUqubFFWb9I",
        "outputId": "18f3ead5-7239-4e65-f663-cfa98542afb4"
      },
      "execution_count": null,
      "outputs": [
        {
          "name": "stdout",
          "output_type": "stream",
          "text": [
            "1234\n"
          ]
        },
        {
          "output_type": "execute_result",
          "data": {
            "text/plain": [
              "'magic number'"
            ],
            "application/vnd.google.colaboratory.intrinsic+json": {
              "type": "string"
            }
          },
          "metadata": {},
          "execution_count": 6
        }
      ]
    },
    {
      "cell_type": "code",
      "source": [
        "#harshad number or niven number\n",
        "\"\"\"18=18//1+8\"\"\"\n",
        "def niven_number(n):\n",
        "    sum=0\n",
        "    while n>0:\n",
        "        rem=n%10\n",
        "        sum+=rem\n",
        "        n=n//10\n",
        "    if n%sum==0:\n",
        "        return \"niven number\"\n",
        "    else:\n",
        "        return \"not niven number\"\n",
        "n=int(input())\n",
        "niven_number(n)"
      ],
      "metadata": {
        "colab": {
          "base_uri": "https://localhost:8080/",
          "height": 52
        },
        "id": "YyXokjv-Wf8H",
        "outputId": "f15a2eae-8520-42b5-cd42-87f5ed1794ee"
      },
      "execution_count": null,
      "outputs": [
        {
          "name": "stdout",
          "output_type": "stream",
          "text": [
            "18\n"
          ]
        },
        {
          "output_type": "execute_result",
          "data": {
            "text/plain": [
              "'niven number'"
            ],
            "application/vnd.google.colaboratory.intrinsic+json": {
              "type": "string"
            }
          },
          "metadata": {},
          "execution_count": 7
        }
      ]
    },
    {
      "cell_type": "code",
      "source": [
        "#disarium number\n",
        "\"\"\"sum of its digits raised to power of their respective position is equal to given number\n",
        "89\n",
        "8 is 1st position\n",
        "9 is 2nd position\n",
        "so 8**1=8 + 9**2=81 and 81+8=89\"\"\"\n",
        "def disarium_number(n):\n",
        "    temp=n\n",
        "    x=n\n",
        "    sum=0\n",
        "    count=0\n",
        "    while temp>0:\n",
        "        temp=temp//10\n",
        "        count+=1\n",
        "    while x>0:\n",
        "        rem=x%10\n",
        "        sum=sum+rem**count\n",
        "        x=x//10\n",
        "        count=count-1\n",
        "    if sum==n:\n",
        "        return \"disarium number\"\n",
        "    else:\n",
        "        return \"not disarium number\"\n",
        "n=int(input())\n",
        "disarium_number(n)\n",
        "\n",
        "\n"
      ],
      "metadata": {
        "colab": {
          "base_uri": "https://localhost:8080/",
          "height": 52
        },
        "id": "Ydc6ArUjWjcL",
        "outputId": "12969a54-c549-497f-bd29-c6fb7cfd1a80"
      },
      "execution_count": null,
      "outputs": [
        {
          "name": "stdout",
          "output_type": "stream",
          "text": [
            "89\n"
          ]
        },
        {
          "output_type": "execute_result",
          "data": {
            "text/plain": [
              "'disarium number'"
            ],
            "application/vnd.google.colaboratory.intrinsic+json": {
              "type": "string"
            }
          },
          "metadata": {},
          "execution_count": 8
        }
      ]
    },
    {
      "cell_type": "code",
      "source": [
        "\"\"\"the sequence of 1s in the encoded forms are separated by single 0 which helps to distinguish between 2 letters.\n",
        "note:i/p string will always be in uppercase\n",
        "example:101101110\n",
        "o/p=ABC\n",
        "\n",
        "I/P2=111011110111110\n",
        "O/P2=CDE\"\"\"\n",
        "def sequence(s):\n",
        "  count=s.split('0')\n",
        "  result=\"\"\n",
        "  for i in count:\n",
        "    letter_pos=len(i)\n",
        "    letter=chr(ord(\"A\")+letter_pos-1)\n",
        "    result+=letter\n",
        "  return result\n",
        "s=input()\n",
        "sequence(s)\n"
      ],
      "metadata": {
        "id": "1DnUZqwDWoCq",
        "colab": {
          "base_uri": "https://localhost:8080/",
          "height": 52
        },
        "outputId": "65be7812-8068-4c23-bff4-f3b1e26ae058"
      },
      "execution_count": null,
      "outputs": [
        {
          "name": "stdout",
          "output_type": "stream",
          "text": [
            "1101111101111111\n"
          ]
        },
        {
          "output_type": "execute_result",
          "data": {
            "text/plain": [
              "'BEG'"
            ],
            "application/vnd.google.colaboratory.intrinsic+json": {
              "type": "string"
            }
          },
          "metadata": {},
          "execution_count": 4
        }
      ]
    },
    {
      "cell_type": "code",
      "source": [
        "\"\"\"a google prime number is defined as number that is derived from the sum of its individual digits .\n",
        "for example if n=43 the sum of its individual digits is 4+3=7 which is prime making its a googly prime number\n",
        "your task is to find wheather the current number is googly prime number or not\n",
        "i/p=43\n",
        "o/p=yes\n",
        "\n",
        "i/p=1235\n",
        "o/p=yes\n",
        "\n",
        "i/p=123\n",
        "o/p=no\n",
        "\"\"\"\n",
        "def prime(n):\n",
        "  if n<=1:\n",
        "    return False\n",
        "  for i in range(2,n):\n",
        "    if n%i==0:\n",
        "      return False\n",
        "  return True\n",
        "\n",
        "def checking_prime(n):\n",
        "  sum=0\n",
        "  while n>0:\n",
        "    rem=n%10\n",
        "    sum+=rem\n",
        "    n=n//10\n",
        "  if prime(sum):\n",
        "    print(\"yes\")\n",
        "  else:\n",
        "    print(\"no\")\n",
        "n=int(input())\n",
        "checking_prime(n)\n",
        "\n"
      ],
      "metadata": {
        "colab": {
          "base_uri": "https://localhost:8080/"
        },
        "id": "oXfnvIITyxZ-",
        "outputId": "ed88ad5a-3851-4cb9-a64f-0fb297571458"
      },
      "execution_count": null,
      "outputs": [
        {
          "output_type": "stream",
          "name": "stdout",
          "text": [
            "1235\n",
            "yes\n"
          ]
        }
      ]
    },
    {
      "cell_type": "code",
      "source": [
        "\"\"\"given i/p as n find nth fibonacci series number.\n",
        "fibonacci series example is 0,1,1,2,3,5,8,13,21,34,55\n",
        "i/p=1\n",
        "o/p=1\n",
        "\n",
        "i/p=9\n",
        "o/p=34\"\"\"\n",
        "def fib(n):\n",
        "  if n==0:\n",
        "    return 0\n",
        "  elif n==1:\n",
        "    return 1\n",
        "  else:\n",
        "    return fib(n-1)+fib(n-2)\n",
        "n=int(input())\n",
        "fib(n)"
      ],
      "metadata": {
        "colab": {
          "base_uri": "https://localhost:8080/"
        },
        "id": "OYKRQKQQyz46",
        "outputId": "da273f65-3ae1-49d5-b866-3ce944962d3f"
      },
      "execution_count": null,
      "outputs": [
        {
          "name": "stdout",
          "output_type": "stream",
          "text": [
            "10\n"
          ]
        },
        {
          "output_type": "execute_result",
          "data": {
            "text/plain": [
              "55"
            ]
          },
          "metadata": {},
          "execution_count": 20
        }
      ]
    },
    {
      "cell_type": "code",
      "source": [
        "\"\"\"given a number n convert it into binary form\n",
        "i/p=10\n",
        "o/p=1010\n",
        "\n",
        "i/p=54\n",
        "o/p=110110\"\"\"\n",
        "def binary(n):\n",
        "  return bin(n)[2:]\n",
        "n=int(input())\n",
        "binary(n)"
      ],
      "metadata": {
        "colab": {
          "base_uri": "https://localhost:8080/",
          "height": 52
        },
        "id": "nIhrIkDJ7ddV",
        "outputId": "3e630054-9716-435d-bad2-471999c50740"
      },
      "execution_count": null,
      "outputs": [
        {
          "name": "stdout",
          "output_type": "stream",
          "text": [
            "4\n"
          ]
        },
        {
          "output_type": "execute_result",
          "data": {
            "text/plain": [
              "'100'"
            ],
            "application/vnd.google.colaboratory.intrinsic+json": {
              "type": "string"
            }
          },
          "metadata": {},
          "execution_count": 22
        }
      ]
    },
    {
      "cell_type": "code",
      "source": [
        "\"\"\"given a number n convert it into binary form\n",
        "i/p=10\n",
        "o/p=1010\n",
        "i/p=54\n",
        "o/p=110110\"\"\"\n",
        "def binary(n):\n",
        "  binary_number=\"\"\n",
        "  while n>0:\n",
        "    rem=n%2\n",
        "    binary_number+=str(rem)\n",
        "    n=n//2\n",
        "  return binary_number[::-1]\n",
        "n=int(input())\n",
        "binary(n)"
      ],
      "metadata": {
        "colab": {
          "base_uri": "https://localhost:8080/",
          "height": 52
        },
        "id": "aZ9ht6Sa8EMy",
        "outputId": "730a88bf-c537-487c-db27-ebcfe1f5d84a"
      },
      "execution_count": null,
      "outputs": [
        {
          "name": "stdout",
          "output_type": "stream",
          "text": [
            "24\n"
          ]
        },
        {
          "output_type": "execute_result",
          "data": {
            "text/plain": [
              "'11000'"
            ],
            "application/vnd.google.colaboratory.intrinsic+json": {
              "type": "string"
            }
          },
          "metadata": {},
          "execution_count": 26
        }
      ]
    },
    {
      "cell_type": "code",
      "source": [
        "\"\"\"sunny number\n",
        "if a number is said to be a sunny number if its imediate number is a perfect square\n",
        "i/p=3\n",
        "o/p=yes\n",
        "\n",
        "i/p=5\n",
        "o/p=no \"\"\"\n",
        "import math\n",
        "def sunny(n):\n",
        "  x=n+1\n",
        "  flag=0\n",
        "  for i in range(1,x):\n",
        "    if i*i==x:\n",
        "      flag=1\n",
        "      break\n",
        "  if flag==1:\n",
        "    print(\"sunny number\")\n",
        "  else:\n",
        "    print(\"not sunny number\")\n",
        "n=int(input())\n",
        "sunny(n)"
      ],
      "metadata": {
        "id": "Usl0n27H8vCy",
        "colab": {
          "base_uri": "https://localhost:8080/"
        },
        "outputId": "6dd0615a-00c1-46c6-cba8-6765279ecf72"
      },
      "execution_count": null,
      "outputs": [
        {
          "output_type": "stream",
          "name": "stdout",
          "text": [
            "16\n",
            "not sunny number\n"
          ]
        }
      ]
    },
    {
      "cell_type": "code",
      "source": [
        "\"\"\"unique number\n",
        "if no repetations of digits then unique number\"\"\"\n",
        "def unique(n):\n",
        "  d=str(n)\n",
        "  f=set(d)\n",
        "  if len(f)==len(set(f)):\n",
        "    print(\"unique number\")\n",
        "  else:\n",
        "    print(\"not unique number\")\n"
      ],
      "metadata": {
        "id": "d4XSC6ev84Eh"
      },
      "execution_count": null,
      "outputs": []
    },
    {
      "cell_type": "code",
      "source": [
        "\"\"\"count palindromic subsequence\n",
        "i/p=abcd\n",
        "o/p=4\n",
        "explanation =\"a\",\"b\",\"c\",\"d\"\n",
        "i/p=aab\n",
        "o/p=4\n",
        "explnation='a','b','a','aa'\n",
        "\"\"\""
      ],
      "metadata": {
        "id": "o7EHU-qkLT2s"
      },
      "execution_count": null,
      "outputs": []
    },
    {
      "cell_type": "code",
      "source": [
        "\"\"\"you are organising charity where participating contribute a dollar for every even number kilometer they complete .\n",
        "your task is to find and return an integer value representing the total amount of money raised if the race\n",
        "is N kilometer long.\n",
        "i/p=int value\n",
        "o/p=return sum of all even number kilometers till n\n",
        "i/p=10\n",
        "o/p=30\n",
        "explantion=2+4+6+8+10=30\n",
        "\"\"\"\n",
        "def charity(n):\n",
        "  sum=0\n",
        "  for i in range(0,n+1):\n",
        "    if i%2==0:\n",
        "      sum+=i\n",
        "  return sum\n",
        "n=int(input())\n",
        "charity(n)"
      ],
      "metadata": {
        "colab": {
          "base_uri": "https://localhost:8080/"
        },
        "id": "Ckv_sIBlOJYw",
        "outputId": "5490fbe7-04b4-4d61-8e1e-b6d6f7019ba6"
      },
      "execution_count": null,
      "outputs": [
        {
          "name": "stdout",
          "output_type": "stream",
          "text": [
            "10\n"
          ]
        },
        {
          "output_type": "execute_result",
          "data": {
            "text/plain": [
              "30"
            ]
          },
          "metadata": {},
          "execution_count": 9
        }
      ]
    },
    {
      "cell_type": "code",
      "source": [
        "def charity(n):\n",
        "  sum=0\n",
        "  for i in range(0,n+1,2):\n",
        "    sum+=i\n",
        "  return sum\n",
        "n=int(input())\n",
        "charity(n)"
      ],
      "metadata": {
        "colab": {
          "base_uri": "https://localhost:8080/"
        },
        "id": "qINg-6JXO-0B",
        "outputId": "b297465a-3624-4235-8a2c-c3bf68dbef9d"
      },
      "execution_count": null,
      "outputs": [
        {
          "name": "stdout",
          "output_type": "stream",
          "text": [
            "20\n"
          ]
        },
        {
          "output_type": "execute_result",
          "data": {
            "text/plain": [
              "110"
            ]
          },
          "metadata": {},
          "execution_count": 11
        }
      ]
    },
    {
      "cell_type": "code",
      "source": [
        "\"\"\"\n",
        "you are provided two strings s1 and s2 you can perform operatipons such as adding removing swapping letters.\n",
        "each operation has specific cost value associated with it as shown below.\n",
        "if a letter is removed from s1 the cost is 0\n",
        "if a letter are swaped in s1 the cost is 0\n",
        "if a new letter is added to the end of s1 then cost is 1\n",
        "your task is to find and return an integer value representing the minimum cost require to transform string s1 to s2.\n",
        "note s1 and s2  should be upper case\n",
        "i/p=ABD\n",
        "AABCCAD\n",
        "O/P=4\n",
        "\n",
        "I/P1=XYZ\n",
        "I/P2=ABC\n",
        "O/P=3\"\"\"\n",
        "def sequence(s1,s2):\n",
        "  from collections import Counter\n",
        "  count_s1=Counter(s1)\n",
        "  count_s2=Counter(s2)\n",
        "  cost=0\n",
        "  for i in count_s2:\n",
        "    if count_s2[i]>count_s1.get(i,0):\n",
        "      cost+=count_s2[i]-count_s1[i]\n",
        "  return cost\n",
        "s1=input().upper()\n",
        "s2=input().upper()\n",
        "sequence(s1,s2)"
      ],
      "metadata": {
        "colab": {
          "base_uri": "https://localhost:8080/"
        },
        "id": "wbLfxN19Pebf",
        "outputId": "0d0f32fa-eb67-454a-c26d-fe6fee49b18a"
      },
      "execution_count": null,
      "outputs": [
        {
          "name": "stdout",
          "output_type": "stream",
          "text": [
            "abd\n",
            "aabccad\n"
          ]
        },
        {
          "output_type": "execute_result",
          "data": {
            "text/plain": [
              "4"
            ]
          },
          "metadata": {},
          "execution_count": 15
        }
      ]
    },
    {
      "cell_type": "code",
      "source": [
        "\"\"\"\n",
        "in java braces are used to group statements and declaration together.each opening brace '{' should be accomapnied with a closing brace'}'\n",
        "otherwise compilation of code would result in afailure.given a piece of code determine wheather the code will give a compilation error or not.\n",
        "i/p={{{}}\n",
        "o/p=compilation error\n",
        "\n",
        "i/p={}}}{{\n",
        "o/p=compilation error\n",
        "\n",
        "i/p={}{}{}\n",
        "o/p=successful\n",
        "\"\"\"\n",
        "def braces(code):\n",
        "  stack=[]\n",
        "  for i in code:\n",
        "    if i==\"{\":\n",
        "      stack.append(i)\n",
        "    elif i==\"}\":\n",
        "      if not stack:\n",
        "        return \"compilation error\"\n",
        "      stack.pop()\n",
        "  if stack:\n",
        "    return \"compilation error\"\n",
        "  return \"succesful\"\n",
        "code=input()\n",
        "braces(code)"
      ],
      "metadata": {
        "colab": {
          "base_uri": "https://localhost:8080/",
          "height": 52
        },
        "id": "Oi8QjZ-XS7Ki",
        "outputId": "9524c4d1-bf10-46a1-a1e3-cab202790b60"
      },
      "execution_count": null,
      "outputs": [
        {
          "name": "stdout",
          "output_type": "stream",
          "text": [
            "{}{{{}{{}}\n"
          ]
        },
        {
          "output_type": "execute_result",
          "data": {
            "text/plain": [
              "'compilation error'"
            ],
            "application/vnd.google.colaboratory.intrinsic+json": {
              "type": "string"
            }
          },
          "metadata": {},
          "execution_count": 24
        }
      ]
    },
    {
      "cell_type": "code",
      "source": [],
      "metadata": {
        "id": "D87_uPksXOQT"
      },
      "execution_count": null,
      "outputs": []
    },
    {
      "cell_type": "code",
      "source": [
        "\"\"\"\n",
        "given a set of numbers one can arrange them in any order but its pays a penalty equal to\n",
        "the sum of its absolute difference between adjacent numbers.\n",
        "return the minimum penalty that must be paid.\n",
        "i/p specification\n",
        "i/p1=length of an integer penalty that must be paid\n",
        "i/p2=integer array(1<=input[i]<=10000)\n",
        "i/p=3\n",
        "i/p={1,3,2}\n",
        "o/p=2\n",
        "\"\"\"\n",
        "def penalty(arr):\n",
        "  arr.sort()\n",
        "  penaltyy=0\n",
        "  for i in range(len(arr)-1):\n",
        "    penaltyy+=abs(arr[i+1]-arr[i])\n",
        "  return penaltyy\n",
        "arr=list(map(int,input().split()))\n",
        "penalty(arr)"
      ],
      "metadata": {
        "colab": {
          "base_uri": "https://localhost:8080/"
        },
        "id": "ecGcu2O9Xw3X",
        "outputId": "7fd476ae-ab59-4f9b-c72e-a3d5e32e8028"
      },
      "execution_count": null,
      "outputs": [
        {
          "name": "stdout",
          "output_type": "stream",
          "text": [
            "1 5 9 2\n"
          ]
        },
        {
          "output_type": "execute_result",
          "data": {
            "text/plain": [
              "8"
            ]
          },
          "metadata": {},
          "execution_count": 33
        }
      ]
    },
    {
      "cell_type": "code",
      "source": [
        "\"\"\"\n",
        "Small Large Sum\n",
        "Write a function SmallLargeSum(array) which accepts the array as an argument or\n",
        "parameter, that performs the addition of the second largest element from the\n",
        "even location with the second largest element from an odd location?\n",
        "Rules:\n",
        "All the array elements are unique.\n",
        "If the length of the array is 3 or less than 3, then return 0.\n",
        "If Array is empty then return zero.\n",
        "Sample Test Case 1:\n",
        "Input:\n",
        "6\n",
        "3 2 1 7 5 4\n",
        "Output:\n",
        "7\n",
        "Explanation: The second largest element in the even locations (3, 1, 5) is 3. The\n",
        "second largest element in the odd locations (2, 7, 4) is 4. So the addition of 3 and\n",
        "4 is 7. So the answer is 7.\n",
        "Sample Test Case 2:\n",
        "Input:\n",
        "7\n",
        "4 0 7 9 6 4 2\n",
        "Output:\n",
        "10\"\"\"\n",
        "def SmallLargeSum(arr):\n",
        "  a=[]\n",
        "  b=[]\n",
        "  if len(arr)>3:\n",
        "    for i in range(len(arr)):\n",
        "      if i%2==0:\n",
        "        a.append(arr[i])\n",
        "      else:\n",
        "        b.append(arr[i])\n",
        "    a.sort(reverse=True)\n",
        "    b.sort(reverse=True)\n",
        "    sec_even=a[1] if len(a)>1 else 0\n",
        "    sec_odd=b[1] if len(b)>1 else 0\n",
        "\n",
        "  return sec_even+sec_odd\n",
        "arr=list(map(int,input().split()))\n",
        "SmallLargeSum(arr)\n",
        "\n"
      ],
      "metadata": {
        "id": "Q2e5Ri53cvcD",
        "colab": {
          "base_uri": "https://localhost:8080/"
        },
        "outputId": "b7d5359f-94ac-458a-8c0e-4277ec7f6757"
      },
      "execution_count": null,
      "outputs": [
        {
          "name": "stdout",
          "output_type": "stream",
          "text": [
            "4 0 7 9 6 4 2\n"
          ]
        },
        {
          "output_type": "execute_result",
          "data": {
            "text/plain": [
              "10"
            ]
          },
          "metadata": {},
          "execution_count": 11
        }
      ]
    },
    {
      "cell_type": "code",
      "source": [
        "\"\"\"2. Check Password\n",
        "Write a function CheckPassword(str) which will accept the string as an\n",
        "argument or parameter and validates the password. It will return 1 if\n",
        "the conditions are satisfied else it’ll return 0?\n",
        "The password is valid if it satisfies the below conditions:\n",
        "It should contain at least 4 characters.\n",
        "At least 1 numeric digit should be present.\n",
        "1 Capital letter should be there.\n",
        "Password should not contain space or slash.\n",
        "The starting character should not be a number.\n",
        "Sample Test Case:\n",
        "Input:\n",
        "bB1_89\n",
        "Output:\n",
        "1\n",
        "\"\"\"\n",
        "def checkpassword(s):\n",
        "  num='0123456789'\n",
        "\n",
        "  if s[0] in num:\n",
        "    return 0\n",
        "  has_digit=False\n",
        "  has_upper=False\n",
        "  for i in s:\n",
        "    if i.isdigit():\n",
        "      has_digit=True\n",
        "    if i.isupper():\n",
        "      has_upper=True\n",
        "    if i=='/':\n",
        "      return 0\n",
        "  if has_digit and has_upper:\n",
        "    return 1\n",
        "  else:\n",
        "    return 0\n",
        "s=input()\n",
        "checkpassword(s)\n"
      ],
      "metadata": {
        "colab": {
          "base_uri": "https://localhost:8080/"
        },
        "id": "zHu9zFehWW1Q",
        "outputId": "2f1dee6f-a5fe-4c83-b83f-592d4631eb68"
      },
      "execution_count": null,
      "outputs": [
        {
          "name": "stdout",
          "output_type": "stream",
          "text": [
            "dcdBBB___#$$12\n"
          ]
        },
        {
          "output_type": "execute_result",
          "data": {
            "text/plain": [
              "1"
            ]
          },
          "metadata": {},
          "execution_count": 18
        }
      ]
    },
    {
      "cell_type": "code",
      "source": [
        "\"\"\"3. Calculate Binary Operations\n",
        "Write a function CalculateBinaryOperations(str) that accepts the string\n",
        "as an argument or parameter. The string should contains the binary\n",
        "numbers with their operators OR, AND, and XOR?\n",
        "A Means the AND Operation.\n",
        "B Means the OR Operation.\n",
        "C Means the XOR Operation.\n",
        "By scanning the given string from left to right you’ve to calculate the\n",
        "string and by taking one operator at a time then return the desired\n",
        "output.\n",
        "Conditions:\n",
        "The priority of the operator is not required.\n",
        "The length of the string is always Odd.\n",
        "If the length of the string is null then return -1.\n",
        "Sample Test Case:\n",
        "Input:\n",
        "1C0C1C1A0B1\n",
        "Output:\n",
        "1\"\"\"\n",
        "def binary_operation(s):\n",
        "  if str is None:\n",
        "    return -1\n",
        "  result=int(str[0])\n",
        "  for i in range(1,len(s),2):\n",
        "    if i=='A':\n",
        "      result&=i\n",
        "    if i=='B':\n",
        "      result||=i\n",
        "    if i=='C':\n",
        "      result^=i\n",
        "\n",
        "\n",
        "\n",
        "s=input()\n",
        "binary_operation(s)"
      ],
      "metadata": {
        "id": "9aqU4O4Yg2CO"
      },
      "execution_count": null,
      "outputs": []
    },
    {
      "cell_type": "code",
      "source": [
        "\"\"\"12. QUESTION\n",
        "You are given a function,\n",
        "int findCount(int arr[], int length, int num, int diff);\n",
        "The function accepts an integer array ‘arr’, its length and two integer\n",
        "variables ‘num’ and ‘diff’. Implement this function to find and return\n",
        "the number of elements of ‘arr’ having an absolute difference of less\n",
        "than or equal to ‘diff’ with ‘num’.\n",
        "Note: In case there is no element in ‘arr’ whose absolute difference\n",
        "with ‘num’ is less than or equal to ‘diff’, return -1.\n",
        "Example:\n",
        "Input:\n",
        "arr: 12 3 14 56 77 13\n",
        "num: 13\n",
        "diff: 2\n",
        "Output:\n",
        "3\n",
        "Explanation:\n",
        "Elements of ‘arr’ having absolute difference of less than or equal to\n",
        "‘diff’ i.e. 2 with ‘num’ i.e. 13 are 12, 13 and 14.\"\"\"\n",
        "def findcount(arr,num,diff):\n",
        "  if arr is None:\n",
        "    return -1\n",
        "  count=0\n",
        "  for i in arr:\n",
        "    if abs(num-i)<=diff:\n",
        "      count+=1\n",
        "  return count\n",
        "\n",
        "arr=list(map(int,input().split()))\n",
        "num=int(input())\n",
        "diff=int(input())\n",
        "findcount(arr,num,diff)"
      ],
      "metadata": {
        "colab": {
          "base_uri": "https://localhost:8080/"
        },
        "id": "WWW02vPAoVrf",
        "outputId": "7a58dc59-b708-4c56-dfe6-90ca1a8a93ef"
      },
      "execution_count": null,
      "outputs": [
        {
          "name": "stdout",
          "output_type": "stream",
          "text": [
            "12 3 14 56 77 13 \n",
            "13\n",
            "2\n"
          ]
        },
        {
          "output_type": "execute_result",
          "data": {
            "text/plain": [
              "3"
            ]
          },
          "metadata": {},
          "execution_count": 23
        }
      ]
    },
    {
      "cell_type": "code",
      "source": [
        "\"\"\"11. Question\n",
        "The function accepts two positive integers ‘r’ and ‘unit’ and a positive\n",
        "integer array ‘arr’ of size ‘n’ as its argument ‘r’ represents the number\n",
        "of rats present in an area, ‘unit’ is the amount of food each rat\n",
        "consumes and each ith element of array ‘arr’ represents the amount of\n",
        "food present in ‘i+1’ house number, where 0 <= i.\n",
        "Note:\n",
        "1. Return -1 if the array is null\n",
        "2. Return 0 if the total amount of food from all houses is not sufficient\n",
        "for all the rats.\n",
        "3. Computed values lie within the integer range.\n",
        "Example:\n",
        "Input:\n",
        "r: 7\n",
        "unit: 2\n",
        "n: 8\n",
        "arr: 2 8 3 5 7 4 1 2\n",
        "Output:\n",
        "4\n",
        "Explanation:\n",
        "Total amount of food required for all rats = r unit\n",
        "= 7 2 = 14.\n",
        "The amount of food in 1st houses = 2+8+3+5 = 18. Since, the amount of\n",
        "food in 1st 4 houses is sufficient for all the rats. Thus, output is 4.\"\"\"\n",
        "def rats(r,units,n,arr):\n",
        "  if arr is None:\n",
        "    return -1\n",
        "  total=r*units\n",
        "  n=len(arr)\n",
        "  sum=0\n",
        "  house_count=0\n",
        "  for i in arr:\n",
        "    sum+=i\n",
        "    house_count+=1\n",
        "    if sum>total:\n",
        "      return house_count\n",
        "  return -1\n",
        "\n",
        "\n",
        "\n",
        "r=int(input())\n",
        "units=int(input())\n",
        "n=int(input())\n",
        "arr=list(map(int,input().split()))\n",
        "rats(r,units,n,arr)"
      ],
      "metadata": {
        "colab": {
          "base_uri": "https://localhost:8080/"
        },
        "id": "DpOQJ0pMpPww",
        "outputId": "d1747a85-4644-4080-c819-77737948bab7"
      },
      "execution_count": null,
      "outputs": [
        {
          "name": "stdout",
          "output_type": "stream",
          "text": [
            "7\n",
            "2\n",
            "8\n",
            "2 8 3 5 7 4 1 2 \n"
          ]
        },
        {
          "output_type": "execute_result",
          "data": {
            "text/plain": [
              "4"
            ]
          },
          "metadata": {},
          "execution_count": 27
        }
      ]
    },
    {
      "cell_type": "code",
      "source": [
        "\"\"\"10. Reverse a String\n",
        "Write a function that will accept strings from the user and will reverse\n",
        "the string word-wise. The last word will come as the first word in the\n",
        "output and vice versa?\n",
        "Sample Test Case 1:\n",
        "Input:\n",
        "terv pro\n",
        "Output:\n",
        "pro terv\n",
        "Explanation:\n",
        "The reverse string word-wise function is applied.\n",
        "Sample Test Case 2:\n",
        "Input:\n",
        "Welcome to Sunday samayal\n",
        "Output:\n",
        "samayal Sunday to Welcome\"\"\"\n",
        "def reverse(s):\n",
        "  if str is None:\n",
        "    return -1\n",
        "  word=s.split()\n",
        "  reversed_word=word[::-1]\n",
        "  reverse_str=\" \".join(reversed_word)\n",
        "  return reverse_str\n",
        "\n",
        "s=input()\n",
        "reverse(s)"
      ],
      "metadata": {
        "colab": {
          "base_uri": "https://localhost:8080/",
          "height": 52
        },
        "id": "lVyccAuHrs0E",
        "outputId": "1acb5871-4677-41d2-d0a7-2d8dbbbff9d7"
      },
      "execution_count": null,
      "outputs": [
        {
          "name": "stdout",
          "output_type": "stream",
          "text": [
            "Welcome to Sunday samayal \n"
          ]
        },
        {
          "output_type": "execute_result",
          "data": {
            "text/plain": [
              "'samayal Sunday to Welcome'"
            ],
            "application/vnd.google.colaboratory.intrinsic+json": {
              "type": "string"
            }
          },
          "metadata": {},
          "execution_count": 28
        }
      ]
    },
    {
      "cell_type": "code",
      "source": [
        "\"\"\"9. Replace Character\n",
        "Write a function Replacecharacter(Char str1, Char ch1, Int 1, Char ch2)\n",
        "which has a string(str) and the two characters ch1 and ch2. Execute a\n",
        "function in such a way that string str will return to its original string,\n",
        "and all the events in ch1 are replaced by ch2 and vice versa?\n",
        "Consider: The strings will have only alphabets in lower case.\n",
        "Sample Test Case:\n",
        "Input:\n",
        "str: tervpro\n",
        "ch1: e\n",
        "ch2: p\n",
        "Output:\n",
        "tprvero\n",
        "Solution:\n",
        "All the ‘e’s in the string are replaced with the ‘p’ and ‘p’ is replaced with\n",
        "the ‘e’.\"\"\"\n",
        "def replace(s,ch1,ch2):\n",
        "  d=s.lower()\n",
        "  result=\"\"\n",
        "  for i in d:\n",
        "    if i==ch1:\n",
        "      result+=ch2\n",
        "    elif i==ch2:\n",
        "      result+=ch1\n",
        "    else:\n",
        "      result+=i\n",
        "  return result\n",
        "s=input()\n",
        "ch1=input()\n",
        "ch2=input()\n",
        "replace(s,ch1,ch2)\n"
      ],
      "metadata": {
        "colab": {
          "base_uri": "https://localhost:8080/",
          "height": 87
        },
        "id": "CVpQ0Bzitx8W",
        "outputId": "1ad1e993-621a-4ed7-fba1-1939c51c65e4"
      },
      "execution_count": null,
      "outputs": [
        {
          "name": "stdout",
          "output_type": "stream",
          "text": [
            "tervpro\n",
            "e\n",
            "p\n"
          ]
        },
        {
          "output_type": "execute_result",
          "data": {
            "text/plain": [
              "'tprvero'"
            ],
            "application/vnd.google.colaboratory.intrinsic+json": {
              "type": "string"
            }
          },
          "metadata": {},
          "execution_count": 30
        }
      ]
    },
    {
      "cell_type": "code",
      "source": [
        "\"\"\"\n",
        "15. MATHS IS FUN\n",
        "You are required to implement the following function:\n",
        "int Calculate(int m, int n);\n",
        "The function accepts 2 positive integers ‘m’ and ‘n’ as its arguments.You\n",
        "are required to calculate the sum of numbers divisible both by 3 and 5,\n",
        "between ‘m’ and ‘n’ both inclusive and return the same.\n",
        "Note\n",
        "0 < m <= n\n",
        "Example\n",
        "Input:\n",
        "m : 12\n",
        "n : 50\n",
        "Output\n",
        "90\n",
        "Explanation:\n",
        "The numbers divisible by both 3 and 5, between 12 and 50 both\n",
        "inclusive are {15, 30, 45} and their sum is 90.\n",
        "Sample Input\n",
        "m : 100\n",
        "n : 160\n",
        "Sample Output\n",
        "510\"\"\"\n",
        "def maths_fun(m,n):\n",
        "  sum=0\n",
        "  if m<=n:\n",
        "    for i in range(m,n):\n",
        "      if i%3==0 and i%5==0:\n",
        "        sum+=i\n",
        "  return sum\n",
        "m=int(input())\n",
        "n=int(input())\n",
        "maths_fun(m,n)"
      ],
      "metadata": {
        "id": "y13Y2ET8uwML",
        "colab": {
          "base_uri": "https://localhost:8080/"
        },
        "outputId": "b0b8ab8c-3eed-467f-e1b9-80e5b7f88dec"
      },
      "execution_count": null,
      "outputs": [
        {
          "name": "stdout",
          "output_type": "stream",
          "text": [
            "100\n",
            "160\n"
          ]
        },
        {
          "output_type": "execute_result",
          "data": {
            "text/plain": [
              "510"
            ]
          },
          "metadata": {},
          "execution_count": 3
        }
      ]
    },
    {
      "cell_type": "code",
      "source": [
        "\"\"\"you are on a hiking trail representing by an array of length N.where the trail initially\n",
        " ascend and then descends forming a single peak your task is to find and return an integer value representing the elevation of the summit.\n",
        " i/p specification:\n",
        " take an array of A\n",
        " and n is the length of an array\n",
        " o/p specification:\n",
        " return an integer value represeenting the elevation of summit.\n",
        " ex1:{1,2,3,4,3,2,1}\n",
        " 7\n",
        " o/p=4\n",
        "\n",
        " ex2={5,3}\n",
        " 2\n",
        " o/p=5\n",
        "\"\"\"\n",
        "def peak(arr,n):\n",
        "  if n==0:\n",
        "    return None\n",
        "  if n==1:\n",
        "    return arr[0]\n",
        "  for i in range(n-1):\n",
        "    if arr[i]>arr[i+1]:\n",
        "      return arr[i]\n",
        "n=int(input())\n",
        "arr=list(map(int,input().split()))\n",
        "peak(arr,n)\n",
        "\n"
      ],
      "metadata": {
        "id": "qSIamEPsgJ-N",
        "colab": {
          "base_uri": "https://localhost:8080/"
        },
        "outputId": "d01dabd4-4132-40af-8a39-8a65cdbc0634"
      },
      "execution_count": null,
      "outputs": [
        {
          "name": "stdout",
          "output_type": "stream",
          "text": [
            "9\n",
            "7 8 9 10 11 10 9 8 7 \n"
          ]
        },
        {
          "output_type": "execute_result",
          "data": {
            "text/plain": [
              "11"
            ]
          },
          "metadata": {},
          "execution_count": 6
        }
      ]
    },
    {
      "cell_type": "code",
      "source": [
        "\"\"\"tom has a juice shop having m and n juice machines.m is big machine that makes juice for 100 customers and n is a small\n",
        "machine that makes juice for 4 customers.\n",
        "m consume spower x units of power while n consumes y units of power you task is to find and return an\n",
        " integer representing the minimum number of units of power of tom machine consume to p customers he can run any combination of m and n\n",
        " i/p=p is no of customer\n",
        " x is units of power in m machine\n",
        " y is units of power in n machine\n",
        "i/p:\n",
        "p=105\n",
        "x=80\n",
        "y=10\n",
        "o/p=100\n",
        " o/p=return an int value representing minimum units of power tom will use to serve p customers while any combination of m and n\n",
        "\"\"\"\n",
        "def minimum_power(p, x, y):\n",
        "    min_power = float('inf')  # Start with a large number for minimum power\n",
        "\n",
        "    # Loop through possible counts of big machines\n",
        "    for big_machines in range((p // 100) + 1):\n",
        "        customers_served_by_big = big_machines * 100\n",
        "        remaining_customers = p - customers_served_by_big\n",
        "\n",
        "        # Calculate the number of small machines needed\n",
        "        small_machines = (remaining_customers + 3) // 4  # +3 to round up\n",
        "\n",
        "        # Calculate total power consumption for this combination\n",
        "        total_power = big_machines * x + small_machines * y\n",
        "\n",
        "        # Update minimum power if this is the best combination found\n",
        "        min_power = min(min_power, total_power)\n",
        "\n",
        "    return min_power\n",
        "\n",
        "# Input\n",
        "p = 105  # Number of customers\n",
        "x = 80   # Power consumption of a big machine\n",
        "y = 10   # Power consumption of a small machine\n",
        "\n",
        "# Output\n",
        "print(minimum_power(p, x, y))  # Expected Output: 100\n"
      ],
      "metadata": {
        "colab": {
          "base_uri": "https://localhost:8080/"
        },
        "id": "SN0Px-LfLeU7",
        "outputId": "9574d8e4-e99c-438c-ff1e-96f82e3b82aa"
      },
      "execution_count": null,
      "outputs": [
        {
          "output_type": "stream",
          "name": "stdout",
          "text": [
            "100\n"
          ]
        }
      ]
    },
    {
      "cell_type": "code",
      "source": [
        "#18. Write a program to find all permutations of a string.\n",
        "def permutations(s):\n",
        "    if len(s) == 0:\n",
        "        return ['']\n",
        "    perm_list = []\n",
        "    for i in range(len(s)):\n",
        "        remaining = s[:i] + s[i+1:]\n",
        "        for perm in permutations(remaining):\n",
        "            perm_list.append(s[i] + perm)\n",
        "\n",
        "    return perm_list\n",
        "s = input()\n",
        "print(permutations(s))\n"
      ],
      "metadata": {
        "colab": {
          "base_uri": "https://localhost:8080/"
        },
        "id": "LDC7h679SJq8",
        "outputId": "e1bd468a-d071-419e-83cf-9d602bfbdca3"
      },
      "execution_count": null,
      "outputs": [
        {
          "output_type": "stream",
          "name": "stdout",
          "text": [
            "abcd\n",
            "['abcd', 'abdc', 'acbd', 'acdb', 'adbc', 'adcb', 'bacd', 'badc', 'bcad', 'bcda', 'bdac', 'bdca', 'cabd', 'cadb', 'cbad', 'cbda', 'cdab', 'cdba', 'dabc', 'dacb', 'dbac', 'dbca', 'dcab', 'dcba']\n"
          ]
        }
      ]
    },
    {
      "cell_type": "code",
      "source": [
        "#17. Write a program to find the length of the longest palindrome subsequence in a string.\n",
        "def palindrome(str):\n",
        "  d=str[::-1]\n",
        "  if d==str:\n",
        "    return True\n",
        "  else:\n",
        "    return False\n",
        "\n",
        "\n",
        "\n",
        "def longest_palindrome(str):\n",
        "  for i"
      ],
      "metadata": {
        "id": "0VWz7cfxXIQ2"
      },
      "execution_count": null,
      "outputs": []
    },
    {
      "cell_type": "code",
      "source": [
        "\"\"\"\n",
        "frequency count\n",
        "given the string,find the frequency of each character in it.\n",
        "the input string contains only lowercase letter .the output string should\n",
        "contains a letter followed by its frequency ,in the alphabetical order(from a-z)\n",
        "i/p=babdc\n",
        "o/p=a1b2c1d1\n",
        "\n",
        "i/p=cbd\n",
        "o/p=b1c1d1\"\"\"\n",
        "def frequency_count(str):\n",
        "  freq_count={chr(i):0 for i in range(97,123)}\n",
        "  for i in str:\n",
        "    freq_count[i]+=1\n",
        "  output_str=''\n",
        "  for i in sorted(freq_count):\n",
        "    if freq_count[i]>0:\n",
        "      output_str+=f\"{i}{freq_count[i]}\"\n",
        "  return output_str\n",
        "s=input()\n",
        "frequency_count(s)\n"
      ],
      "metadata": {
        "colab": {
          "base_uri": "https://localhost:8080/",
          "height": 52
        },
        "id": "wXOH0DDOe2gj",
        "outputId": "84304f17-c8cd-40e0-b6ca-3b8e3b45170f"
      },
      "execution_count": null,
      "outputs": [
        {
          "name": "stdout",
          "output_type": "stream",
          "text": [
            "wwsasaswdw\n"
          ]
        },
        {
          "output_type": "execute_result",
          "data": {
            "text/plain": [
              "'a2d1s3w4'"
            ],
            "application/vnd.google.colaboratory.intrinsic+json": {
              "type": "string"
            }
          },
          "metadata": {},
          "execution_count": 9
        }
      ]
    },
    {
      "cell_type": "code",
      "source": [
        "\"\"\"nth character in decrypted string\n",
        "every character in the input string is followed by its frequency.\n",
        "write a function to decrypted the string and find nth character of the decrypted string if no character exists at the position then return \"-1\n",
        "for example:if the input string is a2b3,the decrypted string will be aabbb\n",
        "note:the frequency of encrypted string cannot be greater than single digit i.e<10.\n",
        "ex:\n",
        "i/p=a2b2c2d1\n",
        "i/p2=5\n",
        "\n",
        "o/p=c\n",
        "\"\"\n"
      ],
      "metadata": {
        "id": "GdBcE7ohgdlc"
      },
      "execution_count": null,
      "outputs": []
    },
    {
      "cell_type": "code",
      "source": [
        "\"\"\"you are given array A having some dividends further you are given 3 numbers D,Q AND R.A is dividend can be found using a rule that states.\n",
        "dividend=divisor*quotient+remainder\n",
        "your task is to find and return inetger value representing the index of the dividend.\n",
        "if present in array.if dividend not found return -1\n",
        "i/p=A=[15,10,30,25,50]\n",
        "D=5\n",
        "Q=2\n",
        "R=5\n",
        "\n",
        "o/p=0 index\n",
        "explanation=the dividend 15 is present at index 0 in the array A,so the function returns 0\n",
        "5*2+5=15\"\"\"\n",
        "\n",
        "\n",
        "def navya(arr,d,q,r):\n",
        "  p=[]\n",
        "  div=d*q+r\n",
        "  for i in range(len(arr)):\n",
        "    if div==arr[i]:\n",
        "      p.append(i)\n",
        "  return p\n",
        "\n",
        "\n",
        "\n",
        "arr=list(map(int,input().split()))\n",
        "d=int(input())\n",
        "q=int(input())\n",
        "r=int(input())\n",
        "navya(arr,d,q,r)"
      ],
      "metadata": {
        "colab": {
          "base_uri": "https://localhost:8080/"
        },
        "id": "7EX1od-QClUE",
        "outputId": "2db3d197-b901-4f9a-ee76-58dae292ef4b"
      },
      "execution_count": null,
      "outputs": [
        {
          "name": "stdout",
          "output_type": "stream",
          "text": [
            "10 20 15 30 25 15\n",
            "5\n",
            "2\n",
            "5\n"
          ]
        },
        {
          "output_type": "execute_result",
          "data": {
            "text/plain": [
              "[2, 5]"
            ]
          },
          "metadata": {},
          "execution_count": 8
        }
      ]
    },
    {
      "cell_type": "code",
      "source": [
        "\"\"\"bob goes to super market to shop candies represented by an array A for halloween party ,his mother gave hime some money\n",
        "M.due to the festive season there are several offers in the supermarket. one such offer useful for bob is it,if the price of\n",
        "the candy is a multiple of 5 he can but it without spending any money equal to a which is the\n",
        "price of a particular candy bob can shop as long as he has money .your task is to find and return the maximum number of candies bob can buy.\n",
        "\n",
        "note:assume 1-based indexing\n",
        "i/p arr=[5,10,12,15,7,6]\n",
        "m=20\n",
        "\n",
        "o/p=5\"\"\"\n",
        "\n",
        "def candies(arr,m):\n",
        "  count=0\n",
        "  for i in arr:\n",
        "    if i%5==0:\n",
        "      count+=1\n",
        "    elif i<=m:\n",
        "      count+=1\n",
        "      m-=i\n",
        "  return count\n",
        "\n",
        "arr=list(map(int,input().split()))\n",
        "m=int(input())\n",
        "candies(arr,m)"
      ],
      "metadata": {
        "colab": {
          "base_uri": "https://localhost:8080/"
        },
        "id": "nCv5hyM8El4R",
        "outputId": "14ac57b5-fe62-4f68-d54c-3d68b2a6f1da"
      },
      "execution_count": null,
      "outputs": [
        {
          "name": "stdout",
          "output_type": "stream",
          "text": [
            "24 435 4433 32 45 43422545\n",
            "23232343445\n"
          ]
        },
        {
          "output_type": "execute_result",
          "data": {
            "text/plain": [
              "6"
            ]
          },
          "metadata": {},
          "execution_count": 13
        }
      ]
    },
    {
      "cell_type": "code",
      "source": [
        "\"\"\"john is trying to determine wheather a number is prime for a math project a prime number is defined as a number greater\n",
        "than 1 that has no divisors other than 1 and itself he needs to write a program that checks if a given number is prime .\n",
        "if the number is prime the program should ouput 1,otherwise it should output 0.help john by writing a program that reads an integer n and\n",
        "prints 1 if it is a prime number and 0 if it is not.\n",
        "i/p=a single integer n\n",
        "\n",
        "output\n",
        "print 1 if n is a prime numbre\n",
        "print 0 if n is not a prime number\"\"\"\n",
        "\n",
        "def prime(n):\n",
        "  for i in range(2,n):\n",
        "    if n%i==0:\n",
        "      return 0\n",
        "      break\n",
        "  return 1\n",
        "n=int(input())\n",
        "prime(n)"
      ],
      "metadata": {
        "colab": {
          "base_uri": "https://localhost:8080/"
        },
        "id": "HwQ9tmpBJAOn",
        "outputId": "a4cd39c7-b9d1-4b12-a018-60b5c992fe24"
      },
      "execution_count": null,
      "outputs": [
        {
          "name": "stdout",
          "output_type": "stream",
          "text": [
            "5\n"
          ]
        },
        {
          "output_type": "execute_result",
          "data": {
            "text/plain": [
              "1"
            ]
          },
          "metadata": {},
          "execution_count": 16
        }
      ]
    },
    {
      "cell_type": "code",
      "source": [
        "\"\"\"a young boy finds it difficult to read words that are morethan 10 letters long.\n",
        "to help him you need o write a program that shortens such words specifically for any words longer than\n",
        "10 letters the program should convert it into a format where only the first letter the number\n",
        "of letter in between and the last letter are kept for example the word \"demonstration\" becomes d11n.\n",
        "your task is to implement and produce a modified sentence according to the rules described\n",
        "i/p=\n",
        "a single string sentence that contains words separted by spaces\n",
        "\n",
        "o/p=an modified string where words longer than 10 letters are shortened as described.\n",
        "\n",
        "example:\n",
        "i/p=the demonstration of government laws makes it difficult to understand\n",
        "o/p=the d11n of g8t laws makes it d7t to u8d \"\"\"\n",
        "\n",
        "def thikka(s):\n",
        "  d=[]\n",
        "  for i in s:\n",
        "    if len(i)>=9:\n",
        "      t=i[0]+str(len(i)-2)+i[-1]\n",
        "      d.append(t)\n",
        "    else:\n",
        "      d.append(i)\n",
        "  return ' '.join(d)\n",
        "\n",
        "\n",
        "\n",
        "s=input().split()\n",
        "thikka(s)"
      ],
      "metadata": {
        "colab": {
          "base_uri": "https://localhost:8080/",
          "height": 52
        },
        "id": "FsdePfp9NMOK",
        "outputId": "517b31d8-8df0-46aa-90f7-d58a95f0904a"
      },
      "execution_count": null,
      "outputs": [
        {
          "name": "stdout",
          "output_type": "stream",
          "text": [
            "the demonstration of government laws makes it difficult to understand\n"
          ]
        },
        {
          "output_type": "execute_result",
          "data": {
            "text/plain": [
              "'the d11n of g8t laws makes it d7t to u8d'"
            ],
            "application/vnd.google.colaboratory.intrinsic+json": {
              "type": "string"
            }
          },
          "metadata": {},
          "execution_count": 25
        }
      ]
    },
    {
      "cell_type": "code",
      "source": [
        "\"\"\"write a program in c to diaplay the table of a number and print the sum of all the multiples in it.\"\"\"\n",
        "def multiple(n):\n",
        "  sum=0\n",
        "  for i in range(1,11):\n",
        "    p=i*n\n",
        "    sum+=p\n",
        "    print(p,end=\" \")\n",
        "  return sum\n",
        "n=int(input())\n",
        "multiple(n)"
      ],
      "metadata": {
        "id": "c2KWa34JVCrO",
        "colab": {
          "base_uri": "https://localhost:8080/"
        },
        "outputId": "a11353d9-0793-4b66-c957-b0af03ddbcc5"
      },
      "execution_count": null,
      "outputs": [
        {
          "output_type": "stream",
          "name": "stdout",
          "text": [
            "5\n",
            "5 10 15 20 25 30 35 40 45 50 "
          ]
        },
        {
          "output_type": "execute_result",
          "data": {
            "text/plain": [
              "275"
            ]
          },
          "metadata": {},
          "execution_count": 3
        }
      ]
    },
    {
      "cell_type": "code",
      "source": [
        "\"\"\"alice has a peculiar fondness for string without any interruption she consider a comma \",\" as an interruption you\n",
        "are given a string s and you task is to find and return the length of the longest uninterrupted substring to match alices\n",
        "fondness\n",
        "i/p=a string value s\n",
        "o/p=return an int value representing the length of the longest fondness\n",
        "\n",
        "i/p=abc,b,cc\n",
        "o/p=3\n",
        "explanation={abc,b,cc}longest substring is abc length is 3\"\"\"\n",
        "def fondness(s):\n",
        "  p=0\n",
        "  for i in s:\n",
        "    p= max(len(i),p)\n",
        "  return p\n",
        "s=input().split(\",\")\n",
        "fondness(s)"
      ],
      "metadata": {
        "colab": {
          "base_uri": "https://localhost:8080/"
        },
        "id": "Piw0NMyjqrZY",
        "outputId": "e5cc01ca-3f03-4926-f58d-1cab8f279ee7"
      },
      "execution_count": null,
      "outputs": [
        {
          "name": "stdout",
          "output_type": "stream",
          "text": [
            "dnjdjs,fnkvnfv,ekfekfke\n"
          ]
        },
        {
          "output_type": "execute_result",
          "data": {
            "text/plain": [
              "8"
            ]
          },
          "metadata": {},
          "execution_count": 10
        }
      ]
    },
    {
      "cell_type": "code",
      "source": [
        "\"\"\"in atech startup the teamlead faced a software bug the zeros in their data output were causing their system to crash\n",
        "a junior developer suggested replacing all the 0's with 5's as a quick by implementing this simple code tweak,they stabilized the system\n",
        "your task is to ind and return an integer value representing the value that stabilizes the system.\n",
        "i/p=an integer value\n",
        "o/p=return integer value representing the value that stabilizes the system.\n",
        "\n",
        "i/p=100067\n",
        "o/p=155567\"\"\"\n",
        "def bug(n):\n",
        "  return n.replace(\"0\",\"5\")\n",
        "n=input()\n",
        "bug(n)"
      ],
      "metadata": {
        "colab": {
          "base_uri": "https://localhost:8080/",
          "height": 52
        },
        "id": "e0xgguntu5Y6",
        "outputId": "3dd9d501-f251-48c6-92a5-7c96e528c9d4"
      },
      "execution_count": null,
      "outputs": [
        {
          "name": "stdout",
          "output_type": "stream",
          "text": [
            "100067\n"
          ]
        },
        {
          "output_type": "execute_result",
          "data": {
            "text/plain": [
              "'155567'"
            ],
            "application/vnd.google.colaboratory.intrinsic+json": {
              "type": "string"
            }
          },
          "metadata": {},
          "execution_count": 12
        }
      ]
    },
    {
      "cell_type": "code",
      "source": [
        "\"\"\"bouncing ball\n",
        "return no of distance the ball travels\n",
        "formula:h*pow(en,2)\n",
        "en=velocity /no of bounce\n",
        "i/p=height=10\n",
        "velocity=20\n",
        "bounce=5\n",
        "o/p=160\"\"\"\n",
        "def bounce(h,v,b):\n",
        "  en=v//b\n",
        "  return h*pow(en,2)\n",
        "h=int(input())\n",
        "v=int(input())\n",
        "b=int(input())\n",
        "bounce(h,v,b)"
      ],
      "metadata": {
        "colab": {
          "base_uri": "https://localhost:8080/"
        },
        "id": "zJFQq7B0weCG",
        "outputId": "6416017e-dc63-4ba1-8ed1-a161fed8faba"
      },
      "execution_count": null,
      "outputs": [
        {
          "name": "stdout",
          "output_type": "stream",
          "text": [
            "10\n",
            "20\n",
            "5\n"
          ]
        },
        {
          "output_type": "execute_result",
          "data": {
            "text/plain": [
              "160"
            ]
          },
          "metadata": {},
          "execution_count": 13
        }
      ]
    },
    {
      "cell_type": "code",
      "source": [],
      "metadata": {
        "id": "r5vSIGrYygbV"
      },
      "execution_count": null,
      "outputs": []
    }
  ],
  "metadata": {
    "colab": {
      "provenance": []
    },
    "kernelspec": {
      "display_name": "Python 3",
      "name": "python3"
    },
    "language_info": {
      "name": "python"
    }
  },
  "nbformat": 4,
  "nbformat_minor": 0
}